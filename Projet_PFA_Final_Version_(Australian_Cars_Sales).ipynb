{
  "nbformat": 4,
  "nbformat_minor": 0,
  "metadata": {
    "colab": {
      "provenance": []
    },
    "kernelspec": {
      "name": "python3",
      "display_name": "Python 3"
    },
    "language_info": {
      "name": "python"
    }
  },
  "cells": [
    {
      "cell_type": "code",
      "execution_count": null,
      "metadata": {
        "id": "BiQJhE5kwVKE"
      },
      "outputs": [],
      "source": [
        "import pandas as pd #utilisé pour manipuler et analyser des données tabulaires en Python.\n",
        "import numpy as np #Pour la Transformation (les calcules numériques)\n",
        "import seaborn as sns #est utilisé pour créer des visualisations statistiques attrayantes.\n",
        "import matplotlib.pyplot as plt # créer des graphiques et des visualisations personnalisées dans Python."
      ]
    },
    {
      "cell_type": "code",
      "source": [
        "df = pd.read_csv(\"/content/sample_data/Australian Vehicle Prices.csv\") #variable qui contient les données et des connaisances sur les données (métadonnées)"
      ],
      "metadata": {
        "id": "k6FD8HrZw3_K"
      },
      "execution_count": null,
      "outputs": []
    },
    {
      "cell_type": "markdown",
      "source": [
        "**---> | Data Cleaning**\n"
      ],
      "metadata": {
        "id": "Fx1CcqX0zjAm"
      }
    },
    {
      "cell_type": "code",
      "source": [
        "df.head(10)  #Affiche les 10 premières lignes du DataFrame"
      ],
      "metadata": {
        "colab": {
          "base_uri": "https://localhost:8080/",
          "height": 938
        },
        "id": "A7kuGCUqxD9O",
        "outputId": "c96a8233-e826-4124-9aec-3299f659b162"
      },
      "execution_count": null,
      "outputs": [
        {
          "output_type": "execute_result",
          "data": {
            "text/plain": [
              "           Brand    Year   Model               Car/Suv  \\\n",
              "0      Ssangyong  2022.0  Rexton  Sutherland Isuzu Ute   \n",
              "1             MG  2022.0     MG3             Hatchback   \n",
              "2            BMW  2022.0    430I                 Coupe   \n",
              "3  Mercedes-Benz  2011.0    E500                 Coupe   \n",
              "4        Renault  2022.0  Arkana                   SUV   \n",
              "5         Toyota  2004.0  Estima        ON FOUR WHEELS   \n",
              "6           Land  2017.0   Rover                   SUV   \n",
              "7         Nissan  2000.0  Pulsar             Hatchback   \n",
              "8         Toyota  2013.0      86                 Coupe   \n",
              "9          Honda  2014.0    Jazz             Hatchback   \n",
              "\n",
              "                                               Title UsedOrNew Transmission  \\\n",
              "0               2022 Ssangyong Rexton Ultimate (awd)      DEMO    Automatic   \n",
              "1          2022 MG MG3 Auto Excite (with Navigation)      USED    Automatic   \n",
              "2                              2022 BMW 430I M Sport      USED    Automatic   \n",
              "3                   2011 Mercedes-Benz E500 Elegance      USED    Automatic   \n",
              "4                         2022 Renault Arkana Intens      USED    Automatic   \n",
              "5                       2004 Toyota Estima T EDITION      USED    Automatic   \n",
              "6  2017 Land Rover Range Rover Evoque TD4 180 HSE...      USED    Automatic   \n",
              "7                              2000 Nissan Pulsar LX      USED    Automatic   \n",
              "8                                  2013 Toyota 86 GT      USED    Automatic   \n",
              "9                             2014 Honda Jazz Hybrid      USED    Automatic   \n",
              "\n",
              "         Engine DriveType  FuelType FuelConsumption Kilometres   ColourExtInt  \\\n",
              "0  4 cyl, 2.2 L       AWD    Diesel  8.7 L / 100 km       5595  White / Black   \n",
              "1  4 cyl, 1.5 L     Front   Premium  6.7 L / 100 km         16  Black / Black   \n",
              "2    4 cyl, 2 L      Rear   Premium  6.6 L / 100 km       8472   Grey / White   \n",
              "3  8 cyl, 5.5 L      Rear   Premium   11 L / 100 km     136517  White / Brown   \n",
              "4  4 cyl, 1.3 L     Front  Unleaded    6 L / 100 km       1035   Grey / Black   \n",
              "5             -     Other  Unleaded               -     160230       Grey / -   \n",
              "6    4 cyl, 2 L       AWD    Diesel  5.1 L / 100 km      67662  White / Black   \n",
              "7  4 cyl, 1.6 L     Front  Unleaded    8 L / 100 km     300539     Red / Grey   \n",
              "8    4 cyl, 2 L      Rear   Premium  7.1 L / 100 km      82012      Black / -   \n",
              "9  4 cyl, 1.3 L     Front    Hybrid  4.5 L / 100 km      38229       Blue / -   \n",
              "\n",
              "              Location CylindersinEngine    BodyType     Doors     Seats  \\\n",
              "0       Caringbah, NSW             4 cyl         SUV   4 Doors   7 Seats   \n",
              "1       Brookvale, NSW             4 cyl   Hatchback   5 Doors   5 Seats   \n",
              "2        Sylvania, NSW             4 cyl       Coupe   2 Doors   4 Seats   \n",
              "3    Mount Druitt, NSW             8 cyl       Coupe   2 Doors   4 Seats   \n",
              "4     Castle Hill, NSW             4 cyl         SUV   4 Doors   5 Seats   \n",
              "5     Saint Marys, NSW                 -  Commercial       NaN       NaN   \n",
              "6       Blacktown, NSW             4 cyl         SUV   2 Doors   4 Seats   \n",
              "7  Wentworthville, NSW             4 cyl   Hatchback   5 Doors   5 Seats   \n",
              "8   Mcgraths Hill, NSW             4 cyl       Coupe   2 Doors   4 Seats   \n",
              "9        Lidcombe, NSW             4 cyl   Hatchback   5 Doors   5 Seats   \n",
              "\n",
              "    Price  \n",
              "0   51990  \n",
              "1   19990  \n",
              "2  108988  \n",
              "3   32990  \n",
              "4   34990  \n",
              "5    9990  \n",
              "6   62280  \n",
              "7    2995  \n",
              "8   24888  \n",
              "9   17900  "
            ],
            "text/html": [
              "\n",
              "  <div id=\"df-00331fa5-8f6a-4843-9cd2-64eacf2edaa8\" class=\"colab-df-container\">\n",
              "    <div>\n",
              "<style scoped>\n",
              "    .dataframe tbody tr th:only-of-type {\n",
              "        vertical-align: middle;\n",
              "    }\n",
              "\n",
              "    .dataframe tbody tr th {\n",
              "        vertical-align: top;\n",
              "    }\n",
              "\n",
              "    .dataframe thead th {\n",
              "        text-align: right;\n",
              "    }\n",
              "</style>\n",
              "<table border=\"1\" class=\"dataframe\">\n",
              "  <thead>\n",
              "    <tr style=\"text-align: right;\">\n",
              "      <th></th>\n",
              "      <th>Brand</th>\n",
              "      <th>Year</th>\n",
              "      <th>Model</th>\n",
              "      <th>Car/Suv</th>\n",
              "      <th>Title</th>\n",
              "      <th>UsedOrNew</th>\n",
              "      <th>Transmission</th>\n",
              "      <th>Engine</th>\n",
              "      <th>DriveType</th>\n",
              "      <th>FuelType</th>\n",
              "      <th>FuelConsumption</th>\n",
              "      <th>Kilometres</th>\n",
              "      <th>ColourExtInt</th>\n",
              "      <th>Location</th>\n",
              "      <th>CylindersinEngine</th>\n",
              "      <th>BodyType</th>\n",
              "      <th>Doors</th>\n",
              "      <th>Seats</th>\n",
              "      <th>Price</th>\n",
              "    </tr>\n",
              "  </thead>\n",
              "  <tbody>\n",
              "    <tr>\n",
              "      <th>0</th>\n",
              "      <td>Ssangyong</td>\n",
              "      <td>2022.0</td>\n",
              "      <td>Rexton</td>\n",
              "      <td>Sutherland Isuzu Ute</td>\n",
              "      <td>2022 Ssangyong Rexton Ultimate (awd)</td>\n",
              "      <td>DEMO</td>\n",
              "      <td>Automatic</td>\n",
              "      <td>4 cyl, 2.2 L</td>\n",
              "      <td>AWD</td>\n",
              "      <td>Diesel</td>\n",
              "      <td>8.7 L / 100 km</td>\n",
              "      <td>5595</td>\n",
              "      <td>White / Black</td>\n",
              "      <td>Caringbah, NSW</td>\n",
              "      <td>4 cyl</td>\n",
              "      <td>SUV</td>\n",
              "      <td>4 Doors</td>\n",
              "      <td>7 Seats</td>\n",
              "      <td>51990</td>\n",
              "    </tr>\n",
              "    <tr>\n",
              "      <th>1</th>\n",
              "      <td>MG</td>\n",
              "      <td>2022.0</td>\n",
              "      <td>MG3</td>\n",
              "      <td>Hatchback</td>\n",
              "      <td>2022 MG MG3 Auto Excite (with Navigation)</td>\n",
              "      <td>USED</td>\n",
              "      <td>Automatic</td>\n",
              "      <td>4 cyl, 1.5 L</td>\n",
              "      <td>Front</td>\n",
              "      <td>Premium</td>\n",
              "      <td>6.7 L / 100 km</td>\n",
              "      <td>16</td>\n",
              "      <td>Black / Black</td>\n",
              "      <td>Brookvale, NSW</td>\n",
              "      <td>4 cyl</td>\n",
              "      <td>Hatchback</td>\n",
              "      <td>5 Doors</td>\n",
              "      <td>5 Seats</td>\n",
              "      <td>19990</td>\n",
              "    </tr>\n",
              "    <tr>\n",
              "      <th>2</th>\n",
              "      <td>BMW</td>\n",
              "      <td>2022.0</td>\n",
              "      <td>430I</td>\n",
              "      <td>Coupe</td>\n",
              "      <td>2022 BMW 430I M Sport</td>\n",
              "      <td>USED</td>\n",
              "      <td>Automatic</td>\n",
              "      <td>4 cyl, 2 L</td>\n",
              "      <td>Rear</td>\n",
              "      <td>Premium</td>\n",
              "      <td>6.6 L / 100 km</td>\n",
              "      <td>8472</td>\n",
              "      <td>Grey / White</td>\n",
              "      <td>Sylvania, NSW</td>\n",
              "      <td>4 cyl</td>\n",
              "      <td>Coupe</td>\n",
              "      <td>2 Doors</td>\n",
              "      <td>4 Seats</td>\n",
              "      <td>108988</td>\n",
              "    </tr>\n",
              "    <tr>\n",
              "      <th>3</th>\n",
              "      <td>Mercedes-Benz</td>\n",
              "      <td>2011.0</td>\n",
              "      <td>E500</td>\n",
              "      <td>Coupe</td>\n",
              "      <td>2011 Mercedes-Benz E500 Elegance</td>\n",
              "      <td>USED</td>\n",
              "      <td>Automatic</td>\n",
              "      <td>8 cyl, 5.5 L</td>\n",
              "      <td>Rear</td>\n",
              "      <td>Premium</td>\n",
              "      <td>11 L / 100 km</td>\n",
              "      <td>136517</td>\n",
              "      <td>White / Brown</td>\n",
              "      <td>Mount Druitt, NSW</td>\n",
              "      <td>8 cyl</td>\n",
              "      <td>Coupe</td>\n",
              "      <td>2 Doors</td>\n",
              "      <td>4 Seats</td>\n",
              "      <td>32990</td>\n",
              "    </tr>\n",
              "    <tr>\n",
              "      <th>4</th>\n",
              "      <td>Renault</td>\n",
              "      <td>2022.0</td>\n",
              "      <td>Arkana</td>\n",
              "      <td>SUV</td>\n",
              "      <td>2022 Renault Arkana Intens</td>\n",
              "      <td>USED</td>\n",
              "      <td>Automatic</td>\n",
              "      <td>4 cyl, 1.3 L</td>\n",
              "      <td>Front</td>\n",
              "      <td>Unleaded</td>\n",
              "      <td>6 L / 100 km</td>\n",
              "      <td>1035</td>\n",
              "      <td>Grey / Black</td>\n",
              "      <td>Castle Hill, NSW</td>\n",
              "      <td>4 cyl</td>\n",
              "      <td>SUV</td>\n",
              "      <td>4 Doors</td>\n",
              "      <td>5 Seats</td>\n",
              "      <td>34990</td>\n",
              "    </tr>\n",
              "    <tr>\n",
              "      <th>5</th>\n",
              "      <td>Toyota</td>\n",
              "      <td>2004.0</td>\n",
              "      <td>Estima</td>\n",
              "      <td>ON FOUR WHEELS</td>\n",
              "      <td>2004 Toyota Estima T EDITION</td>\n",
              "      <td>USED</td>\n",
              "      <td>Automatic</td>\n",
              "      <td>-</td>\n",
              "      <td>Other</td>\n",
              "      <td>Unleaded</td>\n",
              "      <td>-</td>\n",
              "      <td>160230</td>\n",
              "      <td>Grey / -</td>\n",
              "      <td>Saint Marys, NSW</td>\n",
              "      <td>-</td>\n",
              "      <td>Commercial</td>\n",
              "      <td>NaN</td>\n",
              "      <td>NaN</td>\n",
              "      <td>9990</td>\n",
              "    </tr>\n",
              "    <tr>\n",
              "      <th>6</th>\n",
              "      <td>Land</td>\n",
              "      <td>2017.0</td>\n",
              "      <td>Rover</td>\n",
              "      <td>SUV</td>\n",
              "      <td>2017 Land Rover Range Rover Evoque TD4 180 HSE...</td>\n",
              "      <td>USED</td>\n",
              "      <td>Automatic</td>\n",
              "      <td>4 cyl, 2 L</td>\n",
              "      <td>AWD</td>\n",
              "      <td>Diesel</td>\n",
              "      <td>5.1 L / 100 km</td>\n",
              "      <td>67662</td>\n",
              "      <td>White / Black</td>\n",
              "      <td>Blacktown, NSW</td>\n",
              "      <td>4 cyl</td>\n",
              "      <td>SUV</td>\n",
              "      <td>2 Doors</td>\n",
              "      <td>4 Seats</td>\n",
              "      <td>62280</td>\n",
              "    </tr>\n",
              "    <tr>\n",
              "      <th>7</th>\n",
              "      <td>Nissan</td>\n",
              "      <td>2000.0</td>\n",
              "      <td>Pulsar</td>\n",
              "      <td>Hatchback</td>\n",
              "      <td>2000 Nissan Pulsar LX</td>\n",
              "      <td>USED</td>\n",
              "      <td>Automatic</td>\n",
              "      <td>4 cyl, 1.6 L</td>\n",
              "      <td>Front</td>\n",
              "      <td>Unleaded</td>\n",
              "      <td>8 L / 100 km</td>\n",
              "      <td>300539</td>\n",
              "      <td>Red / Grey</td>\n",
              "      <td>Wentworthville, NSW</td>\n",
              "      <td>4 cyl</td>\n",
              "      <td>Hatchback</td>\n",
              "      <td>5 Doors</td>\n",
              "      <td>5 Seats</td>\n",
              "      <td>2995</td>\n",
              "    </tr>\n",
              "    <tr>\n",
              "      <th>8</th>\n",
              "      <td>Toyota</td>\n",
              "      <td>2013.0</td>\n",
              "      <td>86</td>\n",
              "      <td>Coupe</td>\n",
              "      <td>2013 Toyota 86 GT</td>\n",
              "      <td>USED</td>\n",
              "      <td>Automatic</td>\n",
              "      <td>4 cyl, 2 L</td>\n",
              "      <td>Rear</td>\n",
              "      <td>Premium</td>\n",
              "      <td>7.1 L / 100 km</td>\n",
              "      <td>82012</td>\n",
              "      <td>Black / -</td>\n",
              "      <td>Mcgraths Hill, NSW</td>\n",
              "      <td>4 cyl</td>\n",
              "      <td>Coupe</td>\n",
              "      <td>2 Doors</td>\n",
              "      <td>4 Seats</td>\n",
              "      <td>24888</td>\n",
              "    </tr>\n",
              "    <tr>\n",
              "      <th>9</th>\n",
              "      <td>Honda</td>\n",
              "      <td>2014.0</td>\n",
              "      <td>Jazz</td>\n",
              "      <td>Hatchback</td>\n",
              "      <td>2014 Honda Jazz Hybrid</td>\n",
              "      <td>USED</td>\n",
              "      <td>Automatic</td>\n",
              "      <td>4 cyl, 1.3 L</td>\n",
              "      <td>Front</td>\n",
              "      <td>Hybrid</td>\n",
              "      <td>4.5 L / 100 km</td>\n",
              "      <td>38229</td>\n",
              "      <td>Blue / -</td>\n",
              "      <td>Lidcombe, NSW</td>\n",
              "      <td>4 cyl</td>\n",
              "      <td>Hatchback</td>\n",
              "      <td>5 Doors</td>\n",
              "      <td>5 Seats</td>\n",
              "      <td>17900</td>\n",
              "    </tr>\n",
              "  </tbody>\n",
              "</table>\n",
              "</div>\n",
              "    <div class=\"colab-df-buttons\">\n",
              "\n",
              "  <div class=\"colab-df-container\">\n",
              "    <button class=\"colab-df-convert\" onclick=\"convertToInteractive('df-00331fa5-8f6a-4843-9cd2-64eacf2edaa8')\"\n",
              "            title=\"Convert this dataframe to an interactive table.\"\n",
              "            style=\"display:none;\">\n",
              "\n",
              "  <svg xmlns=\"http://www.w3.org/2000/svg\" height=\"24px\" viewBox=\"0 -960 960 960\">\n",
              "    <path d=\"M120-120v-720h720v720H120Zm60-500h600v-160H180v160Zm220 220h160v-160H400v160Zm0 220h160v-160H400v160ZM180-400h160v-160H180v160Zm440 0h160v-160H620v160ZM180-180h160v-160H180v160Zm440 0h160v-160H620v160Z\"/>\n",
              "  </svg>\n",
              "    </button>\n",
              "\n",
              "  <style>\n",
              "    .colab-df-container {\n",
              "      display:flex;\n",
              "      gap: 12px;\n",
              "    }\n",
              "\n",
              "    .colab-df-convert {\n",
              "      background-color: #E8F0FE;\n",
              "      border: none;\n",
              "      border-radius: 50%;\n",
              "      cursor: pointer;\n",
              "      display: none;\n",
              "      fill: #1967D2;\n",
              "      height: 32px;\n",
              "      padding: 0 0 0 0;\n",
              "      width: 32px;\n",
              "    }\n",
              "\n",
              "    .colab-df-convert:hover {\n",
              "      background-color: #E2EBFA;\n",
              "      box-shadow: 0px 1px 2px rgba(60, 64, 67, 0.3), 0px 1px 3px 1px rgba(60, 64, 67, 0.15);\n",
              "      fill: #174EA6;\n",
              "    }\n",
              "\n",
              "    .colab-df-buttons div {\n",
              "      margin-bottom: 4px;\n",
              "    }\n",
              "\n",
              "    [theme=dark] .colab-df-convert {\n",
              "      background-color: #3B4455;\n",
              "      fill: #D2E3FC;\n",
              "    }\n",
              "\n",
              "    [theme=dark] .colab-df-convert:hover {\n",
              "      background-color: #434B5C;\n",
              "      box-shadow: 0px 1px 3px 1px rgba(0, 0, 0, 0.15);\n",
              "      filter: drop-shadow(0px 1px 2px rgba(0, 0, 0, 0.3));\n",
              "      fill: #FFFFFF;\n",
              "    }\n",
              "  </style>\n",
              "\n",
              "    <script>\n",
              "      const buttonEl =\n",
              "        document.querySelector('#df-00331fa5-8f6a-4843-9cd2-64eacf2edaa8 button.colab-df-convert');\n",
              "      buttonEl.style.display =\n",
              "        google.colab.kernel.accessAllowed ? 'block' : 'none';\n",
              "\n",
              "      async function convertToInteractive(key) {\n",
              "        const element = document.querySelector('#df-00331fa5-8f6a-4843-9cd2-64eacf2edaa8');\n",
              "        const dataTable =\n",
              "          await google.colab.kernel.invokeFunction('convertToInteractive',\n",
              "                                                    [key], {});\n",
              "        if (!dataTable) return;\n",
              "\n",
              "        const docLinkHtml = 'Like what you see? Visit the ' +\n",
              "          '<a target=\"_blank\" href=https://colab.research.google.com/notebooks/data_table.ipynb>data table notebook</a>'\n",
              "          + ' to learn more about interactive tables.';\n",
              "        element.innerHTML = '';\n",
              "        dataTable['output_type'] = 'display_data';\n",
              "        await google.colab.output.renderOutput(dataTable, element);\n",
              "        const docLink = document.createElement('div');\n",
              "        docLink.innerHTML = docLinkHtml;\n",
              "        element.appendChild(docLink);\n",
              "      }\n",
              "    </script>\n",
              "  </div>\n",
              "\n",
              "\n",
              "<div id=\"df-41f9fb54-ab08-4b28-99a5-c3a0147e8dac\">\n",
              "  <button class=\"colab-df-quickchart\" onclick=\"quickchart('df-41f9fb54-ab08-4b28-99a5-c3a0147e8dac')\"\n",
              "            title=\"Suggest charts\"\n",
              "            style=\"display:none;\">\n",
              "\n",
              "<svg xmlns=\"http://www.w3.org/2000/svg\" height=\"24px\"viewBox=\"0 0 24 24\"\n",
              "     width=\"24px\">\n",
              "    <g>\n",
              "        <path d=\"M19 3H5c-1.1 0-2 .9-2 2v14c0 1.1.9 2 2 2h14c1.1 0 2-.9 2-2V5c0-1.1-.9-2-2-2zM9 17H7v-7h2v7zm4 0h-2V7h2v10zm4 0h-2v-4h2v4z\"/>\n",
              "    </g>\n",
              "</svg>\n",
              "  </button>\n",
              "\n",
              "<style>\n",
              "  .colab-df-quickchart {\n",
              "      --bg-color: #E8F0FE;\n",
              "      --fill-color: #1967D2;\n",
              "      --hover-bg-color: #E2EBFA;\n",
              "      --hover-fill-color: #174EA6;\n",
              "      --disabled-fill-color: #AAA;\n",
              "      --disabled-bg-color: #DDD;\n",
              "  }\n",
              "\n",
              "  [theme=dark] .colab-df-quickchart {\n",
              "      --bg-color: #3B4455;\n",
              "      --fill-color: #D2E3FC;\n",
              "      --hover-bg-color: #434B5C;\n",
              "      --hover-fill-color: #FFFFFF;\n",
              "      --disabled-bg-color: #3B4455;\n",
              "      --disabled-fill-color: #666;\n",
              "  }\n",
              "\n",
              "  .colab-df-quickchart {\n",
              "    background-color: var(--bg-color);\n",
              "    border: none;\n",
              "    border-radius: 50%;\n",
              "    cursor: pointer;\n",
              "    display: none;\n",
              "    fill: var(--fill-color);\n",
              "    height: 32px;\n",
              "    padding: 0;\n",
              "    width: 32px;\n",
              "  }\n",
              "\n",
              "  .colab-df-quickchart:hover {\n",
              "    background-color: var(--hover-bg-color);\n",
              "    box-shadow: 0 1px 2px rgba(60, 64, 67, 0.3), 0 1px 3px 1px rgba(60, 64, 67, 0.15);\n",
              "    fill: var(--button-hover-fill-color);\n",
              "  }\n",
              "\n",
              "  .colab-df-quickchart-complete:disabled,\n",
              "  .colab-df-quickchart-complete:disabled:hover {\n",
              "    background-color: var(--disabled-bg-color);\n",
              "    fill: var(--disabled-fill-color);\n",
              "    box-shadow: none;\n",
              "  }\n",
              "\n",
              "  .colab-df-spinner {\n",
              "    border: 2px solid var(--fill-color);\n",
              "    border-color: transparent;\n",
              "    border-bottom-color: var(--fill-color);\n",
              "    animation:\n",
              "      spin 1s steps(1) infinite;\n",
              "  }\n",
              "\n",
              "  @keyframes spin {\n",
              "    0% {\n",
              "      border-color: transparent;\n",
              "      border-bottom-color: var(--fill-color);\n",
              "      border-left-color: var(--fill-color);\n",
              "    }\n",
              "    20% {\n",
              "      border-color: transparent;\n",
              "      border-left-color: var(--fill-color);\n",
              "      border-top-color: var(--fill-color);\n",
              "    }\n",
              "    30% {\n",
              "      border-color: transparent;\n",
              "      border-left-color: var(--fill-color);\n",
              "      border-top-color: var(--fill-color);\n",
              "      border-right-color: var(--fill-color);\n",
              "    }\n",
              "    40% {\n",
              "      border-color: transparent;\n",
              "      border-right-color: var(--fill-color);\n",
              "      border-top-color: var(--fill-color);\n",
              "    }\n",
              "    60% {\n",
              "      border-color: transparent;\n",
              "      border-right-color: var(--fill-color);\n",
              "    }\n",
              "    80% {\n",
              "      border-color: transparent;\n",
              "      border-right-color: var(--fill-color);\n",
              "      border-bottom-color: var(--fill-color);\n",
              "    }\n",
              "    90% {\n",
              "      border-color: transparent;\n",
              "      border-bottom-color: var(--fill-color);\n",
              "    }\n",
              "  }\n",
              "</style>\n",
              "\n",
              "  <script>\n",
              "    async function quickchart(key) {\n",
              "      const quickchartButtonEl =\n",
              "        document.querySelector('#' + key + ' button');\n",
              "      quickchartButtonEl.disabled = true;  // To prevent multiple clicks.\n",
              "      quickchartButtonEl.classList.add('colab-df-spinner');\n",
              "      try {\n",
              "        const charts = await google.colab.kernel.invokeFunction(\n",
              "            'suggestCharts', [key], {});\n",
              "      } catch (error) {\n",
              "        console.error('Error during call to suggestCharts:', error);\n",
              "      }\n",
              "      quickchartButtonEl.classList.remove('colab-df-spinner');\n",
              "      quickchartButtonEl.classList.add('colab-df-quickchart-complete');\n",
              "    }\n",
              "    (() => {\n",
              "      let quickchartButtonEl =\n",
              "        document.querySelector('#df-41f9fb54-ab08-4b28-99a5-c3a0147e8dac button');\n",
              "      quickchartButtonEl.style.display =\n",
              "        google.colab.kernel.accessAllowed ? 'block' : 'none';\n",
              "    })();\n",
              "  </script>\n",
              "</div>\n",
              "    </div>\n",
              "  </div>\n"
            ],
            "application/vnd.google.colaboratory.intrinsic+json": {
              "type": "dataframe",
              "variable_name": "df",
              "summary": "{\n  \"name\": \"df\",\n  \"rows\": 16734,\n  \"fields\": [\n    {\n      \"column\": \"Brand\",\n      \"properties\": {\n        \"dtype\": \"category\",\n        \"num_unique_values\": 76,\n        \"samples\": [\n          \"Renault\",\n          \"LDV\",\n          \"Mitsubishi\"\n        ],\n        \"semantic_type\": \"\",\n        \"description\": \"\"\n      }\n    },\n    {\n      \"column\": \"Year\",\n      \"properties\": {\n        \"dtype\": \"number\",\n        \"std\": 5.24770481475545,\n        \"min\": 1940.0,\n        \"max\": 2023.0,\n        \"num_unique_values\": 45,\n        \"samples\": [\n          1970.0,\n          1997.0,\n          1993.0\n        ],\n        \"semantic_type\": \"\",\n        \"description\": \"\"\n      }\n    },\n    {\n      \"column\": \"Model\",\n      \"properties\": {\n        \"dtype\": \"category\",\n        \"num_unique_values\": 781,\n        \"samples\": [\n          \"G70\",\n          \"CLS350\",\n          \"5008\"\n        ],\n        \"semantic_type\": \"\",\n        \"description\": \"\"\n      }\n    },\n    {\n      \"column\": \"Car/Suv\",\n      \"properties\": {\n        \"dtype\": \"category\",\n        \"num_unique_values\": 618,\n        \"samples\": [\n          \"Melbourne Automobiles Pty Ltd\",\n          \"Northern Rivers RAM\",\n          \"Gregg Watts Used Cars (CCM)\"\n        ],\n        \"semantic_type\": \"\",\n        \"description\": \"\"\n      }\n    },\n    {\n      \"column\": \"Title\",\n      \"properties\": {\n        \"dtype\": \"string\",\n        \"num_unique_values\": 8804,\n        \"samples\": [\n          \"2012 Mercedes-Benz C-CLASS W204 BlueEFFICIENCY Avantgarde Sedan 4dr 7G-TRONIC 7sp 1.8T\",\n          \"2007 Nissan Tiida ST\",\n          \"2011 Suzuki Swift GLX\"\n        ],\n        \"semantic_type\": \"\",\n        \"description\": \"\"\n      }\n    },\n    {\n      \"column\": \"UsedOrNew\",\n      \"properties\": {\n        \"dtype\": \"category\",\n        \"num_unique_values\": 3,\n        \"samples\": [\n          \"DEMO\",\n          \"USED\",\n          \"NEW\"\n        ],\n        \"semantic_type\": \"\",\n        \"description\": \"\"\n      }\n    },\n    {\n      \"column\": \"Transmission\",\n      \"properties\": {\n        \"dtype\": \"category\",\n        \"num_unique_values\": 3,\n        \"samples\": [\n          \"Automatic\",\n          \"Manual\",\n          \"-\"\n        ],\n        \"semantic_type\": \"\",\n        \"description\": \"\"\n      }\n    },\n    {\n      \"column\": \"Engine\",\n      \"properties\": {\n        \"dtype\": \"category\",\n        \"num_unique_values\": 106,\n        \"samples\": [\n          \"12 cyl, 5.2 L\",\n          \"3 cyl, 1 L\",\n          \"4 cyl, 1.3 L\"\n        ],\n        \"semantic_type\": \"\",\n        \"description\": \"\"\n      }\n    },\n    {\n      \"column\": \"DriveType\",\n      \"properties\": {\n        \"dtype\": \"category\",\n        \"num_unique_values\": 5,\n        \"samples\": [\n          \"Front\",\n          \"4WD\",\n          \"Rear\"\n        ],\n        \"semantic_type\": \"\",\n        \"description\": \"\"\n      }\n    },\n    {\n      \"column\": \"FuelType\",\n      \"properties\": {\n        \"dtype\": \"category\",\n        \"num_unique_values\": 9,\n        \"samples\": [\n          \"LPG\",\n          \"Premium\",\n          \"Other\"\n        ],\n        \"semantic_type\": \"\",\n        \"description\": \"\"\n      }\n    },\n    {\n      \"column\": \"FuelConsumption\",\n      \"properties\": {\n        \"dtype\": \"category\",\n        \"num_unique_values\": 157,\n        \"samples\": [\n          \"14 L / 100 km\",\n          \"11.5 L / 100 km\",\n          \"2.6 L / 100 km\"\n        ],\n        \"semantic_type\": \"\",\n        \"description\": \"\"\n      }\n    },\n    {\n      \"column\": \"Kilometres\",\n      \"properties\": {\n        \"dtype\": \"string\",\n        \"num_unique_values\": 14262,\n        \"samples\": [\n          \"86852\",\n          \"219078\",\n          \"103216\"\n        ],\n        \"semantic_type\": \"\",\n        \"description\": \"\"\n      }\n    },\n    {\n      \"column\": \"ColourExtInt\",\n      \"properties\": {\n        \"dtype\": \"category\",\n        \"num_unique_values\": 834,\n        \"samples\": [\n          \"Blue / Black Sports Cloth\",\n          \"Black / 2018/11\",\n          \"White / 40Fa60\"\n        ],\n        \"semantic_type\": \"\",\n        \"description\": \"\"\n      }\n    },\n    {\n      \"column\": \"Location\",\n      \"properties\": {\n        \"dtype\": \"category\",\n        \"num_unique_values\": 618,\n        \"samples\": [\n          \"Wollongong, NSW\",\n          \"Bayswater, WA\",\n          \"Auburn, NSW\"\n        ],\n        \"semantic_type\": \"\",\n        \"description\": \"\"\n      }\n    },\n    {\n      \"column\": \"CylindersinEngine\",\n      \"properties\": {\n        \"dtype\": \"category\",\n        \"num_unique_values\": 11,\n        \"samples\": [\n          \"5 cyl\",\n          \"4 cyl\",\n          \"10 cyl\"\n        ],\n        \"semantic_type\": \"\",\n        \"description\": \"\"\n      }\n    },\n    {\n      \"column\": \"BodyType\",\n      \"properties\": {\n        \"dtype\": \"category\",\n        \"num_unique_values\": 10,\n        \"samples\": [\n          \"Convertible\",\n          \"Hatchback\",\n          \"Ute / Tray\"\n        ],\n        \"semantic_type\": \"\",\n        \"description\": \"\"\n      }\n    },\n    {\n      \"column\": \"Doors\",\n      \"properties\": {\n        \"dtype\": \"category\",\n        \"num_unique_values\": 13,\n        \"samples\": [\n          \" 3 Seats\",\n          \" 9 Seats\",\n          \" 4 Doors\"\n        ],\n        \"semantic_type\": \"\",\n        \"description\": \"\"\n      }\n    },\n    {\n      \"column\": \"Seats\",\n      \"properties\": {\n        \"dtype\": \"category\",\n        \"num_unique_values\": 13,\n        \"samples\": [\n          \" 22 Seats\",\n          \" 11 Seats\",\n          \" 7 Seats\"\n        ],\n        \"semantic_type\": \"\",\n        \"description\": \"\"\n      }\n    },\n    {\n      \"column\": \"Price\",\n      \"properties\": {\n        \"dtype\": \"category\",\n        \"num_unique_values\": 3794,\n        \"samples\": [\n          \"33705\",\n          \"36773\",\n          \"76910\"\n        ],\n        \"semantic_type\": \"\",\n        \"description\": \"\"\n      }\n    }\n  ]\n}"
            }
          },
          "metadata": {},
          "execution_count": 3
        }
      ]
    },
    {
      "cell_type": "code",
      "source": [
        "df.tail(10) #Affiche les 10 dernières lignes du DataFrame"
      ],
      "metadata": {
        "colab": {
          "base_uri": "https://localhost:8080/",
          "height": 886
        },
        "id": "0EfQigPTxQ4S",
        "outputId": "2734589d-84a5-4778-816a-8fe92becf665"
      },
      "execution_count": null,
      "outputs": [
        {
          "output_type": "execute_result",
          "data": {
            "text/plain": [
              "               Brand    Year    Model              Car/Suv  \\\n",
              "16724         Nissan  2009.0   Navara           Ute / Tray   \n",
              "16725             MG  2022.0       HS  Springwood MG - New   \n",
              "16726         Toyota  2011.0   Estima           Topcar Rez   \n",
              "16727        Hyundai  2015.0      I30                Wagon   \n",
              "16728         Nissan  2021.0  Qashqai                  SUV   \n",
              "16729         Toyota  2014.0  Alphard             SYC Cars   \n",
              "16730  Mercedes-Benz  2012.0  S-Class       USED Dealer ad   \n",
              "16731         Suzuki  2022.0   Vitara  Bremer Suzuki - New   \n",
              "16732  Mercedes-Benz  2016.0   GLC250                  SUV   \n",
              "16733  Mercedes-Benz  2021.0     C200                Sedan   \n",
              "\n",
              "                                        Title UsedOrNew Transmission  \\\n",
              "16724             2009 Nissan Navara ST (4X4)      USED    Automatic   \n",
              "16725                 2022 MG HS Phev Essence      DEMO    Automatic   \n",
              "16726                      2011 Toyota Estima      USED    Automatic   \n",
              "16727  2015 Hyundai I30 Tourer Active 1.6 GDI      USED    Automatic   \n",
              "16728                  2021 Nissan Qashqai TI      USED    Automatic   \n",
              "16729                     2014 Toyota Alphard      USED    Automatic   \n",
              "16730  2012 Mercedes-Benz S-Class CDI BlueTEC      USED    Automatic   \n",
              "16731                 2022 Suzuki Vitara 1.6L      DEMO    Automatic   \n",
              "16732               2016 Mercedes-Benz GLC250      USED    Automatic   \n",
              "16733                 2021 Mercedes-Benz C200      USED    Automatic   \n",
              "\n",
              "             Engine DriveType  FuelType  FuelConsumption Kilometres  \\\n",
              "16724  4 cyl, 2.5 L       4WD    Diesel  10.5 L / 100 km     182254   \n",
              "16725  4 cyl, 1.5 L     Front    Hybrid   1.7 L / 100 km       6156   \n",
              "16726             -     Front  Unleaded                -      97000   \n",
              "16727  4 cyl, 1.6 L     Front  Unleaded   6.9 L / 100 km      54359   \n",
              "16728    4 cyl, 2 L     Front  Unleaded   6.9 L / 100 km      32977   \n",
              "16729             -     Front  Unleaded                -      66000   \n",
              "16730             -      Rear    Diesel                -     117432   \n",
              "16731  4 cyl, 1.6 L     Front  Unleaded   6.2 L / 100 km       5165   \n",
              "16732    4 cyl, 2 L       AWD   Premium   7.2 L / 100 km      85525   \n",
              "16733    4 cyl, 2 L      Rear  Unleaded     7 L / 100 km      31852   \n",
              "\n",
              "                ColourExtInt                Location CylindersinEngine  \\\n",
              "16724              White / -      Bacchus Marsh, VIC             4 cyl   \n",
              "16725              White / -         Springwood, QLD             4 cyl   \n",
              "16726             Silver / -  Holland Park West, QLD                 -   \n",
              "16727  Silver / Black  Cloth     Oakleigh South, VIC             4 cyl   \n",
              "16728              White / -            Rocklea, QLD             4 cyl   \n",
              "16729               Grey / -            Rocklea, QLD                 -   \n",
              "16730             Silver / -     Port Melbourne, VIC                 -   \n",
              "16731             Yellow / -            Dinmore, QLD             4 cyl   \n",
              "16732           Grey / Black             Albion, QLD             4 cyl   \n",
              "16733               Gold / -             Yatala, QLD             4 cyl   \n",
              "\n",
              "         BodyType     Doors     Seats  Price  \n",
              "16724  Ute / Tray   4 Doors   5 Seats  16000  \n",
              "16725         SUV   4 Doors   5 Seats  46990  \n",
              "16726       Wagon   7 Seats       NaN  21989  \n",
              "16727       Wagon   4 Doors   5 Seats  21450  \n",
              "16728         SUV   4 Doors   5 Seats  36770  \n",
              "16729  Commercial   7 Seats       NaN  29500  \n",
              "16730         NaN       NaN       NaN  39888  \n",
              "16731         SUV   4 Doors   5 Seats  35280  \n",
              "16732         SUV   4 Doors   5 Seats  41888  \n",
              "16733       Sedan   4 Doors   5 Seats  65888  "
            ],
            "text/html": [
              "\n",
              "  <div id=\"df-e9becbe0-71c2-4b32-9cba-0431c02171d4\" class=\"colab-df-container\">\n",
              "    <div>\n",
              "<style scoped>\n",
              "    .dataframe tbody tr th:only-of-type {\n",
              "        vertical-align: middle;\n",
              "    }\n",
              "\n",
              "    .dataframe tbody tr th {\n",
              "        vertical-align: top;\n",
              "    }\n",
              "\n",
              "    .dataframe thead th {\n",
              "        text-align: right;\n",
              "    }\n",
              "</style>\n",
              "<table border=\"1\" class=\"dataframe\">\n",
              "  <thead>\n",
              "    <tr style=\"text-align: right;\">\n",
              "      <th></th>\n",
              "      <th>Brand</th>\n",
              "      <th>Year</th>\n",
              "      <th>Model</th>\n",
              "      <th>Car/Suv</th>\n",
              "      <th>Title</th>\n",
              "      <th>UsedOrNew</th>\n",
              "      <th>Transmission</th>\n",
              "      <th>Engine</th>\n",
              "      <th>DriveType</th>\n",
              "      <th>FuelType</th>\n",
              "      <th>FuelConsumption</th>\n",
              "      <th>Kilometres</th>\n",
              "      <th>ColourExtInt</th>\n",
              "      <th>Location</th>\n",
              "      <th>CylindersinEngine</th>\n",
              "      <th>BodyType</th>\n",
              "      <th>Doors</th>\n",
              "      <th>Seats</th>\n",
              "      <th>Price</th>\n",
              "    </tr>\n",
              "  </thead>\n",
              "  <tbody>\n",
              "    <tr>\n",
              "      <th>16724</th>\n",
              "      <td>Nissan</td>\n",
              "      <td>2009.0</td>\n",
              "      <td>Navara</td>\n",
              "      <td>Ute / Tray</td>\n",
              "      <td>2009 Nissan Navara ST (4X4)</td>\n",
              "      <td>USED</td>\n",
              "      <td>Automatic</td>\n",
              "      <td>4 cyl, 2.5 L</td>\n",
              "      <td>4WD</td>\n",
              "      <td>Diesel</td>\n",
              "      <td>10.5 L / 100 km</td>\n",
              "      <td>182254</td>\n",
              "      <td>White / -</td>\n",
              "      <td>Bacchus Marsh, VIC</td>\n",
              "      <td>4 cyl</td>\n",
              "      <td>Ute / Tray</td>\n",
              "      <td>4 Doors</td>\n",
              "      <td>5 Seats</td>\n",
              "      <td>16000</td>\n",
              "    </tr>\n",
              "    <tr>\n",
              "      <th>16725</th>\n",
              "      <td>MG</td>\n",
              "      <td>2022.0</td>\n",
              "      <td>HS</td>\n",
              "      <td>Springwood MG - New</td>\n",
              "      <td>2022 MG HS Phev Essence</td>\n",
              "      <td>DEMO</td>\n",
              "      <td>Automatic</td>\n",
              "      <td>4 cyl, 1.5 L</td>\n",
              "      <td>Front</td>\n",
              "      <td>Hybrid</td>\n",
              "      <td>1.7 L / 100 km</td>\n",
              "      <td>6156</td>\n",
              "      <td>White / -</td>\n",
              "      <td>Springwood, QLD</td>\n",
              "      <td>4 cyl</td>\n",
              "      <td>SUV</td>\n",
              "      <td>4 Doors</td>\n",
              "      <td>5 Seats</td>\n",
              "      <td>46990</td>\n",
              "    </tr>\n",
              "    <tr>\n",
              "      <th>16726</th>\n",
              "      <td>Toyota</td>\n",
              "      <td>2011.0</td>\n",
              "      <td>Estima</td>\n",
              "      <td>Topcar Rez</td>\n",
              "      <td>2011 Toyota Estima</td>\n",
              "      <td>USED</td>\n",
              "      <td>Automatic</td>\n",
              "      <td>-</td>\n",
              "      <td>Front</td>\n",
              "      <td>Unleaded</td>\n",
              "      <td>-</td>\n",
              "      <td>97000</td>\n",
              "      <td>Silver / -</td>\n",
              "      <td>Holland Park West, QLD</td>\n",
              "      <td>-</td>\n",
              "      <td>Wagon</td>\n",
              "      <td>7 Seats</td>\n",
              "      <td>NaN</td>\n",
              "      <td>21989</td>\n",
              "    </tr>\n",
              "    <tr>\n",
              "      <th>16727</th>\n",
              "      <td>Hyundai</td>\n",
              "      <td>2015.0</td>\n",
              "      <td>I30</td>\n",
              "      <td>Wagon</td>\n",
              "      <td>2015 Hyundai I30 Tourer Active 1.6 GDI</td>\n",
              "      <td>USED</td>\n",
              "      <td>Automatic</td>\n",
              "      <td>4 cyl, 1.6 L</td>\n",
              "      <td>Front</td>\n",
              "      <td>Unleaded</td>\n",
              "      <td>6.9 L / 100 km</td>\n",
              "      <td>54359</td>\n",
              "      <td>Silver / Black  Cloth</td>\n",
              "      <td>Oakleigh South, VIC</td>\n",
              "      <td>4 cyl</td>\n",
              "      <td>Wagon</td>\n",
              "      <td>4 Doors</td>\n",
              "      <td>5 Seats</td>\n",
              "      <td>21450</td>\n",
              "    </tr>\n",
              "    <tr>\n",
              "      <th>16728</th>\n",
              "      <td>Nissan</td>\n",
              "      <td>2021.0</td>\n",
              "      <td>Qashqai</td>\n",
              "      <td>SUV</td>\n",
              "      <td>2021 Nissan Qashqai TI</td>\n",
              "      <td>USED</td>\n",
              "      <td>Automatic</td>\n",
              "      <td>4 cyl, 2 L</td>\n",
              "      <td>Front</td>\n",
              "      <td>Unleaded</td>\n",
              "      <td>6.9 L / 100 km</td>\n",
              "      <td>32977</td>\n",
              "      <td>White / -</td>\n",
              "      <td>Rocklea, QLD</td>\n",
              "      <td>4 cyl</td>\n",
              "      <td>SUV</td>\n",
              "      <td>4 Doors</td>\n",
              "      <td>5 Seats</td>\n",
              "      <td>36770</td>\n",
              "    </tr>\n",
              "    <tr>\n",
              "      <th>16729</th>\n",
              "      <td>Toyota</td>\n",
              "      <td>2014.0</td>\n",
              "      <td>Alphard</td>\n",
              "      <td>SYC Cars</td>\n",
              "      <td>2014 Toyota Alphard</td>\n",
              "      <td>USED</td>\n",
              "      <td>Automatic</td>\n",
              "      <td>-</td>\n",
              "      <td>Front</td>\n",
              "      <td>Unleaded</td>\n",
              "      <td>-</td>\n",
              "      <td>66000</td>\n",
              "      <td>Grey / -</td>\n",
              "      <td>Rocklea, QLD</td>\n",
              "      <td>-</td>\n",
              "      <td>Commercial</td>\n",
              "      <td>7 Seats</td>\n",
              "      <td>NaN</td>\n",
              "      <td>29500</td>\n",
              "    </tr>\n",
              "    <tr>\n",
              "      <th>16730</th>\n",
              "      <td>Mercedes-Benz</td>\n",
              "      <td>2012.0</td>\n",
              "      <td>S-Class</td>\n",
              "      <td>USED Dealer ad</td>\n",
              "      <td>2012 Mercedes-Benz S-Class CDI BlueTEC</td>\n",
              "      <td>USED</td>\n",
              "      <td>Automatic</td>\n",
              "      <td>-</td>\n",
              "      <td>Rear</td>\n",
              "      <td>Diesel</td>\n",
              "      <td>-</td>\n",
              "      <td>117432</td>\n",
              "      <td>Silver / -</td>\n",
              "      <td>Port Melbourne, VIC</td>\n",
              "      <td>-</td>\n",
              "      <td>NaN</td>\n",
              "      <td>NaN</td>\n",
              "      <td>NaN</td>\n",
              "      <td>39888</td>\n",
              "    </tr>\n",
              "    <tr>\n",
              "      <th>16731</th>\n",
              "      <td>Suzuki</td>\n",
              "      <td>2022.0</td>\n",
              "      <td>Vitara</td>\n",
              "      <td>Bremer Suzuki - New</td>\n",
              "      <td>2022 Suzuki Vitara 1.6L</td>\n",
              "      <td>DEMO</td>\n",
              "      <td>Automatic</td>\n",
              "      <td>4 cyl, 1.6 L</td>\n",
              "      <td>Front</td>\n",
              "      <td>Unleaded</td>\n",
              "      <td>6.2 L / 100 km</td>\n",
              "      <td>5165</td>\n",
              "      <td>Yellow / -</td>\n",
              "      <td>Dinmore, QLD</td>\n",
              "      <td>4 cyl</td>\n",
              "      <td>SUV</td>\n",
              "      <td>4 Doors</td>\n",
              "      <td>5 Seats</td>\n",
              "      <td>35280</td>\n",
              "    </tr>\n",
              "    <tr>\n",
              "      <th>16732</th>\n",
              "      <td>Mercedes-Benz</td>\n",
              "      <td>2016.0</td>\n",
              "      <td>GLC250</td>\n",
              "      <td>SUV</td>\n",
              "      <td>2016 Mercedes-Benz GLC250</td>\n",
              "      <td>USED</td>\n",
              "      <td>Automatic</td>\n",
              "      <td>4 cyl, 2 L</td>\n",
              "      <td>AWD</td>\n",
              "      <td>Premium</td>\n",
              "      <td>7.2 L / 100 km</td>\n",
              "      <td>85525</td>\n",
              "      <td>Grey / Black</td>\n",
              "      <td>Albion, QLD</td>\n",
              "      <td>4 cyl</td>\n",
              "      <td>SUV</td>\n",
              "      <td>4 Doors</td>\n",
              "      <td>5 Seats</td>\n",
              "      <td>41888</td>\n",
              "    </tr>\n",
              "    <tr>\n",
              "      <th>16733</th>\n",
              "      <td>Mercedes-Benz</td>\n",
              "      <td>2021.0</td>\n",
              "      <td>C200</td>\n",
              "      <td>Sedan</td>\n",
              "      <td>2021 Mercedes-Benz C200</td>\n",
              "      <td>USED</td>\n",
              "      <td>Automatic</td>\n",
              "      <td>4 cyl, 2 L</td>\n",
              "      <td>Rear</td>\n",
              "      <td>Unleaded</td>\n",
              "      <td>7 L / 100 km</td>\n",
              "      <td>31852</td>\n",
              "      <td>Gold / -</td>\n",
              "      <td>Yatala, QLD</td>\n",
              "      <td>4 cyl</td>\n",
              "      <td>Sedan</td>\n",
              "      <td>4 Doors</td>\n",
              "      <td>5 Seats</td>\n",
              "      <td>65888</td>\n",
              "    </tr>\n",
              "  </tbody>\n",
              "</table>\n",
              "</div>\n",
              "    <div class=\"colab-df-buttons\">\n",
              "\n",
              "  <div class=\"colab-df-container\">\n",
              "    <button class=\"colab-df-convert\" onclick=\"convertToInteractive('df-e9becbe0-71c2-4b32-9cba-0431c02171d4')\"\n",
              "            title=\"Convert this dataframe to an interactive table.\"\n",
              "            style=\"display:none;\">\n",
              "\n",
              "  <svg xmlns=\"http://www.w3.org/2000/svg\" height=\"24px\" viewBox=\"0 -960 960 960\">\n",
              "    <path d=\"M120-120v-720h720v720H120Zm60-500h600v-160H180v160Zm220 220h160v-160H400v160Zm0 220h160v-160H400v160ZM180-400h160v-160H180v160Zm440 0h160v-160H620v160ZM180-180h160v-160H180v160Zm440 0h160v-160H620v160Z\"/>\n",
              "  </svg>\n",
              "    </button>\n",
              "\n",
              "  <style>\n",
              "    .colab-df-container {\n",
              "      display:flex;\n",
              "      gap: 12px;\n",
              "    }\n",
              "\n",
              "    .colab-df-convert {\n",
              "      background-color: #E8F0FE;\n",
              "      border: none;\n",
              "      border-radius: 50%;\n",
              "      cursor: pointer;\n",
              "      display: none;\n",
              "      fill: #1967D2;\n",
              "      height: 32px;\n",
              "      padding: 0 0 0 0;\n",
              "      width: 32px;\n",
              "    }\n",
              "\n",
              "    .colab-df-convert:hover {\n",
              "      background-color: #E2EBFA;\n",
              "      box-shadow: 0px 1px 2px rgba(60, 64, 67, 0.3), 0px 1px 3px 1px rgba(60, 64, 67, 0.15);\n",
              "      fill: #174EA6;\n",
              "    }\n",
              "\n",
              "    .colab-df-buttons div {\n",
              "      margin-bottom: 4px;\n",
              "    }\n",
              "\n",
              "    [theme=dark] .colab-df-convert {\n",
              "      background-color: #3B4455;\n",
              "      fill: #D2E3FC;\n",
              "    }\n",
              "\n",
              "    [theme=dark] .colab-df-convert:hover {\n",
              "      background-color: #434B5C;\n",
              "      box-shadow: 0px 1px 3px 1px rgba(0, 0, 0, 0.15);\n",
              "      filter: drop-shadow(0px 1px 2px rgba(0, 0, 0, 0.3));\n",
              "      fill: #FFFFFF;\n",
              "    }\n",
              "  </style>\n",
              "\n",
              "    <script>\n",
              "      const buttonEl =\n",
              "        document.querySelector('#df-e9becbe0-71c2-4b32-9cba-0431c02171d4 button.colab-df-convert');\n",
              "      buttonEl.style.display =\n",
              "        google.colab.kernel.accessAllowed ? 'block' : 'none';\n",
              "\n",
              "      async function convertToInteractive(key) {\n",
              "        const element = document.querySelector('#df-e9becbe0-71c2-4b32-9cba-0431c02171d4');\n",
              "        const dataTable =\n",
              "          await google.colab.kernel.invokeFunction('convertToInteractive',\n",
              "                                                    [key], {});\n",
              "        if (!dataTable) return;\n",
              "\n",
              "        const docLinkHtml = 'Like what you see? Visit the ' +\n",
              "          '<a target=\"_blank\" href=https://colab.research.google.com/notebooks/data_table.ipynb>data table notebook</a>'\n",
              "          + ' to learn more about interactive tables.';\n",
              "        element.innerHTML = '';\n",
              "        dataTable['output_type'] = 'display_data';\n",
              "        await google.colab.output.renderOutput(dataTable, element);\n",
              "        const docLink = document.createElement('div');\n",
              "        docLink.innerHTML = docLinkHtml;\n",
              "        element.appendChild(docLink);\n",
              "      }\n",
              "    </script>\n",
              "  </div>\n",
              "\n",
              "\n",
              "<div id=\"df-1f712edb-9c3f-4768-9659-adc7e52aa347\">\n",
              "  <button class=\"colab-df-quickchart\" onclick=\"quickchart('df-1f712edb-9c3f-4768-9659-adc7e52aa347')\"\n",
              "            title=\"Suggest charts\"\n",
              "            style=\"display:none;\">\n",
              "\n",
              "<svg xmlns=\"http://www.w3.org/2000/svg\" height=\"24px\"viewBox=\"0 0 24 24\"\n",
              "     width=\"24px\">\n",
              "    <g>\n",
              "        <path d=\"M19 3H5c-1.1 0-2 .9-2 2v14c0 1.1.9 2 2 2h14c1.1 0 2-.9 2-2V5c0-1.1-.9-2-2-2zM9 17H7v-7h2v7zm4 0h-2V7h2v10zm4 0h-2v-4h2v4z\"/>\n",
              "    </g>\n",
              "</svg>\n",
              "  </button>\n",
              "\n",
              "<style>\n",
              "  .colab-df-quickchart {\n",
              "      --bg-color: #E8F0FE;\n",
              "      --fill-color: #1967D2;\n",
              "      --hover-bg-color: #E2EBFA;\n",
              "      --hover-fill-color: #174EA6;\n",
              "      --disabled-fill-color: #AAA;\n",
              "      --disabled-bg-color: #DDD;\n",
              "  }\n",
              "\n",
              "  [theme=dark] .colab-df-quickchart {\n",
              "      --bg-color: #3B4455;\n",
              "      --fill-color: #D2E3FC;\n",
              "      --hover-bg-color: #434B5C;\n",
              "      --hover-fill-color: #FFFFFF;\n",
              "      --disabled-bg-color: #3B4455;\n",
              "      --disabled-fill-color: #666;\n",
              "  }\n",
              "\n",
              "  .colab-df-quickchart {\n",
              "    background-color: var(--bg-color);\n",
              "    border: none;\n",
              "    border-radius: 50%;\n",
              "    cursor: pointer;\n",
              "    display: none;\n",
              "    fill: var(--fill-color);\n",
              "    height: 32px;\n",
              "    padding: 0;\n",
              "    width: 32px;\n",
              "  }\n",
              "\n",
              "  .colab-df-quickchart:hover {\n",
              "    background-color: var(--hover-bg-color);\n",
              "    box-shadow: 0 1px 2px rgba(60, 64, 67, 0.3), 0 1px 3px 1px rgba(60, 64, 67, 0.15);\n",
              "    fill: var(--button-hover-fill-color);\n",
              "  }\n",
              "\n",
              "  .colab-df-quickchart-complete:disabled,\n",
              "  .colab-df-quickchart-complete:disabled:hover {\n",
              "    background-color: var(--disabled-bg-color);\n",
              "    fill: var(--disabled-fill-color);\n",
              "    box-shadow: none;\n",
              "  }\n",
              "\n",
              "  .colab-df-spinner {\n",
              "    border: 2px solid var(--fill-color);\n",
              "    border-color: transparent;\n",
              "    border-bottom-color: var(--fill-color);\n",
              "    animation:\n",
              "      spin 1s steps(1) infinite;\n",
              "  }\n",
              "\n",
              "  @keyframes spin {\n",
              "    0% {\n",
              "      border-color: transparent;\n",
              "      border-bottom-color: var(--fill-color);\n",
              "      border-left-color: var(--fill-color);\n",
              "    }\n",
              "    20% {\n",
              "      border-color: transparent;\n",
              "      border-left-color: var(--fill-color);\n",
              "      border-top-color: var(--fill-color);\n",
              "    }\n",
              "    30% {\n",
              "      border-color: transparent;\n",
              "      border-left-color: var(--fill-color);\n",
              "      border-top-color: var(--fill-color);\n",
              "      border-right-color: var(--fill-color);\n",
              "    }\n",
              "    40% {\n",
              "      border-color: transparent;\n",
              "      border-right-color: var(--fill-color);\n",
              "      border-top-color: var(--fill-color);\n",
              "    }\n",
              "    60% {\n",
              "      border-color: transparent;\n",
              "      border-right-color: var(--fill-color);\n",
              "    }\n",
              "    80% {\n",
              "      border-color: transparent;\n",
              "      border-right-color: var(--fill-color);\n",
              "      border-bottom-color: var(--fill-color);\n",
              "    }\n",
              "    90% {\n",
              "      border-color: transparent;\n",
              "      border-bottom-color: var(--fill-color);\n",
              "    }\n",
              "  }\n",
              "</style>\n",
              "\n",
              "  <script>\n",
              "    async function quickchart(key) {\n",
              "      const quickchartButtonEl =\n",
              "        document.querySelector('#' + key + ' button');\n",
              "      quickchartButtonEl.disabled = true;  // To prevent multiple clicks.\n",
              "      quickchartButtonEl.classList.add('colab-df-spinner');\n",
              "      try {\n",
              "        const charts = await google.colab.kernel.invokeFunction(\n",
              "            'suggestCharts', [key], {});\n",
              "      } catch (error) {\n",
              "        console.error('Error during call to suggestCharts:', error);\n",
              "      }\n",
              "      quickchartButtonEl.classList.remove('colab-df-spinner');\n",
              "      quickchartButtonEl.classList.add('colab-df-quickchart-complete');\n",
              "    }\n",
              "    (() => {\n",
              "      let quickchartButtonEl =\n",
              "        document.querySelector('#df-1f712edb-9c3f-4768-9659-adc7e52aa347 button');\n",
              "      quickchartButtonEl.style.display =\n",
              "        google.colab.kernel.accessAllowed ? 'block' : 'none';\n",
              "    })();\n",
              "  </script>\n",
              "</div>\n",
              "    </div>\n",
              "  </div>\n"
            ],
            "application/vnd.google.colaboratory.intrinsic+json": {
              "type": "dataframe",
              "summary": "{\n  \"name\": \"df\",\n  \"rows\": 10,\n  \"fields\": [\n    {\n      \"column\": \"Brand\",\n      \"properties\": {\n        \"dtype\": \"string\",\n        \"num_unique_values\": 6,\n        \"samples\": [\n          \"Nissan\",\n          \"MG\",\n          \"Suzuki\"\n        ],\n        \"semantic_type\": \"\",\n        \"description\": \"\"\n      }\n    },\n    {\n      \"column\": \"Year\",\n      \"properties\": {\n        \"dtype\": \"number\",\n        \"std\": 4.900113377373131,\n        \"min\": 2009.0,\n        \"max\": 2022.0,\n        \"num_unique_values\": 8,\n        \"samples\": [\n          2022.0,\n          2014.0,\n          2009.0\n        ],\n        \"semantic_type\": \"\",\n        \"description\": \"\"\n      }\n    },\n    {\n      \"column\": \"Model\",\n      \"properties\": {\n        \"dtype\": \"string\",\n        \"num_unique_values\": 10,\n        \"samples\": [\n          \"GLC250\",\n          \"HS\",\n          \"Alphard\"\n        ],\n        \"semantic_type\": \"\",\n        \"description\": \"\"\n      }\n    },\n    {\n      \"column\": \"Car/Suv\",\n      \"properties\": {\n        \"dtype\": \"string\",\n        \"num_unique_values\": 9,\n        \"samples\": [\n          \"Bremer Suzuki - New\",\n          \"Springwood MG - New\",\n          \"SYC Cars\"\n        ],\n        \"semantic_type\": \"\",\n        \"description\": \"\"\n      }\n    },\n    {\n      \"column\": \"Title\",\n      \"properties\": {\n        \"dtype\": \"string\",\n        \"num_unique_values\": 10,\n        \"samples\": [\n          \"2016 Mercedes-Benz GLC250\",\n          \"2022 MG HS Phev Essence\",\n          \"2014 Toyota Alphard\"\n        ],\n        \"semantic_type\": \"\",\n        \"description\": \"\"\n      }\n    },\n    {\n      \"column\": \"UsedOrNew\",\n      \"properties\": {\n        \"dtype\": \"category\",\n        \"num_unique_values\": 2,\n        \"samples\": [\n          \"DEMO\",\n          \"USED\"\n        ],\n        \"semantic_type\": \"\",\n        \"description\": \"\"\n      }\n    },\n    {\n      \"column\": \"Transmission\",\n      \"properties\": {\n        \"dtype\": \"category\",\n        \"num_unique_values\": 1,\n        \"samples\": [\n          \"Automatic\"\n        ],\n        \"semantic_type\": \"\",\n        \"description\": \"\"\n      }\n    },\n    {\n      \"column\": \"Engine\",\n      \"properties\": {\n        \"dtype\": \"string\",\n        \"num_unique_values\": 5,\n        \"samples\": [\n          \"4 cyl, 1.5 L\"\n        ],\n        \"semantic_type\": \"\",\n        \"description\": \"\"\n      }\n    },\n    {\n      \"column\": \"DriveType\",\n      \"properties\": {\n        \"dtype\": \"category\",\n        \"num_unique_values\": 4,\n        \"samples\": [\n          \"Front\"\n        ],\n        \"semantic_type\": \"\",\n        \"description\": \"\"\n      }\n    },\n    {\n      \"column\": \"FuelType\",\n      \"properties\": {\n        \"dtype\": \"category\",\n        \"num_unique_values\": 4,\n        \"samples\": [\n          \"Hybrid\"\n        ],\n        \"semantic_type\": \"\",\n        \"description\": \"\"\n      }\n    },\n    {\n      \"column\": \"FuelConsumption\",\n      \"properties\": {\n        \"dtype\": \"string\",\n        \"num_unique_values\": 7,\n        \"samples\": [\n          \"10.5 L / 100 km\"\n        ],\n        \"semantic_type\": \"\",\n        \"description\": \"\"\n      }\n    },\n    {\n      \"column\": \"Kilometres\",\n      \"properties\": {\n        \"dtype\": \"string\",\n        \"num_unique_values\": 10,\n        \"samples\": [\n          \"85525\"\n        ],\n        \"semantic_type\": \"\",\n        \"description\": \"\"\n      }\n    },\n    {\n      \"column\": \"ColourExtInt\",\n      \"properties\": {\n        \"dtype\": \"string\",\n        \"num_unique_values\": 7,\n        \"samples\": [\n          \"White / -\"\n        ],\n        \"semantic_type\": \"\",\n        \"description\": \"\"\n      }\n    },\n    {\n      \"column\": \"Location\",\n      \"properties\": {\n        \"dtype\": \"string\",\n        \"num_unique_values\": 9,\n        \"samples\": [\n          \"Albion, QLD\"\n        ],\n        \"semantic_type\": \"\",\n        \"description\": \"\"\n      }\n    },\n    {\n      \"column\": \"CylindersinEngine\",\n      \"properties\": {\n        \"dtype\": \"category\",\n        \"num_unique_values\": 2,\n        \"samples\": [\n          \"-\"\n        ],\n        \"semantic_type\": \"\",\n        \"description\": \"\"\n      }\n    },\n    {\n      \"column\": \"BodyType\",\n      \"properties\": {\n        \"dtype\": \"string\",\n        \"num_unique_values\": 5,\n        \"samples\": [\n          \"SUV\"\n        ],\n        \"semantic_type\": \"\",\n        \"description\": \"\"\n      }\n    },\n    {\n      \"column\": \"Doors\",\n      \"properties\": {\n        \"dtype\": \"category\",\n        \"num_unique_values\": 2,\n        \"samples\": [\n          \" 7 Seats\"\n        ],\n        \"semantic_type\": \"\",\n        \"description\": \"\"\n      }\n    },\n    {\n      \"column\": \"Seats\",\n      \"properties\": {\n        \"dtype\": \"category\",\n        \"num_unique_values\": 1,\n        \"samples\": [\n          \" 5 Seats\"\n        ],\n        \"semantic_type\": \"\",\n        \"description\": \"\"\n      }\n    },\n    {\n      \"column\": \"Price\",\n      \"properties\": {\n        \"dtype\": \"string\",\n        \"num_unique_values\": 10,\n        \"samples\": [\n          \"41888\"\n        ],\n        \"semantic_type\": \"\",\n        \"description\": \"\"\n      }\n    }\n  ]\n}"
            }
          },
          "metadata": {},
          "execution_count": 4
        }
      ]
    },
    {
      "cell_type": "code",
      "source": [
        "df.shape #Retourne le nombre de lignes et de colonnes du DataFrame."
      ],
      "metadata": {
        "colab": {
          "base_uri": "https://localhost:8080/"
        },
        "id": "3JynvrlQxd8x",
        "outputId": "f0d94d3e-a695-415d-d2b4-6596bf053022"
      },
      "execution_count": null,
      "outputs": [
        {
          "output_type": "execute_result",
          "data": {
            "text/plain": [
              "(16734, 19)"
            ]
          },
          "metadata": {},
          "execution_count": 6
        }
      ]
    },
    {
      "cell_type": "code",
      "source": [
        "df.info () #Affiche des informations sur le DataFrame, y compris les types de données et les valeurs non nulles."
      ],
      "metadata": {
        "colab": {
          "base_uri": "https://localhost:8080/"
        },
        "id": "qYL6U_pQxn1q",
        "outputId": "34516cd8-5577-4801-911d-acaad2c2852b"
      },
      "execution_count": null,
      "outputs": [
        {
          "output_type": "stream",
          "name": "stdout",
          "text": [
            "<class 'pandas.core.frame.DataFrame'>\n",
            "RangeIndex: 16734 entries, 0 to 16733\n",
            "Data columns (total 19 columns):\n",
            " #   Column             Non-Null Count  Dtype  \n",
            "---  ------             --------------  -----  \n",
            " 0   Brand              16733 non-null  object \n",
            " 1   Year               16733 non-null  float64\n",
            " 2   Model              16733 non-null  object \n",
            " 3   Car/Suv            16706 non-null  object \n",
            " 4   Title              16733 non-null  object \n",
            " 5   UsedOrNew          16733 non-null  object \n",
            " 6   Transmission       16733 non-null  object \n",
            " 7   Engine             16733 non-null  object \n",
            " 8   DriveType          16733 non-null  object \n",
            " 9   FuelType           16733 non-null  object \n",
            " 10  FuelConsumption    16733 non-null  object \n",
            " 11  Kilometres         16733 non-null  object \n",
            " 12  ColourExtInt       16733 non-null  object \n",
            " 13  Location           16284 non-null  object \n",
            " 14  CylindersinEngine  16733 non-null  object \n",
            " 15  BodyType           16452 non-null  object \n",
            " 16  Doors              15130 non-null  object \n",
            " 17  Seats              15029 non-null  object \n",
            " 18  Price              16731 non-null  object \n",
            "dtypes: float64(1), object(18)\n",
            "memory usage: 2.4+ MB\n"
          ]
        }
      ]
    },
    {
      "cell_type": "code",
      "source": [
        "df.columns #Retourne les noms des colonnes du DataFrame."
      ],
      "metadata": {
        "colab": {
          "base_uri": "https://localhost:8080/"
        },
        "id": "1rkBqaG_xt3r",
        "outputId": "9b6fa7e6-fefa-4c5d-b117-83852aebca04"
      },
      "execution_count": null,
      "outputs": [
        {
          "output_type": "execute_result",
          "data": {
            "text/plain": [
              "Index(['Brand', 'Year', 'Model', 'Car/Suv', 'Title', 'UsedOrNew',\n",
              "       'Transmission', 'Engine', 'DriveType', 'FuelType', 'FuelConsumption',\n",
              "       'Kilometres', 'ColourExtInt', 'Location', 'CylindersinEngine',\n",
              "       'BodyType', 'Doors', 'Seats', 'Price'],\n",
              "      dtype='object')"
            ]
          },
          "metadata": {},
          "execution_count": 8
        }
      ]
    },
    {
      "cell_type": "code",
      "source": [
        "df.dtypes"
      ],
      "metadata": {
        "colab": {
          "base_uri": "https://localhost:8080/"
        },
        "id": "0nDbPNYe1DoE",
        "outputId": "177638de-1b14-4a5f-d750-426f35f2af76"
      },
      "execution_count": null,
      "outputs": [
        {
          "output_type": "execute_result",
          "data": {
            "text/plain": [
              "Brand                 object\n",
              "Year                 float64\n",
              "Model                 object\n",
              "Car/Suv               object\n",
              "Title                 object\n",
              "UsedOrNew             object\n",
              "Transmission          object\n",
              "Engine                object\n",
              "DriveType             object\n",
              "FuelType              object\n",
              "FuelConsumption       object\n",
              "Kilometres            object\n",
              "ColourExtInt          object\n",
              "Location              object\n",
              "CylindersinEngine     object\n",
              "BodyType              object\n",
              "Doors                 object\n",
              "Seats                 object\n",
              "Price                 object\n",
              "dtype: object"
            ]
          },
          "metadata": {},
          "execution_count": 9
        }
      ]
    },
    {
      "cell_type": "code",
      "source": [
        "df.sample() #un ligne aléatoire"
      ],
      "metadata": {
        "colab": {
          "base_uri": "https://localhost:8080/",
          "height": 153
        },
        "id": "yjSi7v3yx8pN",
        "outputId": "9a086211-dceb-4c39-9797-54521ebd77d8"
      },
      "execution_count": null,
      "outputs": [
        {
          "output_type": "execute_result",
          "data": {
            "text/plain": [
              "      Brand    Year   Model    Car/Suv                   Title UsedOrNew  \\\n",
              "10994   Kia  2018.0  Cerato  Hatchback  2018 Kia Cerato S (AV)      USED   \n",
              "\n",
              "      Transmission      Engine DriveType  FuelType FuelConsumption Kilometres  \\\n",
              "10994    Automatic  4 cyl, 2 L     Front  Unleaded  7.4 L / 100 km      15852   \n",
              "\n",
              "      ColourExtInt         Location CylindersinEngine   BodyType     Doors  \\\n",
              "10994    White / -  Morayfield, QLD             4 cyl  Hatchback   5 Doors   \n",
              "\n",
              "          Seats  Price  \n",
              "10994   5 Seats  22990  "
            ],
            "text/html": [
              "\n",
              "  <div id=\"df-95b89fe3-7050-40a4-895b-8c36afac1b04\" class=\"colab-df-container\">\n",
              "    <div>\n",
              "<style scoped>\n",
              "    .dataframe tbody tr th:only-of-type {\n",
              "        vertical-align: middle;\n",
              "    }\n",
              "\n",
              "    .dataframe tbody tr th {\n",
              "        vertical-align: top;\n",
              "    }\n",
              "\n",
              "    .dataframe thead th {\n",
              "        text-align: right;\n",
              "    }\n",
              "</style>\n",
              "<table border=\"1\" class=\"dataframe\">\n",
              "  <thead>\n",
              "    <tr style=\"text-align: right;\">\n",
              "      <th></th>\n",
              "      <th>Brand</th>\n",
              "      <th>Year</th>\n",
              "      <th>Model</th>\n",
              "      <th>Car/Suv</th>\n",
              "      <th>Title</th>\n",
              "      <th>UsedOrNew</th>\n",
              "      <th>Transmission</th>\n",
              "      <th>Engine</th>\n",
              "      <th>DriveType</th>\n",
              "      <th>FuelType</th>\n",
              "      <th>FuelConsumption</th>\n",
              "      <th>Kilometres</th>\n",
              "      <th>ColourExtInt</th>\n",
              "      <th>Location</th>\n",
              "      <th>CylindersinEngine</th>\n",
              "      <th>BodyType</th>\n",
              "      <th>Doors</th>\n",
              "      <th>Seats</th>\n",
              "      <th>Price</th>\n",
              "    </tr>\n",
              "  </thead>\n",
              "  <tbody>\n",
              "    <tr>\n",
              "      <th>10994</th>\n",
              "      <td>Kia</td>\n",
              "      <td>2018.0</td>\n",
              "      <td>Cerato</td>\n",
              "      <td>Hatchback</td>\n",
              "      <td>2018 Kia Cerato S (AV)</td>\n",
              "      <td>USED</td>\n",
              "      <td>Automatic</td>\n",
              "      <td>4 cyl, 2 L</td>\n",
              "      <td>Front</td>\n",
              "      <td>Unleaded</td>\n",
              "      <td>7.4 L / 100 km</td>\n",
              "      <td>15852</td>\n",
              "      <td>White / -</td>\n",
              "      <td>Morayfield, QLD</td>\n",
              "      <td>4 cyl</td>\n",
              "      <td>Hatchback</td>\n",
              "      <td>5 Doors</td>\n",
              "      <td>5 Seats</td>\n",
              "      <td>22990</td>\n",
              "    </tr>\n",
              "  </tbody>\n",
              "</table>\n",
              "</div>\n",
              "    <div class=\"colab-df-buttons\">\n",
              "\n",
              "  <div class=\"colab-df-container\">\n",
              "    <button class=\"colab-df-convert\" onclick=\"convertToInteractive('df-95b89fe3-7050-40a4-895b-8c36afac1b04')\"\n",
              "            title=\"Convert this dataframe to an interactive table.\"\n",
              "            style=\"display:none;\">\n",
              "\n",
              "  <svg xmlns=\"http://www.w3.org/2000/svg\" height=\"24px\" viewBox=\"0 -960 960 960\">\n",
              "    <path d=\"M120-120v-720h720v720H120Zm60-500h600v-160H180v160Zm220 220h160v-160H400v160Zm0 220h160v-160H400v160ZM180-400h160v-160H180v160Zm440 0h160v-160H620v160ZM180-180h160v-160H180v160Zm440 0h160v-160H620v160Z\"/>\n",
              "  </svg>\n",
              "    </button>\n",
              "\n",
              "  <style>\n",
              "    .colab-df-container {\n",
              "      display:flex;\n",
              "      gap: 12px;\n",
              "    }\n",
              "\n",
              "    .colab-df-convert {\n",
              "      background-color: #E8F0FE;\n",
              "      border: none;\n",
              "      border-radius: 50%;\n",
              "      cursor: pointer;\n",
              "      display: none;\n",
              "      fill: #1967D2;\n",
              "      height: 32px;\n",
              "      padding: 0 0 0 0;\n",
              "      width: 32px;\n",
              "    }\n",
              "\n",
              "    .colab-df-convert:hover {\n",
              "      background-color: #E2EBFA;\n",
              "      box-shadow: 0px 1px 2px rgba(60, 64, 67, 0.3), 0px 1px 3px 1px rgba(60, 64, 67, 0.15);\n",
              "      fill: #174EA6;\n",
              "    }\n",
              "\n",
              "    .colab-df-buttons div {\n",
              "      margin-bottom: 4px;\n",
              "    }\n",
              "\n",
              "    [theme=dark] .colab-df-convert {\n",
              "      background-color: #3B4455;\n",
              "      fill: #D2E3FC;\n",
              "    }\n",
              "\n",
              "    [theme=dark] .colab-df-convert:hover {\n",
              "      background-color: #434B5C;\n",
              "      box-shadow: 0px 1px 3px 1px rgba(0, 0, 0, 0.15);\n",
              "      filter: drop-shadow(0px 1px 2px rgba(0, 0, 0, 0.3));\n",
              "      fill: #FFFFFF;\n",
              "    }\n",
              "  </style>\n",
              "\n",
              "    <script>\n",
              "      const buttonEl =\n",
              "        document.querySelector('#df-95b89fe3-7050-40a4-895b-8c36afac1b04 button.colab-df-convert');\n",
              "      buttonEl.style.display =\n",
              "        google.colab.kernel.accessAllowed ? 'block' : 'none';\n",
              "\n",
              "      async function convertToInteractive(key) {\n",
              "        const element = document.querySelector('#df-95b89fe3-7050-40a4-895b-8c36afac1b04');\n",
              "        const dataTable =\n",
              "          await google.colab.kernel.invokeFunction('convertToInteractive',\n",
              "                                                    [key], {});\n",
              "        if (!dataTable) return;\n",
              "\n",
              "        const docLinkHtml = 'Like what you see? Visit the ' +\n",
              "          '<a target=\"_blank\" href=https://colab.research.google.com/notebooks/data_table.ipynb>data table notebook</a>'\n",
              "          + ' to learn more about interactive tables.';\n",
              "        element.innerHTML = '';\n",
              "        dataTable['output_type'] = 'display_data';\n",
              "        await google.colab.output.renderOutput(dataTable, element);\n",
              "        const docLink = document.createElement('div');\n",
              "        docLink.innerHTML = docLinkHtml;\n",
              "        element.appendChild(docLink);\n",
              "      }\n",
              "    </script>\n",
              "  </div>\n",
              "\n",
              "    </div>\n",
              "  </div>\n"
            ],
            "application/vnd.google.colaboratory.intrinsic+json": {
              "type": "dataframe",
              "summary": "{\n  \"name\": \"df\",\n  \"rows\": 1,\n  \"fields\": [\n    {\n      \"column\": \"Brand\",\n      \"properties\": {\n        \"dtype\": \"string\",\n        \"num_unique_values\": 1,\n        \"samples\": [\n          \"Kia\"\n        ],\n        \"semantic_type\": \"\",\n        \"description\": \"\"\n      }\n    },\n    {\n      \"column\": \"Year\",\n      \"properties\": {\n        \"dtype\": \"number\",\n        \"std\": null,\n        \"min\": 2018.0,\n        \"max\": 2018.0,\n        \"num_unique_values\": 1,\n        \"samples\": [\n          2018.0\n        ],\n        \"semantic_type\": \"\",\n        \"description\": \"\"\n      }\n    },\n    {\n      \"column\": \"Model\",\n      \"properties\": {\n        \"dtype\": \"string\",\n        \"num_unique_values\": 1,\n        \"samples\": [\n          \"Cerato\"\n        ],\n        \"semantic_type\": \"\",\n        \"description\": \"\"\n      }\n    },\n    {\n      \"column\": \"Car/Suv\",\n      \"properties\": {\n        \"dtype\": \"string\",\n        \"num_unique_values\": 1,\n        \"samples\": [\n          \"Hatchback\"\n        ],\n        \"semantic_type\": \"\",\n        \"description\": \"\"\n      }\n    },\n    {\n      \"column\": \"Title\",\n      \"properties\": {\n        \"dtype\": \"string\",\n        \"num_unique_values\": 1,\n        \"samples\": [\n          \"2018 Kia Cerato S (AV)\"\n        ],\n        \"semantic_type\": \"\",\n        \"description\": \"\"\n      }\n    },\n    {\n      \"column\": \"UsedOrNew\",\n      \"properties\": {\n        \"dtype\": \"string\",\n        \"num_unique_values\": 1,\n        \"samples\": [\n          \"USED\"\n        ],\n        \"semantic_type\": \"\",\n        \"description\": \"\"\n      }\n    },\n    {\n      \"column\": \"Transmission\",\n      \"properties\": {\n        \"dtype\": \"string\",\n        \"num_unique_values\": 1,\n        \"samples\": [\n          \"Automatic\"\n        ],\n        \"semantic_type\": \"\",\n        \"description\": \"\"\n      }\n    },\n    {\n      \"column\": \"Engine\",\n      \"properties\": {\n        \"dtype\": \"string\",\n        \"num_unique_values\": 1,\n        \"samples\": [\n          \"4 cyl, 2 L\"\n        ],\n        \"semantic_type\": \"\",\n        \"description\": \"\"\n      }\n    },\n    {\n      \"column\": \"DriveType\",\n      \"properties\": {\n        \"dtype\": \"string\",\n        \"num_unique_values\": 1,\n        \"samples\": [\n          \"Front\"\n        ],\n        \"semantic_type\": \"\",\n        \"description\": \"\"\n      }\n    },\n    {\n      \"column\": \"FuelType\",\n      \"properties\": {\n        \"dtype\": \"string\",\n        \"num_unique_values\": 1,\n        \"samples\": [\n          \"Unleaded\"\n        ],\n        \"semantic_type\": \"\",\n        \"description\": \"\"\n      }\n    },\n    {\n      \"column\": \"FuelConsumption\",\n      \"properties\": {\n        \"dtype\": \"string\",\n        \"num_unique_values\": 1,\n        \"samples\": [\n          \"7.4 L / 100 km\"\n        ],\n        \"semantic_type\": \"\",\n        \"description\": \"\"\n      }\n    },\n    {\n      \"column\": \"Kilometres\",\n      \"properties\": {\n        \"dtype\": \"string\",\n        \"num_unique_values\": 1,\n        \"samples\": [\n          \"15852\"\n        ],\n        \"semantic_type\": \"\",\n        \"description\": \"\"\n      }\n    },\n    {\n      \"column\": \"ColourExtInt\",\n      \"properties\": {\n        \"dtype\": \"string\",\n        \"num_unique_values\": 1,\n        \"samples\": [\n          \"White / -\"\n        ],\n        \"semantic_type\": \"\",\n        \"description\": \"\"\n      }\n    },\n    {\n      \"column\": \"Location\",\n      \"properties\": {\n        \"dtype\": \"string\",\n        \"num_unique_values\": 1,\n        \"samples\": [\n          \"Morayfield, QLD\"\n        ],\n        \"semantic_type\": \"\",\n        \"description\": \"\"\n      }\n    },\n    {\n      \"column\": \"CylindersinEngine\",\n      \"properties\": {\n        \"dtype\": \"string\",\n        \"num_unique_values\": 1,\n        \"samples\": [\n          \"4 cyl\"\n        ],\n        \"semantic_type\": \"\",\n        \"description\": \"\"\n      }\n    },\n    {\n      \"column\": \"BodyType\",\n      \"properties\": {\n        \"dtype\": \"string\",\n        \"num_unique_values\": 1,\n        \"samples\": [\n          \"Hatchback\"\n        ],\n        \"semantic_type\": \"\",\n        \"description\": \"\"\n      }\n    },\n    {\n      \"column\": \"Doors\",\n      \"properties\": {\n        \"dtype\": \"string\",\n        \"num_unique_values\": 1,\n        \"samples\": [\n          \" 5 Doors\"\n        ],\n        \"semantic_type\": \"\",\n        \"description\": \"\"\n      }\n    },\n    {\n      \"column\": \"Seats\",\n      \"properties\": {\n        \"dtype\": \"string\",\n        \"num_unique_values\": 1,\n        \"samples\": [\n          \" 5 Seats\"\n        ],\n        \"semantic_type\": \"\",\n        \"description\": \"\"\n      }\n    },\n    {\n      \"column\": \"Price\",\n      \"properties\": {\n        \"dtype\": \"string\",\n        \"num_unique_values\": 1,\n        \"samples\": [\n          \"22990\"\n        ],\n        \"semantic_type\": \"\",\n        \"description\": \"\"\n      }\n    }\n  ]\n}"
            }
          },
          "metadata": {},
          "execution_count": 10
        }
      ]
    },
    {
      "cell_type": "code",
      "source": [
        "df.isnull().sum()"
      ],
      "metadata": {
        "colab": {
          "base_uri": "https://localhost:8080/"
        },
        "id": "Uir_gv24hgfX",
        "outputId": "00c7c306-dac3-4e99-c8f2-12099ce5034d"
      },
      "execution_count": null,
      "outputs": [
        {
          "output_type": "execute_result",
          "data": {
            "text/plain": [
              "Brand                   1\n",
              "Year                    1\n",
              "Model                   1\n",
              "Car/Suv                28\n",
              "Title                   1\n",
              "UsedOrNew               1\n",
              "Transmission            1\n",
              "Engine                  1\n",
              "DriveType               1\n",
              "FuelType                1\n",
              "FuelConsumption         1\n",
              "Kilometres              1\n",
              "ColourExtInt            1\n",
              "Location              450\n",
              "CylindersinEngine       1\n",
              "BodyType              282\n",
              "Doors                1604\n",
              "Seats                1705\n",
              "Price                   3\n",
              "dtype: int64"
            ]
          },
          "metadata": {},
          "execution_count": 11
        }
      ]
    },
    {
      "cell_type": "code",
      "source": [
        "df.dropna(inplace=True)\n",
        "df.isnull().sum()"
      ],
      "metadata": {
        "colab": {
          "base_uri": "https://localhost:8080/"
        },
        "id": "HiJ4inMa3KFl",
        "outputId": "ff6927da-1dc6-45a4-8ea4-742047cae71d"
      },
      "execution_count": null,
      "outputs": [
        {
          "output_type": "execute_result",
          "data": {
            "text/plain": [
              "Brand                0\n",
              "Year                 0\n",
              "Model                0\n",
              "Car/Suv              0\n",
              "Title                0\n",
              "UsedOrNew            0\n",
              "Transmission         0\n",
              "Engine               0\n",
              "DriveType            0\n",
              "FuelType             0\n",
              "FuelConsumption      0\n",
              "Kilometres           0\n",
              "ColourExtInt         0\n",
              "Location             0\n",
              "CylindersinEngine    0\n",
              "BodyType             0\n",
              "Doors                0\n",
              "Seats                0\n",
              "Price                0\n",
              "dtype: int64"
            ]
          },
          "metadata": {},
          "execution_count": 12
        }
      ]
    },
    {
      "cell_type": "code",
      "source": [
        "df.shape"
      ],
      "metadata": {
        "colab": {
          "base_uri": "https://localhost:8080/"
        },
        "id": "shYDlnzq3-w0",
        "outputId": "11eae916-4328-48d4-cfea-03e06c222342"
      },
      "execution_count": null,
      "outputs": [
        {
          "output_type": "execute_result",
          "data": {
            "text/plain": [
              "(14586, 19)"
            ]
          },
          "metadata": {},
          "execution_count": 13
        }
      ]
    },
    {
      "cell_type": "code",
      "source": [
        "print(df.duplicated().sum())"
      ],
      "metadata": {
        "colab": {
          "base_uri": "https://localhost:8080/"
        },
        "id": "DUfZwecD4ItD",
        "outputId": "b3ae5232-3cb5-46c5-c046-0dc783143755"
      },
      "execution_count": null,
      "outputs": [
        {
          "output_type": "stream",
          "name": "stdout",
          "text": [
            "0\n"
          ]
        }
      ]
    },
    {
      "cell_type": "code",
      "source": [
        "df=df.drop_duplicates() #supprimer les lignes en double\n",
        "df.shape"
      ],
      "metadata": {
        "colab": {
          "base_uri": "https://localhost:8080/"
        },
        "id": "QJ9bSkLB6Rbj",
        "outputId": "c8d8e4f2-48e2-4574-cb07-2cfb9c34f144"
      },
      "execution_count": null,
      "outputs": [
        {
          "output_type": "execute_result",
          "data": {
            "text/plain": [
              "(14586, 19)"
            ]
          },
          "metadata": {},
          "execution_count": 15
        }
      ]
    },
    {
      "cell_type": "code",
      "source": [
        "df['Year']=df['Year'].astype(int)"
      ],
      "metadata": {
        "id": "dWWua2Nv8TJS"
      },
      "execution_count": null,
      "outputs": []
    },
    {
      "cell_type": "code",
      "source": [
        "df.dtypes"
      ],
      "metadata": {
        "colab": {
          "base_uri": "https://localhost:8080/"
        },
        "id": "Nt8iPDBa0CsE",
        "outputId": "3bab4d23-76b9-41ed-f4ea-44fcc9dccc96"
      },
      "execution_count": null,
      "outputs": [
        {
          "output_type": "execute_result",
          "data": {
            "text/plain": [
              "Brand                object\n",
              "Year                  int64\n",
              "Model                object\n",
              "Car/Suv              object\n",
              "Title                object\n",
              "UsedOrNew            object\n",
              "Transmission         object\n",
              "Engine               object\n",
              "DriveType            object\n",
              "FuelType             object\n",
              "FuelConsumption      object\n",
              "Kilometres           object\n",
              "ColourExtInt         object\n",
              "Location             object\n",
              "CylindersinEngine    object\n",
              "BodyType             object\n",
              "Doors                object\n",
              "Seats                object\n",
              "Price                object\n",
              "dtype: object"
            ]
          },
          "metadata": {},
          "execution_count": 17
        }
      ]
    },
    {
      "cell_type": "code",
      "source": [
        "reference_year = 2023\n",
        "\n",
        "# Calculer l'âge en années de chaque voiture à partir de la colonne 'Year'\n",
        "df['age'] = reference_year - df['Year']\n",
        "\n",
        "# Afficher le DataFrame avec la colonne 'age' calculée\n",
        "print(df)"
      ],
      "metadata": {
        "colab": {
          "base_uri": "https://localhost:8080/"
        },
        "id": "8Qsb9CEU9dLo",
        "outputId": "14db6876-4f08-4e13-d6ac-84d8eda7a1be"
      },
      "execution_count": null,
      "outputs": [
        {
          "output_type": "stream",
          "name": "stdout",
          "text": [
            "               Brand  Year    Model               Car/Suv  \\\n",
            "0          Ssangyong  2022   Rexton  Sutherland Isuzu Ute   \n",
            "1                 MG  2022      MG3             Hatchback   \n",
            "2                BMW  2022     430I                 Coupe   \n",
            "3      Mercedes-Benz  2011     E500                 Coupe   \n",
            "4            Renault  2022   Arkana                   SUV   \n",
            "...              ...   ...      ...                   ...   \n",
            "16727        Hyundai  2015      I30                 Wagon   \n",
            "16728         Nissan  2021  Qashqai                   SUV   \n",
            "16731         Suzuki  2022   Vitara   Bremer Suzuki - New   \n",
            "16732  Mercedes-Benz  2016   GLC250                   SUV   \n",
            "16733  Mercedes-Benz  2021     C200                 Sedan   \n",
            "\n",
            "                                           Title UsedOrNew Transmission  \\\n",
            "0           2022 Ssangyong Rexton Ultimate (awd)      DEMO    Automatic   \n",
            "1      2022 MG MG3 Auto Excite (with Navigation)      USED    Automatic   \n",
            "2                          2022 BMW 430I M Sport      USED    Automatic   \n",
            "3               2011 Mercedes-Benz E500 Elegance      USED    Automatic   \n",
            "4                     2022 Renault Arkana Intens      USED    Automatic   \n",
            "...                                          ...       ...          ...   \n",
            "16727     2015 Hyundai I30 Tourer Active 1.6 GDI      USED    Automatic   \n",
            "16728                     2021 Nissan Qashqai TI      USED    Automatic   \n",
            "16731                    2022 Suzuki Vitara 1.6L      DEMO    Automatic   \n",
            "16732                  2016 Mercedes-Benz GLC250      USED    Automatic   \n",
            "16733                    2021 Mercedes-Benz C200      USED    Automatic   \n",
            "\n",
            "             Engine DriveType  FuelType FuelConsumption Kilometres  \\\n",
            "0      4 cyl, 2.2 L       AWD    Diesel  8.7 L / 100 km       5595   \n",
            "1      4 cyl, 1.5 L     Front   Premium  6.7 L / 100 km         16   \n",
            "2        4 cyl, 2 L      Rear   Premium  6.6 L / 100 km       8472   \n",
            "3      8 cyl, 5.5 L      Rear   Premium   11 L / 100 km     136517   \n",
            "4      4 cyl, 1.3 L     Front  Unleaded    6 L / 100 km       1035   \n",
            "...             ...       ...       ...             ...        ...   \n",
            "16727  4 cyl, 1.6 L     Front  Unleaded  6.9 L / 100 km      54359   \n",
            "16728    4 cyl, 2 L     Front  Unleaded  6.9 L / 100 km      32977   \n",
            "16731  4 cyl, 1.6 L     Front  Unleaded  6.2 L / 100 km       5165   \n",
            "16732    4 cyl, 2 L       AWD   Premium  7.2 L / 100 km      85525   \n",
            "16733    4 cyl, 2 L      Rear  Unleaded    7 L / 100 km      31852   \n",
            "\n",
            "                ColourExtInt             Location CylindersinEngine  \\\n",
            "0              White / Black       Caringbah, NSW             4 cyl   \n",
            "1              Black / Black       Brookvale, NSW             4 cyl   \n",
            "2               Grey / White        Sylvania, NSW             4 cyl   \n",
            "3              White / Brown    Mount Druitt, NSW             8 cyl   \n",
            "4               Grey / Black     Castle Hill, NSW             4 cyl   \n",
            "...                      ...                  ...               ...   \n",
            "16727  Silver / Black  Cloth  Oakleigh South, VIC             4 cyl   \n",
            "16728              White / -         Rocklea, QLD             4 cyl   \n",
            "16731             Yellow / -         Dinmore, QLD             4 cyl   \n",
            "16732           Grey / Black          Albion, QLD             4 cyl   \n",
            "16733               Gold / -          Yatala, QLD             4 cyl   \n",
            "\n",
            "        BodyType     Doors     Seats   Price  age  \n",
            "0            SUV   4 Doors   7 Seats   51990    1  \n",
            "1      Hatchback   5 Doors   5 Seats   19990    1  \n",
            "2          Coupe   2 Doors   4 Seats  108988    1  \n",
            "3          Coupe   2 Doors   4 Seats   32990   12  \n",
            "4            SUV   4 Doors   5 Seats   34990    1  \n",
            "...          ...       ...       ...     ...  ...  \n",
            "16727      Wagon   4 Doors   5 Seats   21450    8  \n",
            "16728        SUV   4 Doors   5 Seats   36770    2  \n",
            "16731        SUV   4 Doors   5 Seats   35280    1  \n",
            "16732        SUV   4 Doors   5 Seats   41888    7  \n",
            "16733      Sedan   4 Doors   5 Seats   65888    2  \n",
            "\n",
            "[14586 rows x 20 columns]\n"
          ]
        }
      ]
    },
    {
      "cell_type": "code",
      "source": [
        "df=df.drop(columns=['Year'])"
      ],
      "metadata": {
        "id": "jZw6t_yIxRRp"
      },
      "execution_count": null,
      "outputs": []
    },
    {
      "cell_type": "code",
      "source": [
        "df.columns"
      ],
      "metadata": {
        "colab": {
          "base_uri": "https://localhost:8080/"
        },
        "id": "E0rzq3RA20Yh",
        "outputId": "60e80c51-2a37-48a1-d0bd-0c722897f492"
      },
      "execution_count": null,
      "outputs": [
        {
          "output_type": "execute_result",
          "data": {
            "text/plain": [
              "Index(['Brand', 'Model', 'Car/Suv', 'Title', 'UsedOrNew', 'Transmission',\n",
              "       'Engine', 'DriveType', 'FuelType', 'FuelConsumption', 'Kilometres',\n",
              "       'ColourExtInt', 'Location', 'CylindersinEngine', 'BodyType', 'Doors',\n",
              "       'Seats', 'Price', 'age'],\n",
              "      dtype='object')"
            ]
          },
          "metadata": {},
          "execution_count": 20
        }
      ]
    },
    {
      "cell_type": "code",
      "source": [
        "df.info()"
      ],
      "metadata": {
        "colab": {
          "base_uri": "https://localhost:8080/"
        },
        "id": "4uso-ls-27QO",
        "outputId": "312b1799-f1e0-426d-be68-fff30f234067"
      },
      "execution_count": null,
      "outputs": [
        {
          "output_type": "stream",
          "name": "stdout",
          "text": [
            "<class 'pandas.core.frame.DataFrame'>\n",
            "Index: 14586 entries, 0 to 16733\n",
            "Data columns (total 19 columns):\n",
            " #   Column             Non-Null Count  Dtype \n",
            "---  ------             --------------  ----- \n",
            " 0   Brand              14586 non-null  object\n",
            " 1   Model              14586 non-null  object\n",
            " 2   Car/Suv            14586 non-null  object\n",
            " 3   Title              14586 non-null  object\n",
            " 4   UsedOrNew          14586 non-null  object\n",
            " 5   Transmission       14586 non-null  object\n",
            " 6   Engine             14586 non-null  object\n",
            " 7   DriveType          14586 non-null  object\n",
            " 8   FuelType           14586 non-null  object\n",
            " 9   FuelConsumption    14586 non-null  object\n",
            " 10  Kilometres         14586 non-null  object\n",
            " 11  ColourExtInt       14586 non-null  object\n",
            " 12  Location           14586 non-null  object\n",
            " 13  CylindersinEngine  14586 non-null  object\n",
            " 14  BodyType           14586 non-null  object\n",
            " 15  Doors              14586 non-null  object\n",
            " 16  Seats              14586 non-null  object\n",
            " 17  Price              14586 non-null  object\n",
            " 18  age                14586 non-null  int64 \n",
            "dtypes: int64(1), object(18)\n",
            "memory usage: 2.2+ MB\n"
          ]
        }
      ]
    },
    {
      "cell_type": "code",
      "source": [
        "df=df.drop(columns=['Title','Location'])\n",
        "df.columns\n"
      ],
      "metadata": {
        "colab": {
          "base_uri": "https://localhost:8080/"
        },
        "id": "f7hp2sd1nZyH",
        "outputId": "f7aa1f0e-63ac-4197-f802-fba92c24ed72"
      },
      "execution_count": null,
      "outputs": [
        {
          "output_type": "execute_result",
          "data": {
            "text/plain": [
              "Index(['Brand', 'Model', 'Car/Suv', 'UsedOrNew', 'Transmission', 'Engine',\n",
              "       'DriveType', 'FuelType', 'FuelConsumption', 'Kilometres',\n",
              "       'ColourExtInt', 'CylindersinEngine', 'BodyType', 'Doors', 'Seats',\n",
              "       'Price', 'age'],\n",
              "      dtype='object')"
            ]
          },
          "metadata": {},
          "execution_count": 22
        }
      ]
    },
    {
      "cell_type": "code",
      "source": [
        "indexes = df[df.FuelType == '-'].index\n",
        "df.drop(indexes, inplace=True)\n",
        "df.FuelType.unique()"
      ],
      "metadata": {
        "colab": {
          "base_uri": "https://localhost:8080/"
        },
        "id": "dz7kM_AP-nj5",
        "outputId": "74f37144-545b-4323-f78e-48112ee00be5"
      },
      "execution_count": null,
      "outputs": [
        {
          "output_type": "execute_result",
          "data": {
            "text/plain": [
              "array(['Diesel', 'Premium', 'Unleaded', 'Hybrid', 'Electric', 'LPG',\n",
              "       'Leaded'], dtype=object)"
            ]
          },
          "metadata": {},
          "execution_count": 23
        }
      ]
    },
    {
      "cell_type": "code",
      "source": [
        "df['Price'] = pd.to_numeric(df['Price'], errors='coerce', downcast='float')\n",
        "df['Kilometres'] = pd.to_numeric(df['Kilometres'], errors='coerce', downcast='integer')\n",
        "\n",
        "\n",
        "print(df.info())"
      ],
      "metadata": {
        "colab": {
          "base_uri": "https://localhost:8080/"
        },
        "id": "SlSU-mYq-gbU",
        "outputId": "f3d19426-4590-4756-9be0-76d65c67268f"
      },
      "execution_count": null,
      "outputs": [
        {
          "output_type": "stream",
          "name": "stdout",
          "text": [
            "<class 'pandas.core.frame.DataFrame'>\n",
            "Index: 14419 entries, 0 to 16733\n",
            "Data columns (total 17 columns):\n",
            " #   Column             Non-Null Count  Dtype  \n",
            "---  ------             --------------  -----  \n",
            " 0   Brand              14419 non-null  object \n",
            " 1   Model              14419 non-null  object \n",
            " 2   Car/Suv            14419 non-null  object \n",
            " 3   UsedOrNew          14419 non-null  object \n",
            " 4   Transmission       14419 non-null  object \n",
            " 5   Engine             14419 non-null  object \n",
            " 6   DriveType          14419 non-null  object \n",
            " 7   FuelType           14419 non-null  object \n",
            " 8   FuelConsumption    14419 non-null  object \n",
            " 9   Kilometres         14334 non-null  float64\n",
            " 10  ColourExtInt       14419 non-null  object \n",
            " 11  CylindersinEngine  14419 non-null  object \n",
            " 12  BodyType           14419 non-null  object \n",
            " 13  Doors              14419 non-null  object \n",
            " 14  Seats              14419 non-null  object \n",
            " 15  Price              14386 non-null  float32\n",
            " 16  age                14419 non-null  int64  \n",
            "dtypes: float32(1), float64(1), int64(1), object(14)\n",
            "memory usage: 1.9+ MB\n",
            "None\n"
          ]
        }
      ]
    },
    {
      "cell_type": "code",
      "source": [
        "# Plot the distribution of prices\n",
        "plt.figure(figsize=(10, 6))\n",
        "sns.histplot(df['Price'], bins=30, kde=True)\n",
        "plt.title('Distribution of Prices')\n",
        "plt.xlabel('Price')\n",
        "plt.ylabel('Frequency')\n",
        "plt.show()"
      ],
      "metadata": {
        "colab": {
          "base_uri": "https://localhost:8080/",
          "height": 564
        },
        "id": "k-ynTZkh_5Ep",
        "outputId": "922b1179-2746-47a2-f81f-361ebaafcdf5"
      },
      "execution_count": null,
      "outputs": [
        {
          "output_type": "display_data",
          "data": {
            "text/plain": [
              "<Figure size 1000x600 with 1 Axes>"
            ],
            "image/png": "[encoded data removed]"
          },
          "metadata": {}
        }
      ]
    },
    {
      "cell_type": "code",
      "source": [
        "# Normalizing the data\n",
        "from sklearn.preprocessing import LabelEncoder, MinMaxScaler\n",
        "from sklearn.metrics import mean_absolute_error, mean_squared_error, r2_score, accuracy_score\n",
        "mx = MinMaxScaler()\n",
        "\n",
        "df['Price'] = mx.fit_transform(df[['Price']])\n",
        "df['age'] = mx.fit_transform(df[['age']])\n",
        "df['Kilometres'] = mx.fit_transform(df[['Kilometres']])"
      ],
      "metadata": {
        "id": "V10lQvEi-6GH"
      },
      "execution_count": null,
      "outputs": []
    },
    {
      "cell_type": "code",
      "source": [
        "df.nunique()"
      ],
      "metadata": {
        "id": "jjJqs3b8CYzm",
        "colab": {
          "base_uri": "https://localhost:8080/"
        },
        "outputId": "002514c2-11ca-42f2-bd25-d9842aa4af7a"
      },
      "execution_count": null,
      "outputs": [
        {
          "output_type": "execute_result",
          "data": {
            "text/plain": [
              "Brand                   64\n",
              "Model                  643\n",
              "Car/Suv                239\n",
              "UsedOrNew                3\n",
              "Transmission             3\n",
              "Engine                  90\n",
              "DriveType                5\n",
              "FuelType                 7\n",
              "FuelConsumption        152\n",
              "Kilometres           12937\n",
              "ColourExtInt           700\n",
              "CylindersinEngine        9\n",
              "BodyType                10\n",
              "Doors                    4\n",
              "Seats                   12\n",
              "Price                 3164\n",
              "age                     39\n",
              "dtype: int64"
            ]
          },
          "metadata": {},
          "execution_count": 28
        }
      ]
    },
    {
      "cell_type": "markdown",
      "source": [
        "Maintenant qu’on a éliminé les colonnes inutiles pour la regression, passons à la modification des colonnes catégorique au numériques"
      ],
      "metadata": {
        "id": "IufhwGEUAExy"
      }
    },
    {
      "cell_type": "code",
      "source": [
        "df['UsedOrNew'].value_counts()"
      ],
      "metadata": {
        "colab": {
          "base_uri": "https://localhost:8080/"
        },
        "id": "V-JGQYcurLOx",
        "outputId": "a0a59fbb-80ba-4859-c7b2-2afc2d1e722e"
      },
      "execution_count": null,
      "outputs": [
        {
          "output_type": "execute_result",
          "data": {
            "text/plain": [
              "UsedOrNew\n",
              "USED    13489\n",
              "NEW       522\n",
              "DEMO      408\n",
              "Name: count, dtype: int64"
            ]
          },
          "metadata": {},
          "execution_count": 29
        }
      ]
    },
    {
      "cell_type": "code",
      "source": [
        "sns.countplot(x=df['UsedOrNew'],label=\"count\")"
      ],
      "metadata": {
        "colab": {
          "base_uri": "https://localhost:8080/",
          "height": 469
        },
        "id": "7FGP0GfvC5vo",
        "outputId": "72c7be03-139e-40fd-aa6c-fe03a2ef2c1b"
      },
      "execution_count": null,
      "outputs": [
        {
          "output_type": "execute_result",
          "data": {
            "text/plain": [
              "<Axes: xlabel='UsedOrNew', ylabel='count'>"
            ]
          },
          "metadata": {},
          "execution_count": 30
        },
        {
          "output_type": "display_data",
          "data": {
            "text/plain": [
              "<Figure size 640x480 with 1 Axes>"
            ],
            "image/png": "[encoded data removed]"
          },
          "metadata": {}
        }
      ]
    },
    {
      "cell_type": "code",
      "source": [
        "df['UsedOrNew']=df['UsedOrNew'].replace({'USED':1,'NEW':2,'DEMO':0})"
      ],
      "metadata": {
        "id": "My_0ceczDF81"
      },
      "execution_count": null,
      "outputs": []
    },
    {
      "cell_type": "code",
      "source": [
        "sns.countplot(x=df['UsedOrNew'],label=\"count\")"
      ],
      "metadata": {
        "colab": {
          "base_uri": "https://localhost:8080/",
          "height": 469
        },
        "id": "f45jPpYjDxFj",
        "outputId": "a64adfe7-8956-487a-99a2-c51b77059fe6"
      },
      "execution_count": null,
      "outputs": [
        {
          "output_type": "execute_result",
          "data": {
            "text/plain": [
              "<Axes: xlabel='UsedOrNew', ylabel='count'>"
            ]
          },
          "metadata": {},
          "execution_count": 33
        },
        {
          "output_type": "display_data",
          "data": {
            "text/plain": [
              "<Figure size 640x480 with 1 Axes>"
            ],
            "image/png": "[encoded data removed]"
          },
          "metadata": {}
        }
      ]
    },
    {
      "cell_type": "code",
      "source": [
        "# Supprimer les lignes ayant des valeurs nulles dans la colonne 'Price'\n",
        "df = df.dropna(subset=['Price'])\n",
        "\n",
        "# Afficher les informations sur le DataFrame pour vérifier que les lignes ont été supprimées\n",
        "print(df.info())"
      ],
      "metadata": {
        "colab": {
          "base_uri": "https://localhost:8080/"
        },
        "id": "5QmP3VdpPlhz",
        "outputId": "fe752b2d-1b87-46f4-9cfa-c5d260246d40"
      },
      "execution_count": null,
      "outputs": [
        {
          "output_type": "stream",
          "name": "stdout",
          "text": [
            "<class 'pandas.core.frame.DataFrame'>\n",
            "Index: 14386 entries, 0 to 16733\n",
            "Data columns (total 17 columns):\n",
            " #   Column             Non-Null Count  Dtype  \n",
            "---  ------             --------------  -----  \n",
            " 0   Brand              14386 non-null  object \n",
            " 1   Model              14386 non-null  object \n",
            " 2   Car/Suv            14386 non-null  object \n",
            " 3   UsedOrNew          14386 non-null  int64  \n",
            " 4   Transmission       14386 non-null  object \n",
            " 5   Engine             14386 non-null  object \n",
            " 6   DriveType          14386 non-null  object \n",
            " 7   FuelType           14386 non-null  object \n",
            " 8   FuelConsumption    14386 non-null  object \n",
            " 9   Kilometres         14309 non-null  float64\n",
            " 10  ColourExtInt       14386 non-null  object \n",
            " 11  CylindersinEngine  14386 non-null  object \n",
            " 12  BodyType           14386 non-null  object \n",
            " 13  Doors              14386 non-null  object \n",
            " 14  Seats              14386 non-null  object \n",
            " 15  Price              14386 non-null  float32\n",
            " 16  age                14386 non-null  float64\n",
            "dtypes: float32(1), float64(2), int64(1), object(13)\n",
            "memory usage: 1.9+ MB\n",
            "None\n"
          ]
        }
      ]
    },
    {
      "cell_type": "code",
      "source": [
        "# Remplacer les valeurs '-' par NaN dans tout le DataFrame\n",
        "df.replace('-', pd.NA, inplace=True)\n",
        "\n",
        "# Compter le nombre de valeurs manquantes dans chaque colonne\n",
        "missing_values_count = df.isna().sum()\n",
        "\n",
        "# Afficher le nombre de valeurs manquantes dans chaque colonne\n",
        "print(missing_values_count)"
      ],
      "metadata": {
        "colab": {
          "base_uri": "https://localhost:8080/"
        },
        "id": "mTh-VG7bRkM7",
        "outputId": "3a6955c2-087a-45ae-d63d-f09a735078f8"
      },
      "execution_count": null,
      "outputs": [
        {
          "output_type": "stream",
          "name": "stdout",
          "text": [
            "Brand                 0\n",
            "Model                 0\n",
            "Car/Suv               0\n",
            "UsedOrNew             0\n",
            "Transmission         27\n",
            "Engine                0\n",
            "DriveType             0\n",
            "FuelType              0\n",
            "FuelConsumption       0\n",
            "Kilometres           77\n",
            "ColourExtInt          0\n",
            "CylindersinEngine     0\n",
            "BodyType              0\n",
            "Doors                 0\n",
            "Seats                 0\n",
            "Price                 0\n",
            "age                   0\n",
            "dtype: int64\n"
          ]
        }
      ]
    },
    {
      "cell_type": "markdown",
      "source": [
        "\n",
        "\n",
        "1/ Kilometres : présente 77 valeurs manquantes => supprimer les lignes puisquon a un dataset de 14520 lignes\n",
        "\n",
        "3/ transmition : 27 valeurs\n"
      ],
      "metadata": {
        "id": "3dvMluGBIZ01"
      }
    },
    {
      "cell_type": "code",
      "source": [
        "# Supprimer les lignes contenant des valeurs manquantes dans les colonnes 'FuelType' et 'Kilometres'\n",
        "df.dropna(subset=[ 'Kilometres',], inplace=True)\n",
        "\n",
        "# Réinitialiser l'index après la suppression des lignes\n",
        "df.reset_index(drop=True, inplace=True)\n",
        "\n",
        "# Vérifier le nombre de lignes après la suppression\n",
        "print(\"Nombre de lignes après la suppression :\", len(df))\n"
      ],
      "metadata": {
        "colab": {
          "base_uri": "https://localhost:8080/"
        },
        "id": "gJIa4RY3Uxm6",
        "outputId": "9049673e-29cc-4450-c1bf-43d594b44791"
      },
      "execution_count": null,
      "outputs": [
        {
          "output_type": "stream",
          "name": "stdout",
          "text": [
            "Nombre de lignes après la suppression : 14309\n"
          ]
        }
      ]
    },
    {
      "cell_type": "code",
      "source": [
        "df['Transmission'].value_counts()"
      ],
      "metadata": {
        "colab": {
          "base_uri": "https://localhost:8080/"
        },
        "id": "hG0KrWJ6FSMn",
        "outputId": "78f3344b-7fcc-408a-f4ec-f93f76e29fa2"
      },
      "execution_count": null,
      "outputs": [
        {
          "output_type": "execute_result",
          "data": {
            "text/plain": [
              "Transmission\n",
              "Automatic    12596\n",
              "Manual        1687\n",
              "Name: count, dtype: int64"
            ]
          },
          "metadata": {},
          "execution_count": 38
        }
      ]
    },
    {
      "cell_type": "code",
      "source": [
        "sns.countplot(x=df['Transmission'],label=\"count\")"
      ],
      "metadata": {
        "colab": {
          "base_uri": "https://localhost:8080/",
          "height": 467
        },
        "id": "VKahfh2nGWpR",
        "outputId": "419c4d39-36db-46d2-c924-92828264e25f"
      },
      "execution_count": null,
      "outputs": [
        {
          "output_type": "execute_result",
          "data": {
            "text/plain": [
              "<Axes: xlabel='Transmission', ylabel='count'>"
            ]
          },
          "metadata": {},
          "execution_count": 39
        },
        {
          "output_type": "display_data",
          "data": {
            "text/plain": [
              "<Figure size 640x480 with 1 Axes>"
            ],
            "image/png": "[encoded data removed]"
          },
          "metadata": {}
        }
      ]
    },
    {
      "cell_type": "code",
      "source": [
        "print(df['Transmission'].isnull().sum())"
      ],
      "metadata": {
        "colab": {
          "base_uri": "https://localhost:8080/"
        },
        "id": "ycb736OEHDr7",
        "outputId": "8710f391-ff79-4780-d38b-21e5660a4a35"
      },
      "execution_count": null,
      "outputs": [
        {
          "output_type": "stream",
          "name": "stdout",
          "text": [
            "26\n"
          ]
        }
      ]
    },
    {
      "cell_type": "code",
      "source": [
        "# Supprimer les lignes avec des valeurs manquantes dans la colonne 'Transmission'\n",
        "df.dropna(subset=['Transmission'], inplace=True)\n"
      ],
      "metadata": {
        "id": "y7IJfdGOHQDB"
      },
      "execution_count": null,
      "outputs": []
    },
    {
      "cell_type": "code",
      "source": [
        "lb = LabelEncoder()\n",
        "df['Transmission'] = lb.fit_transform(df['Transmission'])\n",
        "print(df['Transmission'].value_counts())\n"
      ],
      "metadata": {
        "colab": {
          "base_uri": "https://localhost:8080/"
        },
        "id": "056T3AhvGggM",
        "outputId": "1e10b00a-6194-42ce-d9d3-08412ce0d68f"
      },
      "execution_count": null,
      "outputs": [
        {
          "output_type": "stream",
          "name": "stdout",
          "text": [
            "Transmission\n",
            "0    12596\n",
            "1     1687\n",
            "Name: count, dtype: int64\n"
          ]
        }
      ]
    },
    {
      "cell_type": "code",
      "source": [
        "print(df['Doors'].value_counts())"
      ],
      "metadata": {
        "colab": {
          "base_uri": "https://localhost:8080/"
        },
        "id": "EAXuZT9NN9v_",
        "outputId": "ff2b3867-a28d-4bb4-fc7e-28150053ff5a"
      },
      "execution_count": null,
      "outputs": [
        {
          "output_type": "stream",
          "name": "stdout",
          "text": [
            "Doors\n",
            " 4 Doors    10736\n",
            " 5 Doors     2397\n",
            " 2 Doors      963\n",
            " 3 Doors      187\n",
            "Name: count, dtype: int64\n"
          ]
        }
      ]
    },
    {
      "cell_type": "code",
      "source": [
        "print(df['Seats'].value_counts())"
      ],
      "metadata": {
        "colab": {
          "base_uri": "https://localhost:8080/"
        },
        "id": "4Lbkkq_xcEZ_",
        "outputId": "d8a732f1-79b2-4bf9-cb9b-555057c8c008"
      },
      "execution_count": null,
      "outputs": [
        {
          "output_type": "stream",
          "name": "stdout",
          "text": [
            "Seats\n",
            " 5 Seats     10835\n",
            " 7 Seats      1738\n",
            " 4 Seats       627\n",
            " 2 Seats       536\n",
            " 8 Seats       266\n",
            " 3 Seats       239\n",
            " 6 Seats        21\n",
            " 14 Seats       11\n",
            " 9 Seats         3\n",
            " 11 Seats        3\n",
            " 12 Seats        3\n",
            " 22 Seats        1\n",
            "Name: count, dtype: int64\n"
          ]
        }
      ]
    },
    {
      "cell_type": "code",
      "source": [
        "# Supprimer le mot \"Seats\" de la colonne \"Seats\"\n",
        "df['Seats'] = df['Seats'].str.replace('Seats', '')\n",
        "\n",
        "# Supprimer le mot \"Doors\" de la colonne \"Doors\"\n",
        "df['Doors'] = df['Doors'].str.replace('Doors', '')\n",
        "\n",
        "df['Doors'] = lb.fit_transform(df['Doors'])\n",
        "df['Seats'] = lb.fit_transform(df['Seats'])\n",
        "# Afficher les informations sur le DataFrame pour vérifier les changements\n",
        "print(df.info())\n"
      ],
      "metadata": {
        "colab": {
          "base_uri": "https://localhost:8080/"
        },
        "id": "7CjN6bgXcCGV",
        "outputId": "80faf437-0344-45ca-f2ff-ecb235afe837"
      },
      "execution_count": null,
      "outputs": [
        {
          "output_type": "stream",
          "name": "stdout",
          "text": [
            "<class 'pandas.core.frame.DataFrame'>\n",
            "Index: 14283 entries, 0 to 14308\n",
            "Data columns (total 17 columns):\n",
            " #   Column             Non-Null Count  Dtype  \n",
            "---  ------             --------------  -----  \n",
            " 0   Brand              14283 non-null  object \n",
            " 1   Model              14283 non-null  object \n",
            " 2   Car/Suv            14283 non-null  object \n",
            " 3   UsedOrNew          14283 non-null  int64  \n",
            " 4   Transmission       14283 non-null  int64  \n",
            " 5   Engine             14283 non-null  object \n",
            " 6   DriveType          14283 non-null  object \n",
            " 7   FuelType           14283 non-null  object \n",
            " 8   FuelConsumption    14283 non-null  object \n",
            " 9   Kilometres         14283 non-null  float64\n",
            " 10  ColourExtInt       14283 non-null  object \n",
            " 11  CylindersinEngine  14283 non-null  object \n",
            " 12  BodyType           14283 non-null  object \n",
            " 13  Doors              14283 non-null  int64  \n",
            " 14  Seats              14283 non-null  int64  \n",
            " 15  Price              14283 non-null  float32\n",
            " 16  age                14283 non-null  float64\n",
            "dtypes: float32(1), float64(2), int64(4), object(10)\n",
            "memory usage: 1.9+ MB\n",
            "None\n"
          ]
        }
      ]
    },
    {
      "cell_type": "code",
      "source": [
        "print(df['ColourExtInt'].value_counts())"
      ],
      "metadata": {
        "colab": {
          "base_uri": "https://localhost:8080/"
        },
        "id": "8ZyNwzjeehce",
        "outputId": "89f2c1bf-2256-4146-96ba-cf059ddc99f2"
      },
      "execution_count": null,
      "outputs": [
        {
          "output_type": "stream",
          "name": "stdout",
          "text": [
            "ColourExtInt\n",
            "White / -                            2461\n",
            "White / Black                        1532\n",
            "Silver / -                            976\n",
            "Grey / -                              822\n",
            "Black / -                             759\n",
            "                                     ... \n",
            "Blue / Grey Velour                      1\n",
            "Grey / 2019/08                          1\n",
            "White / Mini Yours Leather Lounge       1\n",
            "White / Grey Trim                       1\n",
            "Red / Blue/Black                        1\n",
            "Name: count, Length: 686, dtype: int64\n"
          ]
        }
      ]
    },
    {
      "cell_type": "code",
      "source": [
        "# Diviser la colonne 'ColourExtInt' en deux colonnes distinctes en limitant le nombre de divisions à 1\n",
        "df[['Ext_Color', 'Int_Color']] = df['ColourExtInt'].str.split('/', n=1, expand=True)\n",
        "\n",
        "# Afficher les 5 premières lignes pour vérifier les résultats\n",
        "print(df[['Ext_Color', 'Int_Color']].head())\n"
      ],
      "metadata": {
        "colab": {
          "base_uri": "https://localhost:8080/"
        },
        "id": "IX7ol3RFfxiw",
        "outputId": "1817eff5-fc87-461c-b448-4ee2101e8ab0"
      },
      "execution_count": null,
      "outputs": [
        {
          "output_type": "stream",
          "name": "stdout",
          "text": [
            "  Ext_Color Int_Color\n",
            "0    White      Black\n",
            "1    Black      Black\n",
            "2     Grey      White\n",
            "3    White      Brown\n",
            "4     Grey      Black\n"
          ]
        }
      ]
    },
    {
      "cell_type": "code",
      "source": [
        "print(df['Ext_Color'].value_counts())"
      ],
      "metadata": {
        "colab": {
          "base_uri": "https://localhost:8080/"
        },
        "id": "z8qmf-2Bgoln",
        "outputId": "c8a85cf7-48e5-4a98-c409-8f7b9317e13d"
      },
      "execution_count": null,
      "outputs": [
        {
          "output_type": "stream",
          "name": "stdout",
          "text": [
            "Ext_Color\n",
            "White         5235\n",
            "Grey          2045\n",
            "Silver        2041\n",
            "Black         1632\n",
            "Blue          1386\n",
            "Red           1012\n",
            "-              345\n",
            "Brown          131\n",
            "Gold           130\n",
            "Green          129\n",
            "Orange          90\n",
            "Yellow          74\n",
            "Beige            8\n",
            "Burgundy         8\n",
            "Bronze           7\n",
            "Purple           6\n",
            "Pink             1\n",
            "Other            1\n",
            "Turquoise        1\n",
            "Cream            1\n",
            "Name: count, dtype: int64\n"
          ]
        }
      ]
    },
    {
      "cell_type": "code",
      "source": [
        "print(df['Int_Color'].value_counts())"
      ],
      "metadata": {
        "colab": {
          "base_uri": "https://localhost:8080/"
        },
        "id": "gzRJxJ1ZhQzf",
        "outputId": "3b0ec6e5-8fe9-425a-fbf3-881164da8036"
      },
      "execution_count": null,
      "outputs": [
        {
          "output_type": "stream",
          "name": "stdout",
          "text": [
            "Int_Color\n",
            " -                           6708\n",
            " Black                       4313\n",
            " Grey                        1281\n",
            " Cloth                        280\n",
            " Black Leather                270\n",
            "                             ... \n",
            " Grey Velour                    1\n",
            " 2020/11                        1\n",
            " 2021/06                        1\n",
            " Amg Black Nappa Leather        1\n",
            " Soul Black & Tornado Red       1\n",
            "Name: count, Length: 368, dtype: int64\n"
          ]
        }
      ]
    },
    {
      "cell_type": "code",
      "source": [
        "# Remplacer les valeurs '-' par NaN dans tout le DataFrame\n",
        "df.replace('- ', pd.NA, inplace=True)\n",
        "\n",
        "# Compter le nombre de valeurs manquantes dans chaque colonne\n",
        "missing_values_count = df.isna().sum()\n",
        "\n",
        "# Afficher le nombre de valeurs manquantes dans chaque colonne\n",
        "print(missing_values_count)"
      ],
      "metadata": {
        "colab": {
          "base_uri": "https://localhost:8080/"
        },
        "id": "j8OXpsA9hm-m",
        "outputId": "4e108bb0-c589-4ff0-a009-8129a3e35c72"
      },
      "execution_count": null,
      "outputs": [
        {
          "output_type": "stream",
          "name": "stdout",
          "text": [
            "Brand                  0\n",
            "Model                  0\n",
            "Car/Suv                0\n",
            "UsedOrNew              0\n",
            "Transmission           0\n",
            "Engine                 0\n",
            "DriveType              0\n",
            "FuelType               0\n",
            "FuelConsumption        0\n",
            "Kilometres             0\n",
            "ColourExtInt           0\n",
            "CylindersinEngine      0\n",
            "BodyType               0\n",
            "Doors                  0\n",
            "Seats                  0\n",
            "Price                  0\n",
            "age                    0\n",
            "Ext_Color            345\n",
            "Int_Color              0\n",
            "dtype: int64\n"
          ]
        }
      ]
    },
    {
      "cell_type": "markdown",
      "source": [
        "0/ Ext_Color : présente 345 valeurs manquantes :  supprimer les lignes puisquon a un dataset de 14520 lignes\n",
        "\n",
        "1/ int_Color : présente 6708/14520 valeurs manquantes => on supprime la colone"
      ],
      "metadata": {
        "id": "Wf779DLYqInr"
      }
    },
    {
      "cell_type": "code",
      "source": [
        "df = df.dropna(subset=['Ext_Color'])\n",
        "print(df['Ext_Color'].value_counts())\n",
        "df=df.drop(columns=['Int_Color','ColourExtInt'])\n",
        "df.columns"
      ],
      "metadata": {
        "colab": {
          "base_uri": "https://localhost:8080/"
        },
        "id": "cLfuYsv4xToW",
        "outputId": "9078c9c9-6864-4bd8-e831-9044254f5300"
      },
      "execution_count": null,
      "outputs": [
        {
          "output_type": "stream",
          "name": "stdout",
          "text": [
            "Ext_Color\n",
            "White         5235\n",
            "Grey          2045\n",
            "Silver        2041\n",
            "Black         1632\n",
            "Blue          1386\n",
            "Red           1012\n",
            "Brown          131\n",
            "Gold           130\n",
            "Green          129\n",
            "Orange          90\n",
            "Yellow          74\n",
            "Beige            8\n",
            "Burgundy         8\n",
            "Bronze           7\n",
            "Purple           6\n",
            "Pink             1\n",
            "Other            1\n",
            "Turquoise        1\n",
            "Cream            1\n",
            "Name: count, dtype: int64\n"
          ]
        },
        {
          "output_type": "execute_result",
          "data": {
            "text/plain": [
              "Index(['Brand', 'Model', 'Car/Suv', 'UsedOrNew', 'Transmission', 'Engine',\n",
              "       'DriveType', 'FuelType', 'FuelConsumption', 'Kilometres',\n",
              "       'CylindersinEngine', 'BodyType', 'Doors', 'Seats', 'Price', 'age',\n",
              "       'Ext_Color'],\n",
              "      dtype='object')"
            ]
          },
          "metadata": {},
          "execution_count": 51
        }
      ]
    },
    {
      "cell_type": "code",
      "source": [
        "print(df['CylindersinEngine'].value_counts())"
      ],
      "metadata": {
        "colab": {
          "base_uri": "https://localhost:8080/"
        },
        "id": "IImuOe-0wHTF",
        "outputId": "2db49f4c-940b-41ea-995a-fa6f1be73710"
      },
      "execution_count": null,
      "outputs": [
        {
          "output_type": "stream",
          "name": "stdout",
          "text": [
            "CylindersinEngine\n",
            "4 cyl     10711\n",
            "6 cyl      1892\n",
            "8 cyl       573\n",
            "5 cyl       390\n",
            "3 cyl       271\n",
            "0 L          85\n",
            "12 cyl       10\n",
            "2 cyl         4\n",
            "10 cyl        2\n",
            "Name: count, dtype: int64\n"
          ]
        }
      ]
    },
    {
      "cell_type": "code",
      "source": [
        "# Remplacer les valeurs '-' par NaN dans tout le DataFrame\n",
        "df.replace('0 L', pd.NA, inplace=True)\n",
        "\n",
        "# Compter le nombre de valeurs manquantes dans chaque colonne\n",
        "missing_values_count = df.isna().sum()\n",
        "\n",
        "# Afficher le nombre de valeurs manquantes dans chaque colonne\n",
        "print(missing_values_count)"
      ],
      "metadata": {
        "colab": {
          "base_uri": "https://localhost:8080/"
        },
        "id": "fUw9dyG8xYku",
        "outputId": "31934951-22c9-4243-a279-ecd480a97583"
      },
      "execution_count": null,
      "outputs": [
        {
          "output_type": "stream",
          "name": "stdout",
          "text": [
            "Brand                 0\n",
            "Model                 0\n",
            "Car/Suv               0\n",
            "UsedOrNew             0\n",
            "Transmission          0\n",
            "Engine               85\n",
            "DriveType             0\n",
            "FuelType              0\n",
            "FuelConsumption       0\n",
            "Kilometres            0\n",
            "CylindersinEngine    85\n",
            "BodyType              0\n",
            "Doors                 0\n",
            "Seats                 0\n",
            "Price                 0\n",
            "age                   0\n",
            "Ext_Color             0\n",
            "dtype: int64\n"
          ]
        }
      ]
    },
    {
      "cell_type": "code",
      "source": [
        "df = df.dropna(subset=['CylindersinEngine'])\n",
        "print(df['CylindersinEngine'].value_counts())\n",
        "df.shape\n",
        "missing_values_count = df.isna().sum()\n",
        "\n",
        "# Afficher le nombre de valeurs manquantes dans chaque colonne\n",
        "print(missing_values_count)"
      ],
      "metadata": {
        "colab": {
          "base_uri": "https://localhost:8080/"
        },
        "id": "TLDzZWizxmhf",
        "outputId": "630bdefd-7835-42c8-d1f5-277fa1cd9130"
      },
      "execution_count": null,
      "outputs": [
        {
          "output_type": "stream",
          "name": "stdout",
          "text": [
            "CylindersinEngine\n",
            "4 cyl     10711\n",
            "6 cyl      1892\n",
            "8 cyl       573\n",
            "5 cyl       390\n",
            "3 cyl       271\n",
            "12 cyl       10\n",
            "2 cyl         4\n",
            "10 cyl        2\n",
            "Name: count, dtype: int64\n",
            "Brand                0\n",
            "Model                0\n",
            "Car/Suv              0\n",
            "UsedOrNew            0\n",
            "Transmission         0\n",
            "Engine               0\n",
            "DriveType            0\n",
            "FuelType             0\n",
            "FuelConsumption      0\n",
            "Kilometres           0\n",
            "CylindersinEngine    0\n",
            "BodyType             0\n",
            "Doors                0\n",
            "Seats                0\n",
            "Price                0\n",
            "age                  0\n",
            "Ext_Color            0\n",
            "dtype: int64\n"
          ]
        }
      ]
    },
    {
      "cell_type": "code",
      "source": [
        "df.info()"
      ],
      "metadata": {
        "colab": {
          "base_uri": "https://localhost:8080/"
        },
        "id": "esyC7uady_f6",
        "outputId": "0876a469-f63a-4d19-cac4-014a7803c8e0"
      },
      "execution_count": null,
      "outputs": [
        {
          "output_type": "stream",
          "name": "stdout",
          "text": [
            "<class 'pandas.core.frame.DataFrame'>\n",
            "Index: 13853 entries, 0 to 14308\n",
            "Data columns (total 17 columns):\n",
            " #   Column             Non-Null Count  Dtype  \n",
            "---  ------             --------------  -----  \n",
            " 0   Brand              13853 non-null  object \n",
            " 1   Model              13853 non-null  object \n",
            " 2   Car/Suv            13853 non-null  object \n",
            " 3   UsedOrNew          13853 non-null  int64  \n",
            " 4   Transmission       13853 non-null  int64  \n",
            " 5   Engine             13853 non-null  object \n",
            " 6   DriveType          13853 non-null  object \n",
            " 7   FuelType           13853 non-null  object \n",
            " 8   FuelConsumption    13853 non-null  object \n",
            " 9   Kilometres         13853 non-null  float64\n",
            " 10  CylindersinEngine  13853 non-null  object \n",
            " 11  BodyType           13853 non-null  object \n",
            " 12  Doors              13853 non-null  int64  \n",
            " 13  Seats              13853 non-null  int64  \n",
            " 14  Price              13853 non-null  float32\n",
            " 15  age                13853 non-null  float64\n",
            " 16  Ext_Color          13853 non-null  object \n",
            "dtypes: float32(1), float64(2), int64(4), object(10)\n",
            "memory usage: 1.8+ MB\n"
          ]
        }
      ]
    },
    {
      "cell_type": "code",
      "source": [
        "df.head(10)"
      ],
      "metadata": {
        "colab": {
          "base_uri": "https://localhost:8080/",
          "height": 556
        },
        "id": "Z8PQy6U17pcu",
        "outputId": "63ccfc17-e085-4325-d89b-6654e0ff2949"
      },
      "execution_count": null,
      "outputs": [
        {
          "output_type": "execute_result",
          "data": {
            "text/plain": [
              "           Brand   Model               Car/Suv  UsedOrNew  Transmission  \\\n",
              "0      Ssangyong  Rexton  Sutherland Isuzu Ute          0             0   \n",
              "1             MG     MG3             Hatchback          1             0   \n",
              "2            BMW    430I                 Coupe          1             0   \n",
              "3  Mercedes-Benz    E500                 Coupe          1             0   \n",
              "4        Renault  Arkana                   SUV          1             0   \n",
              "5           Land   Rover                   SUV          1             0   \n",
              "6         Nissan  Pulsar             Hatchback          1             0   \n",
              "7         Toyota      86                 Coupe          1             0   \n",
              "8          Honda    Jazz             Hatchback          1             0   \n",
              "9         Toyota   HiAce            Commercial          1             0   \n",
              "\n",
              "         Engine DriveType  FuelType FuelConsumption  Kilometres  \\\n",
              "0  4 cyl, 2.2 L       AWD    Diesel  8.7 L / 100 km    0.010632   \n",
              "1  4 cyl, 1.5 L     Front   Premium  6.7 L / 100 km    0.000029   \n",
              "2    4 cyl, 2 L      Rear   Premium  6.6 L / 100 km    0.016100   \n",
              "3  8 cyl, 5.5 L      Rear   Premium   11 L / 100 km    0.259457   \n",
              "4  4 cyl, 1.3 L     Front  Unleaded    6 L / 100 km    0.001965   \n",
              "5    4 cyl, 2 L       AWD    Diesel  5.1 L / 100 km    0.128594   \n",
              "6  4 cyl, 1.6 L     Front  Unleaded    8 L / 100 km    0.571190   \n",
              "7    4 cyl, 2 L      Rear   Premium  7.1 L / 100 km    0.155867   \n",
              "8  4 cyl, 1.3 L     Front    Hybrid  4.5 L / 100 km    0.072655   \n",
              "9  4 cyl, 2.7 L      Rear  Unleaded  9.8 L / 100 km    0.031023   \n",
              "\n",
              "  CylindersinEngine    BodyType  Doors  Seats     Price       age Ext_Color  \n",
              "0             4 cyl         SUV      2      9  0.079875  0.022222    White   \n",
              "1             4 cyl   Hatchback      3      7  0.030628  0.022222    Black   \n",
              "2             4 cyl       Coupe      0      6  0.167592  0.022222     Grey   \n",
              "3             8 cyl       Coupe      0      6  0.050635  0.266667    White   \n",
              "4             4 cyl         SUV      2      7  0.053713  0.022222     Grey   \n",
              "5             4 cyl         SUV      0      6  0.095711  0.133333    White   \n",
              "6             4 cyl   Hatchback      3      7  0.004474  0.511111      Red   \n",
              "7             4 cyl       Coupe      0      6  0.038166  0.222222    Black   \n",
              "8             4 cyl   Hatchback      3      7  0.027412  0.200000     Blue   \n",
              "9             4 cyl  Commercial      2      3  0.064499  0.111111    White   "
            ],
            "text/html": [
              "\n",
              "  <div id=\"df-dbd0363f-c413-4c83-b870-4054fd955a6a\" class=\"colab-df-container\">\n",
              "    <div>\n",
              "<style scoped>\n",
              "    .dataframe tbody tr th:only-of-type {\n",
              "        vertical-align: middle;\n",
              "    }\n",
              "\n",
              "    .dataframe tbody tr th {\n",
              "        vertical-align: top;\n",
              "    }\n",
              "\n",
              "    .dataframe thead th {\n",
              "        text-align: right;\n",
              "    }\n",
              "</style>\n",
              "<table border=\"1\" class=\"dataframe\">\n",
              "  <thead>\n",
              "    <tr style=\"text-align: right;\">\n",
              "      <th></th>\n",
              "      <th>Brand</th>\n",
              "      <th>Model</th>\n",
              "      <th>Car/Suv</th>\n",
              "      <th>UsedOrNew</th>\n",
              "      <th>Transmission</th>\n",
              "      <th>Engine</th>\n",
              "      <th>DriveType</th>\n",
              "      <th>FuelType</th>\n",
              "      <th>FuelConsumption</th>\n",
              "      <th>Kilometres</th>\n",
              "      <th>CylindersinEngine</th>\n",
              "      <th>BodyType</th>\n",
              "      <th>Doors</th>\n",
              "      <th>Seats</th>\n",
              "      <th>Price</th>\n",
              "      <th>age</th>\n",
              "      <th>Ext_Color</th>\n",
              "    </tr>\n",
              "  </thead>\n",
              "  <tbody>\n",
              "    <tr>\n",
              "      <th>0</th>\n",
              "      <td>Ssangyong</td>\n",
              "      <td>Rexton</td>\n",
              "      <td>Sutherland Isuzu Ute</td>\n",
              "      <td>0</td>\n",
              "      <td>0</td>\n",
              "      <td>4 cyl, 2.2 L</td>\n",
              "      <td>AWD</td>\n",
              "      <td>Diesel</td>\n",
              "      <td>8.7 L / 100 km</td>\n",
              "      <td>0.010632</td>\n",
              "      <td>4 cyl</td>\n",
              "      <td>SUV</td>\n",
              "      <td>2</td>\n",
              "      <td>9</td>\n",
              "      <td>0.079875</td>\n",
              "      <td>0.022222</td>\n",
              "      <td>White</td>\n",
              "    </tr>\n",
              "    <tr>\n",
              "      <th>1</th>\n",
              "      <td>MG</td>\n",
              "      <td>MG3</td>\n",
              "      <td>Hatchback</td>\n",
              "      <td>1</td>\n",
              "      <td>0</td>\n",
              "      <td>4 cyl, 1.5 L</td>\n",
              "      <td>Front</td>\n",
              "      <td>Premium</td>\n",
              "      <td>6.7 L / 100 km</td>\n",
              "      <td>0.000029</td>\n",
              "      <td>4 cyl</td>\n",
              "      <td>Hatchback</td>\n",
              "      <td>3</td>\n",
              "      <td>7</td>\n",
              "      <td>0.030628</td>\n",
              "      <td>0.022222</td>\n",
              "      <td>Black</td>\n",
              "    </tr>\n",
              "    <tr>\n",
              "      <th>2</th>\n",
              "      <td>BMW</td>\n",
              "      <td>430I</td>\n",
              "      <td>Coupe</td>\n",
              "      <td>1</td>\n",
              "      <td>0</td>\n",
              "      <td>4 cyl, 2 L</td>\n",
              "      <td>Rear</td>\n",
              "      <td>Premium</td>\n",
              "      <td>6.6 L / 100 km</td>\n",
              "      <td>0.016100</td>\n",
              "      <td>4 cyl</td>\n",
              "      <td>Coupe</td>\n",
              "      <td>0</td>\n",
              "      <td>6</td>\n",
              "      <td>0.167592</td>\n",
              "      <td>0.022222</td>\n",
              "      <td>Grey</td>\n",
              "    </tr>\n",
              "    <tr>\n",
              "      <th>3</th>\n",
              "      <td>Mercedes-Benz</td>\n",
              "      <td>E500</td>\n",
              "      <td>Coupe</td>\n",
              "      <td>1</td>\n",
              "      <td>0</td>\n",
              "      <td>8 cyl, 5.5 L</td>\n",
              "      <td>Rear</td>\n",
              "      <td>Premium</td>\n",
              "      <td>11 L / 100 km</td>\n",
              "      <td>0.259457</td>\n",
              "      <td>8 cyl</td>\n",
              "      <td>Coupe</td>\n",
              "      <td>0</td>\n",
              "      <td>6</td>\n",
              "      <td>0.050635</td>\n",
              "      <td>0.266667</td>\n",
              "      <td>White</td>\n",
              "    </tr>\n",
              "    <tr>\n",
              "      <th>4</th>\n",
              "      <td>Renault</td>\n",
              "      <td>Arkana</td>\n",
              "      <td>SUV</td>\n",
              "      <td>1</td>\n",
              "      <td>0</td>\n",
              "      <td>4 cyl, 1.3 L</td>\n",
              "      <td>Front</td>\n",
              "      <td>Unleaded</td>\n",
              "      <td>6 L / 100 km</td>\n",
              "      <td>0.001965</td>\n",
              "      <td>4 cyl</td>\n",
              "      <td>SUV</td>\n",
              "      <td>2</td>\n",
              "      <td>7</td>\n",
              "      <td>0.053713</td>\n",
              "      <td>0.022222</td>\n",
              "      <td>Grey</td>\n",
              "    </tr>\n",
              "    <tr>\n",
              "      <th>5</th>\n",
              "      <td>Land</td>\n",
              "      <td>Rover</td>\n",
              "      <td>SUV</td>\n",
              "      <td>1</td>\n",
              "      <td>0</td>\n",
              "      <td>4 cyl, 2 L</td>\n",
              "      <td>AWD</td>\n",
              "      <td>Diesel</td>\n",
              "      <td>5.1 L / 100 km</td>\n",
              "      <td>0.128594</td>\n",
              "      <td>4 cyl</td>\n",
              "      <td>SUV</td>\n",
              "      <td>0</td>\n",
              "      <td>6</td>\n",
              "      <td>0.095711</td>\n",
              "      <td>0.133333</td>\n",
              "      <td>White</td>\n",
              "    </tr>\n",
              "    <tr>\n",
              "      <th>6</th>\n",
              "      <td>Nissan</td>\n",
              "      <td>Pulsar</td>\n",
              "      <td>Hatchback</td>\n",
              "      <td>1</td>\n",
              "      <td>0</td>\n",
              "      <td>4 cyl, 1.6 L</td>\n",
              "      <td>Front</td>\n",
              "      <td>Unleaded</td>\n",
              "      <td>8 L / 100 km</td>\n",
              "      <td>0.571190</td>\n",
              "      <td>4 cyl</td>\n",
              "      <td>Hatchback</td>\n",
              "      <td>3</td>\n",
              "      <td>7</td>\n",
              "      <td>0.004474</td>\n",
              "      <td>0.511111</td>\n",
              "      <td>Red</td>\n",
              "    </tr>\n",
              "    <tr>\n",
              "      <th>7</th>\n",
              "      <td>Toyota</td>\n",
              "      <td>86</td>\n",
              "      <td>Coupe</td>\n",
              "      <td>1</td>\n",
              "      <td>0</td>\n",
              "      <td>4 cyl, 2 L</td>\n",
              "      <td>Rear</td>\n",
              "      <td>Premium</td>\n",
              "      <td>7.1 L / 100 km</td>\n",
              "      <td>0.155867</td>\n",
              "      <td>4 cyl</td>\n",
              "      <td>Coupe</td>\n",
              "      <td>0</td>\n",
              "      <td>6</td>\n",
              "      <td>0.038166</td>\n",
              "      <td>0.222222</td>\n",
              "      <td>Black</td>\n",
              "    </tr>\n",
              "    <tr>\n",
              "      <th>8</th>\n",
              "      <td>Honda</td>\n",
              "      <td>Jazz</td>\n",
              "      <td>Hatchback</td>\n",
              "      <td>1</td>\n",
              "      <td>0</td>\n",
              "      <td>4 cyl, 1.3 L</td>\n",
              "      <td>Front</td>\n",
              "      <td>Hybrid</td>\n",
              "      <td>4.5 L / 100 km</td>\n",
              "      <td>0.072655</td>\n",
              "      <td>4 cyl</td>\n",
              "      <td>Hatchback</td>\n",
              "      <td>3</td>\n",
              "      <td>7</td>\n",
              "      <td>0.027412</td>\n",
              "      <td>0.200000</td>\n",
              "      <td>Blue</td>\n",
              "    </tr>\n",
              "    <tr>\n",
              "      <th>9</th>\n",
              "      <td>Toyota</td>\n",
              "      <td>HiAce</td>\n",
              "      <td>Commercial</td>\n",
              "      <td>1</td>\n",
              "      <td>0</td>\n",
              "      <td>4 cyl, 2.7 L</td>\n",
              "      <td>Rear</td>\n",
              "      <td>Unleaded</td>\n",
              "      <td>9.8 L / 100 km</td>\n",
              "      <td>0.031023</td>\n",
              "      <td>4 cyl</td>\n",
              "      <td>Commercial</td>\n",
              "      <td>2</td>\n",
              "      <td>3</td>\n",
              "      <td>0.064499</td>\n",
              "      <td>0.111111</td>\n",
              "      <td>White</td>\n",
              "    </tr>\n",
              "  </tbody>\n",
              "</table>\n",
              "</div>\n",
              "    <div class=\"colab-df-buttons\">\n",
              "\n",
              "  <div class=\"colab-df-container\">\n",
              "    <button class=\"colab-df-convert\" onclick=\"convertToInteractive('df-dbd0363f-c413-4c83-b870-4054fd955a6a')\"\n",
              "            title=\"Convert this dataframe to an interactive table.\"\n",
              "            style=\"display:none;\">\n",
              "\n",
              "  <svg xmlns=\"http://www.w3.org/2000/svg\" height=\"24px\" viewBox=\"0 -960 960 960\">\n",
              "    <path d=\"M120-120v-720h720v720H120Zm60-500h600v-160H180v160Zm220 220h160v-160H400v160Zm0 220h160v-160H400v160ZM180-400h160v-160H180v160Zm440 0h160v-160H620v160ZM180-180h160v-160H180v160Zm440 0h160v-160H620v160Z\"/>\n",
              "  </svg>\n",
              "    </button>\n",
              "\n",
              "  <style>\n",
              "    .colab-df-container {\n",
              "      display:flex;\n",
              "      gap: 12px;\n",
              "    }\n",
              "\n",
              "    .colab-df-convert {\n",
              "      background-color: #E8F0FE;\n",
              "      border: none;\n",
              "      border-radius: 50%;\n",
              "      cursor: pointer;\n",
              "      display: none;\n",
              "      fill: #1967D2;\n",
              "      height: 32px;\n",
              "      padding: 0 0 0 0;\n",
              "      width: 32px;\n",
              "    }\n",
              "\n",
              "    .colab-df-convert:hover {\n",
              "      background-color: #E2EBFA;\n",
              "      box-shadow: 0px 1px 2px rgba(60, 64, 67, 0.3), 0px 1px 3px 1px rgba(60, 64, 67, 0.15);\n",
              "      fill: #174EA6;\n",
              "    }\n",
              "\n",
              "    .colab-df-buttons div {\n",
              "      margin-bottom: 4px;\n",
              "    }\n",
              "\n",
              "    [theme=dark] .colab-df-convert {\n",
              "      background-color: #3B4455;\n",
              "      fill: #D2E3FC;\n",
              "    }\n",
              "\n",
              "    [theme=dark] .colab-df-convert:hover {\n",
              "      background-color: #434B5C;\n",
              "      box-shadow: 0px 1px 3px 1px rgba(0, 0, 0, 0.15);\n",
              "      filter: drop-shadow(0px 1px 2px rgba(0, 0, 0, 0.3));\n",
              "      fill: #FFFFFF;\n",
              "    }\n",
              "  </style>\n",
              "\n",
              "    <script>\n",
              "      const buttonEl =\n",
              "        document.querySelector('#df-dbd0363f-c413-4c83-b870-4054fd955a6a button.colab-df-convert');\n",
              "      buttonEl.style.display =\n",
              "        google.colab.kernel.accessAllowed ? 'block' : 'none';\n",
              "\n",
              "      async function convertToInteractive(key) {\n",
              "        const element = document.querySelector('#df-dbd0363f-c413-4c83-b870-4054fd955a6a');\n",
              "        const dataTable =\n",
              "          await google.colab.kernel.invokeFunction('convertToInteractive',\n",
              "                                                    [key], {});\n",
              "        if (!dataTable) return;\n",
              "\n",
              "        const docLinkHtml = 'Like what you see? Visit the ' +\n",
              "          '<a target=\"_blank\" href=https://colab.research.google.com/notebooks/data_table.ipynb>data table notebook</a>'\n",
              "          + ' to learn more about interactive tables.';\n",
              "        element.innerHTML = '';\n",
              "        dataTable['output_type'] = 'display_data';\n",
              "        await google.colab.output.renderOutput(dataTable, element);\n",
              "        const docLink = document.createElement('div');\n",
              "        docLink.innerHTML = docLinkHtml;\n",
              "        element.appendChild(docLink);\n",
              "      }\n",
              "    </script>\n",
              "  </div>\n",
              "\n",
              "\n",
              "<div id=\"df-8a68bcea-dd8c-4c4d-83ca-40be75e252be\">\n",
              "  <button class=\"colab-df-quickchart\" onclick=\"quickchart('df-8a68bcea-dd8c-4c4d-83ca-40be75e252be')\"\n",
              "            title=\"Suggest charts\"\n",
              "            style=\"display:none;\">\n",
              "\n",
              "<svg xmlns=\"http://www.w3.org/2000/svg\" height=\"24px\"viewBox=\"0 0 24 24\"\n",
              "     width=\"24px\">\n",
              "    <g>\n",
              "        <path d=\"M19 3H5c-1.1 0-2 .9-2 2v14c0 1.1.9 2 2 2h14c1.1 0 2-.9 2-2V5c0-1.1-.9-2-2-2zM9 17H7v-7h2v7zm4 0h-2V7h2v10zm4 0h-2v-4h2v4z\"/>\n",
              "    </g>\n",
              "</svg>\n",
              "  </button>\n",
              "\n",
              "<style>\n",
              "  .colab-df-quickchart {\n",
              "      --bg-color: #E8F0FE;\n",
              "      --fill-color: #1967D2;\n",
              "      --hover-bg-color: #E2EBFA;\n",
              "      --hover-fill-color: #174EA6;\n",
              "      --disabled-fill-color: #AAA;\n",
              "      --disabled-bg-color: #DDD;\n",
              "  }\n",
              "\n",
              "  [theme=dark] .colab-df-quickchart {\n",
              "      --bg-color: #3B4455;\n",
              "      --fill-color: #D2E3FC;\n",
              "      --hover-bg-color: #434B5C;\n",
              "      --hover-fill-color: #FFFFFF;\n",
              "      --disabled-bg-color: #3B4455;\n",
              "      --disabled-fill-color: #666;\n",
              "  }\n",
              "\n",
              "  .colab-df-quickchart {\n",
              "    background-color: var(--bg-color);\n",
              "    border: none;\n",
              "    border-radius: 50%;\n",
              "    cursor: pointer;\n",
              "    display: none;\n",
              "    fill: var(--fill-color);\n",
              "    height: 32px;\n",
              "    padding: 0;\n",
              "    width: 32px;\n",
              "  }\n",
              "\n",
              "  .colab-df-quickchart:hover {\n",
              "    background-color: var(--hover-bg-color);\n",
              "    box-shadow: 0 1px 2px rgba(60, 64, 67, 0.3), 0 1px 3px 1px rgba(60, 64, 67, 0.15);\n",
              "    fill: var(--button-hover-fill-color);\n",
              "  }\n",
              "\n",
              "  .colab-df-quickchart-complete:disabled,\n",
              "  .colab-df-quickchart-complete:disabled:hover {\n",
              "    background-color: var(--disabled-bg-color);\n",
              "    fill: var(--disabled-fill-color);\n",
              "    box-shadow: none;\n",
              "  }\n",
              "\n",
              "  .colab-df-spinner {\n",
              "    border: 2px solid var(--fill-color);\n",
              "    border-color: transparent;\n",
              "    border-bottom-color: var(--fill-color);\n",
              "    animation:\n",
              "      spin 1s steps(1) infinite;\n",
              "  }\n",
              "\n",
              "  @keyframes spin {\n",
              "    0% {\n",
              "      border-color: transparent;\n",
              "      border-bottom-color: var(--fill-color);\n",
              "      border-left-color: var(--fill-color);\n",
              "    }\n",
              "    20% {\n",
              "      border-color: transparent;\n",
              "      border-left-color: var(--fill-color);\n",
              "      border-top-color: var(--fill-color);\n",
              "    }\n",
              "    30% {\n",
              "      border-color: transparent;\n",
              "      border-left-color: var(--fill-color);\n",
              "      border-top-color: var(--fill-color);\n",
              "      border-right-color: var(--fill-color);\n",
              "    }\n",
              "    40% {\n",
              "      border-color: transparent;\n",
              "      border-right-color: var(--fill-color);\n",
              "      border-top-color: var(--fill-color);\n",
              "    }\n",
              "    60% {\n",
              "      border-color: transparent;\n",
              "      border-right-color: var(--fill-color);\n",
              "    }\n",
              "    80% {\n",
              "      border-color: transparent;\n",
              "      border-right-color: var(--fill-color);\n",
              "      border-bottom-color: var(--fill-color);\n",
              "    }\n",
              "    90% {\n",
              "      border-color: transparent;\n",
              "      border-bottom-color: var(--fill-color);\n",
              "    }\n",
              "  }\n",
              "</style>\n",
              "\n",
              "  <script>\n",
              "    async function quickchart(key) {\n",
              "      const quickchartButtonEl =\n",
              "        document.querySelector('#' + key + ' button');\n",
              "      quickchartButtonEl.disabled = true;  // To prevent multiple clicks.\n",
              "      quickchartButtonEl.classList.add('colab-df-spinner');\n",
              "      try {\n",
              "        const charts = await google.colab.kernel.invokeFunction(\n",
              "            'suggestCharts', [key], {});\n",
              "      } catch (error) {\n",
              "        console.error('Error during call to suggestCharts:', error);\n",
              "      }\n",
              "      quickchartButtonEl.classList.remove('colab-df-spinner');\n",
              "      quickchartButtonEl.classList.add('colab-df-quickchart-complete');\n",
              "    }\n",
              "    (() => {\n",
              "      let quickchartButtonEl =\n",
              "        document.querySelector('#df-8a68bcea-dd8c-4c4d-83ca-40be75e252be button');\n",
              "      quickchartButtonEl.style.display =\n",
              "        google.colab.kernel.accessAllowed ? 'block' : 'none';\n",
              "    })();\n",
              "  </script>\n",
              "</div>\n",
              "    </div>\n",
              "  </div>\n"
            ],
            "application/vnd.google.colaboratory.intrinsic+json": {
              "type": "dataframe",
              "variable_name": "df",
              "summary": "{\n  \"name\": \"df\",\n  \"rows\": 13853,\n  \"fields\": [\n    {\n      \"column\": \"Brand\",\n      \"properties\": {\n        \"dtype\": \"category\",\n        \"num_unique_values\": 62,\n        \"samples\": [\n          \"Lamborghini\",\n          \"Daewoo\",\n          \"Ssangyong\"\n        ],\n        \"semantic_type\": \"\",\n        \"description\": \"\"\n      }\n    },\n    {\n      \"column\": \"Model\",\n      \"properties\": {\n        \"dtype\": \"category\",\n        \"num_unique_values\": 621,\n        \"samples\": [\n          \"3\",\n          \"LX450D\",\n          \"Cayenne\"\n        ],\n        \"semantic_type\": \"\",\n        \"description\": \"\"\n      }\n    },\n    {\n      \"column\": \"Car/Suv\",\n      \"properties\": {\n        \"dtype\": \"category\",\n        \"num_unique_values\": 200,\n        \"samples\": [\n          \"Westpoint Autos Hyundai New Cars\",\n          \"Sydney City Volkswagen New\",\n          \"Alto North Shore MG\"\n        ],\n        \"semantic_type\": \"\",\n        \"description\": \"\"\n      }\n    },\n    {\n      \"column\": \"UsedOrNew\",\n      \"properties\": {\n        \"dtype\": \"number\",\n        \"std\": 0,\n        \"min\": 0,\n        \"max\": 2,\n        \"num_unique_values\": 3,\n        \"samples\": [\n          0,\n          1,\n          2\n        ],\n        \"semantic_type\": \"\",\n        \"description\": \"\"\n      }\n    },\n    {\n      \"column\": \"Transmission\",\n      \"properties\": {\n        \"dtype\": \"number\",\n        \"std\": 0,\n        \"min\": 0,\n        \"max\": 1,\n        \"num_unique_values\": 2,\n        \"samples\": [\n          1,\n          0\n        ],\n        \"semantic_type\": \"\",\n        \"description\": \"\"\n      }\n    },\n    {\n      \"column\": \"Engine\",\n      \"properties\": {\n        \"dtype\": \"category\",\n        \"num_unique_values\": 88,\n        \"samples\": [\n          \"4 cyl, 2.6 L\",\n          \"4 cyl, 2.2 L\"\n        ],\n        \"semantic_type\": \"\",\n        \"description\": \"\"\n      }\n    },\n    {\n      \"column\": \"DriveType\",\n      \"properties\": {\n        \"dtype\": \"category\",\n        \"num_unique_values\": 5,\n        \"samples\": [\n          \"Front\",\n          \"Other\"\n        ],\n        \"semantic_type\": \"\",\n        \"description\": \"\"\n      }\n    },\n    {\n      \"column\": \"FuelType\",\n      \"properties\": {\n        \"dtype\": \"category\",\n        \"num_unique_values\": 6,\n        \"samples\": [\n          \"Diesel\",\n          \"Premium\"\n        ],\n        \"semantic_type\": \"\",\n        \"description\": \"\"\n      }\n    },\n    {\n      \"column\": \"FuelConsumption\",\n      \"properties\": {\n        \"dtype\": \"category\",\n        \"num_unique_values\": 152,\n        \"samples\": [\n          \"10.2 L / 100 km\",\n          \"14.7 L / 100 km\"\n        ],\n        \"semantic_type\": \"\",\n        \"description\": \"\"\n      }\n    },\n    {\n      \"column\": \"Kilometres\",\n      \"properties\": {\n        \"dtype\": \"number\",\n        \"std\": 0.14689244873503698,\n        \"min\": 0.0,\n        \"max\": 1.0,\n        \"num_unique_values\": 12586,\n        \"samples\": [\n          0.15354615792504575,\n          0.2245339354304101\n        ],\n        \"semantic_type\": \"\",\n        \"description\": \"\"\n      }\n    },\n    {\n      \"column\": \"CylindersinEngine\",\n      \"properties\": {\n        \"dtype\": \"category\",\n        \"num_unique_values\": 8,\n        \"samples\": [\n          \"8 cyl\",\n          \"12 cyl\"\n        ],\n        \"semantic_type\": \"\",\n        \"description\": \"\"\n      }\n    },\n    {\n      \"column\": \"BodyType\",\n      \"properties\": {\n        \"dtype\": \"category\",\n        \"num_unique_values\": 10,\n        \"samples\": [\n          \"Wagon\",\n          \"Hatchback\"\n        ],\n        \"semantic_type\": \"\",\n        \"description\": \"\"\n      }\n    },\n    {\n      \"column\": \"Doors\",\n      \"properties\": {\n        \"dtype\": \"number\",\n        \"std\": 0,\n        \"min\": 0,\n        \"max\": 3,\n        \"num_unique_values\": 4,\n        \"samples\": [\n          3,\n          1\n        ],\n        \"semantic_type\": \"\",\n        \"description\": \"\"\n      }\n    },\n    {\n      \"column\": \"Seats\",\n      \"properties\": {\n        \"dtype\": \"number\",\n        \"std\": 1,\n        \"min\": 0,\n        \"max\": 11,\n        \"num_unique_values\": 12,\n        \"samples\": [\n          1,\n          0\n        ],\n        \"semantic_type\": \"\",\n        \"description\": \"\"\n      }\n    },\n    {\n      \"column\": \"Price\",\n      \"properties\": {\n        \"dtype\": \"float32\",\n        \"num_unique_values\": 3060,\n        \"samples\": [\n          0.03520357236266136,\n          0.018316632136702538\n        ],\n        \"semantic_type\": \"\",\n        \"description\": \"\"\n      }\n    },\n    {\n      \"column\": \"age\",\n      \"properties\": {\n        \"dtype\": \"number\",\n        \"std\": 0.10800636783308414,\n        \"min\": 0.0,\n        \"max\": 1.0,\n        \"num_unique_values\": 39,\n        \"samples\": [\n          0.6666666666666667,\n          0.8666666666666667\n        ],\n        \"semantic_type\": \"\",\n        \"description\": \"\"\n      }\n    },\n    {\n      \"column\": \"Ext_Color\",\n      \"properties\": {\n        \"dtype\": \"category\",\n        \"num_unique_values\": 19,\n        \"samples\": [\n          \"White \",\n          \"Silver \"\n        ],\n        \"semantic_type\": \"\",\n        \"description\": \"\"\n      }\n    }\n  ]\n}"
            }
          },
          "metadata": {},
          "execution_count": 56
        }
      ]
    },
    {
      "cell_type": "code",
      "source": [
        "# Supprimer les unités et convertir en float\n",
        "df['CylindersinEngine'] = df['CylindersinEngine'].str.replace(' cyl', '')\n",
        "df['CylindersinEngine'] = lb.fit_transform(df['CylindersinEngine'])\n",
        "\n",
        "print(df['CylindersinEngine'].value_counts())"
      ],
      "metadata": {
        "colab": {
          "base_uri": "https://localhost:8080/"
        },
        "id": "NIR_cRLSyv_9",
        "outputId": "17ea0564-bfab-48b7-fce8-525068ed853e"
      },
      "execution_count": null,
      "outputs": [
        {
          "output_type": "stream",
          "name": "stdout",
          "text": [
            "CylindersinEngine\n",
            "4    10711\n",
            "6     1892\n",
            "7      573\n",
            "5      390\n",
            "3      271\n",
            "1       10\n",
            "2        4\n",
            "0        2\n",
            "Name: count, dtype: int64\n"
          ]
        }
      ]
    },
    {
      "cell_type": "code",
      "source": [
        "print(df['Kilometres'].value_counts())"
      ],
      "metadata": {
        "colab": {
          "base_uri": "https://localhost:8080/"
        },
        "id": "j5Ww94g-zWom",
        "outputId": "01189e5e-7ad7-412f-b3cd-fc0be6b25c22"
      },
      "execution_count": null,
      "outputs": [
        {
          "output_type": "stream",
          "name": "stdout",
          "text": [
            "Kilometres\n",
            "0.000017    88\n",
            "0.000027    53\n",
            "0.000036    51\n",
            "0.000011    50\n",
            "0.000040    35\n",
            "            ..\n",
            "0.181946     1\n",
            "0.070397     1\n",
            "0.397274     1\n",
            "0.503665     1\n",
            "0.060535     1\n",
            "Name: count, Length: 12586, dtype: int64\n"
          ]
        }
      ]
    },
    {
      "cell_type": "code",
      "source": [
        "print(df['FuelConsumption'].value_counts())"
      ],
      "metadata": {
        "colab": {
          "base_uri": "https://localhost:8080/"
        },
        "outputId": "863ed8fa-a5c3-4a23-ff10-b574c5e598a1",
        "id": "WerANJvoehzZ"
      },
      "execution_count": null,
      "outputs": [
        {
          "output_type": "stream",
          "name": "stdout",
          "text": [
            "FuelConsumption\n",
            "7.4 L / 100 km     694\n",
            "7.9 L / 100 km     483\n",
            "7.3 L / 100 km     428\n",
            "8.1 L / 100 km     402\n",
            "7.6 L / 100 km     393\n",
            "                  ... \n",
            "18.3 L / 100 km      1\n",
            "2.6 L / 100 km       1\n",
            "3.6 L / 100 km       1\n",
            "15.7 L / 100 km      1\n",
            "15.8 L / 100 km      1\n",
            "Name: count, Length: 152, dtype: int64\n"
          ]
        }
      ]
    },
    {
      "cell_type": "code",
      "source": [
        "# Supprimer les unités et convertir en float\n",
        "df['FuelConsumption'] = df['FuelConsumption'].str.replace(' L / 100 km', '')\n",
        "df['FuelConsumption'] = lb.fit_transform(df['FuelConsumption'])\n",
        "\n",
        "print(df['FuelConsumption'].value_counts())"
      ],
      "metadata": {
        "colab": {
          "base_uri": "https://localhost:8080/"
        },
        "id": "VyjKr417s_Xt",
        "outputId": "97fce606-b7c4-4239-b87c-e277c68a8e7a"
      },
      "execution_count": null,
      "outputs": [
        {
          "output_type": "stream",
          "name": "stdout",
          "text": [
            "FuelConsumption\n",
            "126    694\n",
            "131    483\n",
            "125    428\n",
            "133    402\n",
            "128    393\n",
            "      ... \n",
            "74       1\n",
            "81       1\n",
            "88       1\n",
            "59       1\n",
            "60       1\n",
            "Name: count, Length: 152, dtype: int64\n"
          ]
        }
      ]
    },
    {
      "cell_type": "markdown",
      "source": [
        "visualisation"
      ],
      "metadata": {
        "id": "R87D-G7R06nI"
      }
    },
    {
      "cell_type": "code",
      "source": [
        "df.info()"
      ],
      "metadata": {
        "colab": {
          "base_uri": "https://localhost:8080/"
        },
        "id": "BbaoQCOC1KG8",
        "outputId": "5fc457ef-12a0-449e-aed3-74f40a2ffca3"
      },
      "execution_count": null,
      "outputs": [
        {
          "output_type": "stream",
          "name": "stdout",
          "text": [
            "<class 'pandas.core.frame.DataFrame'>\n",
            "Index: 13853 entries, 0 to 14308\n",
            "Data columns (total 17 columns):\n",
            " #   Column             Non-Null Count  Dtype  \n",
            "---  ------             --------------  -----  \n",
            " 0   Brand              13853 non-null  object \n",
            " 1   Model              13853 non-null  object \n",
            " 2   Car/Suv            13853 non-null  object \n",
            " 3   UsedOrNew          13853 non-null  int64  \n",
            " 4   Transmission       13853 non-null  int64  \n",
            " 5   Engine             13853 non-null  object \n",
            " 6   DriveType          13853 non-null  object \n",
            " 7   FuelType           13853 non-null  object \n",
            " 8   FuelConsumption    13853 non-null  int64  \n",
            " 9   Kilometres         13853 non-null  float64\n",
            " 10  CylindersinEngine  13853 non-null  int64  \n",
            " 11  BodyType           13853 non-null  object \n",
            " 12  Doors              13853 non-null  int64  \n",
            " 13  Seats              13853 non-null  int64  \n",
            " 14  Price              13853 non-null  float32\n",
            " 15  age                13853 non-null  float64\n",
            " 16  Ext_Color          13853 non-null  object \n",
            "dtypes: float32(1), float64(2), int64(6), object(8)\n",
            "memory usage: 1.8+ MB\n"
          ]
        }
      ]
    },
    {
      "cell_type": "code",
      "source": [
        "df['DriveType'].value_counts().plot.pie()\n",
        "plt.show()"
      ],
      "metadata": {
        "colab": {
          "base_uri": "https://localhost:8080/",
          "height": 406
        },
        "id": "R16IRGxIvfAv",
        "outputId": "f03c71d2-c463-4240-87ba-78bf1e5d183a"
      },
      "execution_count": null,
      "outputs": [
        {
          "output_type": "display_data",
          "data": {
            "text/plain": [
              "<Figure size 640x480 with 1 Axes>"
            ],
            "image/png": "[encoded data removed]"
          },
          "metadata": {}
        }
      ]
    },
    {
      "cell_type": "code",
      "source": [
        "sns.countplot(x=\"FuelType\", data=df, palette=\"bwr\")\n",
        "plt.show()"
      ],
      "metadata": {
        "colab": {
          "base_uri": "https://localhost:8080/",
          "height": 540
        },
        "id": "SdRWCpq_1-CL",
        "outputId": "e74fe37c-62e3-470d-e9d3-7347be42f951"
      },
      "execution_count": null,
      "outputs": [
        {
          "output_type": "stream",
          "name": "stderr",
          "text": [
            "<ipython-input-63-d70136a24fb4>:1: FutureWarning: \n",
            "\n",
            "Passing `palette` without assigning `hue` is deprecated and will be removed in v0.14.0. Assign the `x` variable to `hue` and set `legend=False` for the same effect.\n",
            "\n",
            "  sns.countplot(x=\"FuelType\", data=df, palette=\"bwr\")\n"
          ]
        },
        {
          "output_type": "display_data",
          "data": {
            "text/plain": [
              "<Figure size 640x480 with 1 Axes>"
            ],
            "image/png": "[encoded data removed]"
          },
          "metadata": {}
        }
      ]
    },
    {
      "cell_type": "code",
      "source": [
        "# Ensure that 'Brand' column only contains string values\n",
        "df['Brand'] = df['Brand'].astype(str)\n",
        "\n",
        "# Create a dictionary of brands and their frequencies\n",
        "brand_counts = df['Brand'].value_counts().to_dict()\n",
        "print(brand_counts)"
      ],
      "metadata": {
        "colab": {
          "base_uri": "https://localhost:8080/"
        },
        "id": "IJaCNlMuAqTA",
        "outputId": "04c03423-514a-4b4d-e8bb-0b31f45496c5"
      },
      "execution_count": null,
      "outputs": [
        {
          "output_type": "stream",
          "name": "stdout",
          "text": [
            "{'Toyota': 2209, 'Hyundai': 1109, 'Mazda': 1017, 'Holden': 990, 'Ford': 939, 'Mitsubishi': 930, 'Nissan': 803, 'Volkswagen': 752, 'Kia': 746, 'Mercedes-Benz': 515, 'Subaru': 506, 'Audi': 406, 'BMW': 381, 'Honda': 311, 'Jeep': 256, 'Suzuki': 239, 'Land': 192, 'MG': 181, 'Isuzu': 171, 'Lexus': 140, 'GWM': 137, 'Renault': 135, 'Skoda': 102, 'Volvo': 98, 'LDV': 88, 'Porsche': 67, 'Mini': 51, 'Ssangyong': 48, 'Peugeot': 45, 'HSV': 42, 'Jaguar': 40, 'Fiat': 27, 'Chrysler': 21, 'Ram': 20, 'Great': 16, 'Alfa': 12, 'Haval': 12, 'Maserati': 11, 'Dodge': 10, 'Citroen': 10, 'Chevrolet': 9, 'Mahindra': 7, 'Cupra': 7, 'Ferrari': 6, 'Genesis': 4, 'McLaren': 4, 'FPV': 4, 'Bentley': 4, 'Opel': 4, 'Infiniti': 3, 'Abarth': 2, 'Lamborghini': 2, 'Foton': 2, 'Aston': 2, 'Rolls-Royce': 1, 'Iveco': 1, 'Tata': 1, 'Daewoo': 1, 'Chery': 1, 'Saab': 1, 'Proton': 1, 'Smart': 1}\n"
          ]
        }
      ]
    },
    {
      "cell_type": "code",
      "source": [
        "x = list(brand_counts.keys())[:20]\n",
        "height = list(brand_counts.values())[:20]\n",
        "sns.set(style=\"whitegrid\")\n",
        "plt.figure(figsize=(24, 12))\n",
        "sns.barplot(x=x, y=height, palette=\"viridis\")\n",
        "plt.title(\"Top 20 Cars with Count\", fontsize=18)\n",
        "plt.xlabel(\"Brand Names\", fontsize=14)\n",
        "plt.ylabel(\"Count of Cars\", fontsize=14)\n",
        "plt.xticks(rotation=45, ha='right', fontsize=12)\n",
        "plt.yticks(fontsize=12)\n",
        "plt.show()"
      ],
      "metadata": {
        "colab": {
          "base_uri": "https://localhost:8080/",
          "height": 881
        },
        "id": "pw2MJfPh39_p",
        "outputId": "8e9887f4-8dde-4401-a418-883b220a706c"
      },
      "execution_count": null,
      "outputs": [
        {
          "output_type": "stream",
          "name": "stderr",
          "text": [
            "<ipython-input-65-e3d0b791c2a1>:5: FutureWarning: \n",
            "\n",
            "Passing `palette` without assigning `hue` is deprecated and will be removed in v0.14.0. Assign the `x` variable to `hue` and set `legend=False` for the same effect.\n",
            "\n",
            "  sns.barplot(x=x, y=height, palette=\"viridis\")\n"
          ]
        },
        {
          "output_type": "display_data",
          "data": {
            "text/plain": [
              "<Figure size 2400x1200 with 1 Axes>"
            ],
            "image/png": "[encoded data removed]"
          },
          "metadata": {}
        }
      ]
    },
    {
      "cell_type": "code",
      "source": [
        "import plotly.express as px\n",
        "import plotly.graph_objects as go\n",
        "fig3 = px.pie(df, names='Transmission', title='Distribution of Transmission Types')\n",
        "fig3.show()"
      ],
      "metadata": {
        "colab": {
          "base_uri": "https://localhost:8080/",
          "height": 542
        },
        "id": "PXmLBLlXjWGr",
        "outputId": "c2b6fd00-ad95-43cc-b18b-9b3bdb49e675"
      },
      "execution_count": null,
      "outputs": [
        {
          "output_type": "display_data",
          "data": {
            "text/html": [
              "<html>\n",
              "<head><meta charset=\"utf-8\" /></head>\n",
              "<body>\n",
              "    <div>            <script src=\"https://cdnjs.cloudflare.com/ajax/libs/mathjax/2.7.5/MathJax.js?config=TeX-AMS-MML_SVG\"></script><script type=\"text/javascript\">if (window.MathJax && window.MathJax.Hub && window.MathJax.Hub.Config) {window.MathJax.Hub.Config({SVG: {font: \"STIX-Web\"}});}</script>                <script type=\"text/javascript\">window.PlotlyConfig = {MathJaxConfig: 'local'};</script>\n",
              "        <script charset=\"utf-8\" src=\"https://cdn.plot.ly/plotly-2.24.1.min.js\"></script>                <div id=\"d5c42b71-521a-4cb4-ad64-38ca5fb7c380\" class=\"plotly-graph-div\" style=\"height:525px; width:100%;\"></div>            <script type=\"text/javascript\">                                    window.PLOTLYENV=window.PLOTLYENV || {};                                    if (document.getElementById(\"d5c42b71-521a-4cb4-ad64-38ca5fb7c380\")) {                    Plotly.newPlot(                        \"d5c42b71-521a-4cb4-ad64-38ca5fb7c380\",                        [{\"domain\":{\"x\":[0.0,1.0],\"y\":[0.0,1.0]},\"hovertemplate\":\"Transmission=%{label}\\u003cextra\\u003e\\u003c\\u002fextra\\u003e\",\"labels\":[0,0,0,0,0,0,0,0,0,0,0,0,0,0,0,0,0,0,0,0,0,0,0,0,0,1,0,0,0,0,0,1,0,0,0,0,0,0,1,0,0,0,1,0,0,0,0,0,0,0,0,0,0,0,0,0,0,0,0,0,0,0,0,0,0,0,0,0,0,1,0,0,0,0,0,0,0,0,0,0,0,0,0,0,0,0,0,0,1,0,0,0,0,0,0,0,1,0,0,0,0,0,0,0,0,0,0,1,0,0,0,0,0,0,0,0,0,0,0,0,0,0,0,0,1,0,0,0,0,1,0,0,0,0,0,1,0,0,0,0,0,0,0,0,0,0,0,0,0,0,1,0,0,0,1,0,1,0,0,0,1,0,0,1,1,0,0,0,0,0,0,1,0,0,0,0,0,0,0,0,0,0,0,0,0,0,0,0,0,0,0,0,0,0,0,0,0,0,0,0,0,0,1,0,0,0,0,1,1,0,0,0,0,0,0,1,1,0,0,1,0,0,0,0,0,0,0,0,0,0,0,0,0,0,0,0,0,1,0,0,0,0,0,0,0,0,0,0,0,0,0,0,0,1,0,1,0,0,0,0,0,0,0,0,0,0,0,0,0,1,0,0,0,0,0,0,0,0,1,0,0,0,0,1,0,0,0,1,1,1,0,1,0,0,0,0,0,0,0,0,1,1,0,0,0,0,0,0,0,0,0,0,0,0,0,0,0,0,0,0,0,0,0,0,0,1,0,0,0,0,0,1,1,1,0,0,1,0,0,1,0,1,0,0,0,0,1,0,0,0,0,0,0,0,0,0,0,0,0,0,0,0,0,0,1,0,0,0,0,0,0,0,0,0,0,0,0,1,0,1,0,0,1,0,0,0,0,0,0,0,0,0,0,0,0,0,0,0,0,0,0,0,0,0,0,0,0,0,0,1,0,0,0,0,0,0,0,0,0,0,0,0,0,0,1,1,0,0,0,1,0,0,0,0,0,0,0,0,0,0,0,0,1,0,0,0,0,0,0,0,0,0,0,0,1,0,0,0,0,0,0,0,0,0,0,0,0,0,0,1,0,0,0,0,0,0,0,0,0,0,0,0,1,0,0,0,0,0,0,1,0,0,0,0,0,0,0,0,0,0,0,0,0,0,0,0,1,0,0,0,0,0,1,0,0,0,1,0,1,0,0,1,0,0,0,0,0,0,0,0,0,1,0,0,0,0,0,0,0,0,0,0,1,0,0,0,0,1,1,0,0,0,0,0,1,0,0,0,0,0,0,0,0,0,0,0,0,0,0,0,0,0,0,1,0,0,1,0,0,0,0,0,0,0,1,0,0,1,0,0,1,1,0,0,0,0,0,1,0,0,0,0,0,0,1,0,0,0,0,0,0,0,0,0,0,1,0,0,0,0,0,0,0,1,0,0,0,0,0,0,0,0,0,0,0,0,0,1,0,0,0,0,0,0,0,0,0,0,0,0,0,0,0,0,0,0,0,1,0,1,0,0,0,0,1,0,1,0,0,0,0,0,0,0,0,0,0,0,0,0,0,0,0,0,0,0,0,0,0,0,0,0,0,0,0,0,1,0,0,0,0,0,1,0,1,1,0,0,0,0,1,0,0,0,0,0,0,0,0,1,0,0,0,0,0,0,0,0,1,0,0,0,1,0,0,0,0,0,0,0,0,0,0,0,0,0,0,0,0,0,0,0,0,0,0,0,0,0,0,0,0,0,1,0,0,1,0,0,0,0,0,0,1,0,1,0,0,0,0,0,0,0,0,1,1,1,1,0,0,0,0,0,0,0,0,0,0,0,0,0,0,0,0,1,0,0,0,0,0,0,0,1,0,0,0,0,0,0,0,0,0,0,0,0,0,0,0,0,1,0,0,1,0,0,0,1,0,0,0,0,0,0,0,0,0,1,0,0,0,0,1,0,0,0,0,0,0,0,0,0,0,0,1,0,0,0,0,0,0,0,0,0,0,0,0,0,0,0,0,0,0,1,0,1,0,0,0,0,0,0,0,0,1,0,0,0,0,0,0,0,0,0,0,0,0,0,0,0,1,0,0,0,0,0,0,0,1,1,1,0,1,0,1,0,1,0,0,0,0,0,0,0,0,0,0,0,0,0,1,0,0,0,0,0,0,0,0,0,0,0,0,0,0,0,0,0,1,0,0,0,0,0,0,1,0,0,0,0,0,0,0,0,0,0,0,1,0,0,0,0,0,0,0,0,0,0,0,0,0,0,0,0,0,0,0,0,1,0,1,0,0,0,0,1,0,0,0,1,0,0,0,0,0,0,0,0,1,0,0,0,0,0,1,0,0,0,0,0,0,0,0,0,0,0,0,0,1,0,0,0,0,0,0,0,0,0,0,0,0,0,0,0,0,0,0,0,0,0,1,0,0,0,0,0,0,0,0,0,0,0,1,0,0,0,1,1,0,0,0,1,0,0,0,0,0,0,0,0,0,0,0,0,0,0,0,0,1,0,0,0,0,0,0,0,0,0,0,0,0,0,0,0,0,0,0,0,1,0,0,0,0,0,1,0,0,0,0,0,0,0,0,0,0,0,0,0,0,0,1,0,0,0,0,0,0,0,0,0,0,0,0,0,0,1,0,0,0,0,0,0,0,1,0,0,0,1,1,0,0,0,1,0,0,0,1,0,0,0,0,0,0,0,0,0,0,0,0,0,0,1,0,0,0,0,0,0,0,0,1,0,0,0,0,0,0,1,0,1,0,0,0,0,0,0,1,0,0,1,0,0,0,0,0,0,0,0,0,0,0,0,0,0,0,0,0,0,1,0,0,0,0,0,0,0,0,0,0,1,0,0,0,0,0,0,1,0,0,0,1,0,0,0,0,0,0,0,0,0,0,0,1,0,1,0,0,0,0,1,0,0,0,0,0,0,0,0,0,1,0,0,1,0,0,0,0,0,0,0,0,1,0,0,0,0,0,1,0,0,1,1,0,1,0,1,0,0,0,0,0,1,0,0,0,1,0,0,0,0,0,0,0,0,0,0,0,0,0,0,0,0,0,0,0,0,1,0,1,0,0,0,1,0,0,0,0,0,0,0,0,0,0,0,0,0,0,0,0,0,0,0,0,0,0,0,0,0,0,1,0,0,0,0,0,0,0,0,0,0,0,0,0,0,0,0,0,0,0,0,0,0,0,0,0,1,0,0,0,0,1,0,0,0,0,0,0,0,0,0,0,0,0,0,0,0,0,0,0,0,0,0,0,0,0,0,0,0,0,0,0,0,0,0,0,0,0,0,0,0,0,0,0,0,0,0,0,0,0,0,0,0,0,0,0,0,0,0,1,0,0,0,0,1,0,0,0,0,0,0,0,0,0,1,0,1,0,0,0,0,1,0,0,0,1,0,0,0,0,0,0,0,1,0,0,0,0,0,0,0,0,0,0,0,0,0,0,0,1,0,0,0,0,0,0,0,0,0,0,1,0,0,0,0,0,0,0,1,0,0,0,0,0,0,0,0,0,0,0,1,1,0,0,0,0,0,0,0,0,0,0,0,0,0,0,0,0,0,0,1,0,0,0,0,0,0,0,0,0,0,0,0,0,0,0,0,0,1,1,0,0,0,0,0,0,0,0,0,0,0,0,0,1,0,1,0,0,0,0,0,0,0,0,0,0,0,0,0,0,0,0,0,0,0,0,0,0,0,0,0,0,0,0,0,0,0,0,0,0,0,0,0,0,0,0,0,0,0,0,0,0,0,0,0,0,0,0,0,0,0,1,1,0,1,0,0,0,0,0,0,0,1,0,0,0,0,0,0,0,0,0,0,0,0,0,0,0,0,0,0,0,0,0,0,0,1,1,0,0,0,0,0,0,0,0,0,0,0,0,0,0,1,0,0,0,0,0,0,0,0,0,0,0,0,0,0,0,0,0,0,0,0,1,0,0,0,0,1,0,0,0,0,0,0,0,0,0,0,0,0,0,0,0,0,0,0,0,0,0,0,0,0,0,0,0,0,0,0,1,0,0,0,0,0,0,0,0,0,0,0,0,0,0,0,1,0,0,0,0,0,0,0,0,0,0,0,0,0,0,0,1,1,0,0,0,0,0,0,0,0,0,0,0,0,0,0,0,0,0,0,0,0,0,0,0,0,0,0,0,1,0,0,0,0,0,0,0,0,0,0,0,1,0,0,1,0,0,0,0,0,0,0,0,0,0,0,0,0,0,0,1,0,1,0,0,0,0,1,0,0,0,0,0,0,0,0,0,0,0,0,0,1,0,0,1,0,0,0,0,0,0,0,0,0,0,0,1,0,0,1,0,1,0,0,1,0,0,0,0,0,0,0,0,0,1,0,0,0,0,0,0,0,1,0,0,0,0,0,0,0,0,0,1,0,0,1,1,0,0,0,0,0,0,1,0,1,0,0,1,1,0,0,0,0,0,0,0,0,0,0,0,0,1,1,0,0,0,0,0,0,0,0,0,0,0,0,0,0,0,0,1,0,0,0,0,0,0,0,0,0,0,0,0,0,0,0,0,0,0,0,0,0,0,1,0,0,0,0,0,0,0,0,0,0,1,1,0,0,0,0,0,0,0,0,0,1,0,1,0,0,0,0,0,0,0,0,0,0,1,0,0,0,0,0,0,0,0,0,0,0,1,0,0,0,0,0,0,0,0,0,0,0,0,1,0,0,0,0,0,0,0,0,0,0,0,0,0,0,0,0,0,0,0,1,0,0,0,0,0,0,1,0,0,0,0,0,0,0,0,1,0,0,0,0,0,0,0,0,0,0,0,0,0,0,0,1,0,1,0,0,0,0,0,1,0,0,0,0,0,0,0,0,0,0,0,0,0,0,0,0,0,1,0,0,0,0,0,0,1,0,0,0,0,0,0,0,0,1,0,1,0,0,0,0,0,0,0,0,0,1,0,1,0,0,1,0,0,0,0,0,0,0,0,0,0,0,0,0,1,0,0,1,0,0,0,0,0,0,0,0,1,0,0,0,0,0,1,0,0,0,0,0,0,0,0,0,0,0,0,0,0,0,1,0,1,0,0,0,0,0,0,0,0,0,0,1,1,0,0,0,0,0,0,0,0,0,0,0,0,0,0,0,0,0,0,0,0,0,0,0,0,0,0,0,0,0,0,0,0,0,0,0,0,0,0,0,0,0,0,0,0,0,0,0,0,0,0,0,0,0,0,1,0,0,1,0,0,0,0,0,0,0,0,0,1,1,0,0,0,0,0,0,0,1,0,0,0,1,0,0,0,0,0,0,0,0,0,1,1,0,0,0,0,0,0,0,0,0,1,0,0,0,0,0,0,0,0,0,0,0,0,0,0,0,0,0,0,0,1,0,0,0,0,0,0,0,0,0,0,0,0,0,1,0,0,0,0,1,0,0,0,1,1,0,1,0,1,0,1,0,0,0,0,0,0,0,0,0,0,0,0,0,0,0,0,0,0,0,0,1,0,0,0,0,0,0,0,1,0,1,0,0,0,0,0,0,1,1,0,0,0,0,0,0,0,0,0,0,0,0,0,0,0,1,0,0,0,0,0,0,0,1,0,0,0,1,0,0,0,0,0,0,0,0,0,0,0,0,0,0,1,0,1,1,0,0,0,0,0,0,0,0,0,0,0,0,0,1,1,0,0,0,1,0,1,0,0,0,0,0,0,1,1,0,0,0,0,0,1,1,0,0,0,0,0,0,0,0,0,1,0,0,0,0,0,0,1,0,0,0,0,0,0,1,0,0,0,0,0,0,0,0,0,0,0,0,0,0,0,0,0,0,0,0,0,0,0,0,0,0,0,0,0,0,1,0,0,0,0,0,0,0,0,0,0,0,0,0,0,0,0,0,0,0,0,0,0,0,0,1,0,0,0,0,0,0,0,0,0,0,0,0,0,0,0,0,0,0,0,0,0,0,0,1,0,1,0,0,0,0,0,0,0,0,0,0,0,0,0,0,0,1,0,0,1,0,0,0,0,0,0,0,0,0,0,0,1,0,1,0,0,1,0,0,0,0,0,0,0,0,1,0,0,0,0,0,0,0,0,0,0,0,0,0,0,0,1,0,1,1,0,0,0,0,0,0,0,0,0,0,0,0,0,0,0,0,1,0,0,1,0,0,1,0,0,0,0,0,0,0,0,0,0,0,0,0,0,0,0,0,0,0,0,0,0,0,0,0,0,0,0,0,0,0,0,0,0,0,0,0,0,0,0,0,0,0,0,0,0,0,0,0,0,0,0,0,0,0,0,0,0,0,0,0,0,0,0,0,0,0,0,0,0,0,0,1,0,1,0,0,1,0,0,0,1,0,0,0,0,0,0,0,0,0,1,0,0,0,0,0,0,0,0,0,0,0,0,0,0,0,0,0,0,0,0,1,0,0,0,0,0,0,0,1,0,1,0,0,0,0,0,0,0,0,0,0,0,0,0,0,0,0,0,1,0,0,0,0,0,0,1,0,0,0,0,0,0,0,0,1,0,0,0,0,0,0,0,0,0,0,0,0,0,0,0,0,1,1,0,0,0,0,0,0,0,0,0,0,0,0,0,0,1,1,0,0,0,0,0,0,0,0,0,0,0,0,0,0,1,0,0,0,0,0,0,0,0,0,0,0,1,0,0,0,0,0,0,0,0,0,0,0,0,0,0,0,0,0,0,0,0,0,0,0,0,0,0,0,0,0,0,0,0,0,0,0,1,0,0,0,0,1,0,0,0,0,1,0,0,0,1,0,0,0,0,0,0,0,0,0,0,0,0,0,0,0,0,1,0,0,0,1,0,0,1,0,1,0,0,0,0,0,0,0,0,0,1,0,0,0,0,1,0,0,0,0,0,0,0,0,0,0,0,0,0,0,0,0,0,0,0,0,0,1,0,0,0,0,0,1,0,0,0,1,0,0,0,0,0,0,1,0,0,0,1,0,1,1,0,0,0,0,0,0,0,0,0,1,0,1,0,0,0,0,0,0,0,0,0,0,0,0,0,0,0,0,0,0,0,0,0,1,0,0,0,0,0,0,0,0,1,0,0,1,0,0,0,0,1,0,0,0,0,0,0,1,0,0,0,0,0,0,0,1,0,1,0,0,0,0,0,0,0,0,0,0,0,0,0,0,0,0,0,0,0,0,0,0,0,0,0,0,0,1,0,0,0,1,0,0,0,0,0,0,0,0,0,1,0,0,0,0,0,0,0,0,0,0,0,0,0,1,0,0,0,0,0,0,0,0,0,0,0,0,0,0,1,0,0,1,0,0,1,0,0,0,0,0,0,0,1,0,1,0,0,0,0,0,0,0,0,0,0,0,0,0,0,1,0,0,0,0,1,0,0,0,0,0,0,0,0,0,0,0,0,0,0,0,0,0,0,0,0,0,0,0,0,0,0,0,0,1,0,0,0,0,0,0,0,0,0,0,0,1,0,0,0,0,0,0,1,0,0,0,0,0,0,0,0,1,0,0,0,0,0,0,0,0,1,0,0,0,0,0,0,1,0,0,0,0,0,0,0,0,0,0,0,0,0,0,1,0,0,0,0,0,0,0,1,0,0,0,0,0,1,0,0,0,0,0,0,0,0,0,0,0,0,0,0,0,0,0,0,0,0,0,1,0,0,0,0,0,0,1,0,0,0,0,0,0,0,0,0,0,0,0,0,0,0,0,0,0,0,0,0,0,0,0,1,0,0,0,0,0,0,0,0,0,0,0,0,0,0,0,0,0,0,0,0,1,0,0,0,0,0,0,0,0,0,1,0,0,0,0,0,0,0,0,0,1,0,1,1,1,0,0,0,0,0,0,0,0,0,0,0,0,0,1,1,0,0,0,0,0,0,0,0,0,0,0,0,1,0,0,0,0,1,0,0,0,0,0,0,0,0,1,0,0,0,0,0,0,0,0,0,0,0,0,0,0,0,0,0,0,0,0,0,0,0,1,0,0,0,0,1,0,0,0,0,0,0,0,0,0,0,0,0,0,0,0,0,1,0,1,1,0,0,1,0,0,0,0,0,1,0,1,0,0,0,0,1,0,1,0,0,0,0,0,0,0,0,0,0,0,0,0,0,0,0,0,0,0,0,0,0,0,0,0,0,0,0,0,0,0,1,0,0,0,0,0,1,0,0,0,0,0,0,0,1,0,1,0,0,0,0,0,0,0,0,0,1,1,0,1,0,0,0,1,0,1,0,0,1,0,0,0,0,0,0,0,0,0,0,0,0,0,0,0,0,0,0,0,0,0,0,0,0,0,0,0,1,0,0,0,0,0,0,0,1,0,0,0,0,0,0,1,1,0,0,0,1,0,0,0,0,0,0,0,0,1,0,1,0,0,0,0,0,0,0,0,0,0,0,0,1,0,0,0,0,0,0,1,0,0,0,0,0,0,0,0,0,0,0,1,0,0,0,0,0,0,0,0,0,0,0,1,0,0,1,1,0,0,0,0,0,0,0,0,0,0,0,0,0,0,0,0,0,0,0,0,0,0,0,0,0,0,0,0,0,1,0,1,0,0,0,1,0,0,1,0,0,0,1,0,0,0,0,0,0,0,0,0,0,0,0,0,0,0,0,0,0,0,0,0,0,0,0,0,0,0,0,0,0,0,1,0,0,0,0,0,0,0,0,0,0,1,0,1,0,0,1,0,0,0,0,0,0,0,0,0,0,1,0,1,0,0,0,0,0,1,0,0,0,0,0,1,0,0,0,0,1,0,0,0,0,0,0,0,1,0,0,0,0,0,0,0,0,0,0,0,0,0,1,0,0,0,0,0,1,0,0,1,0,0,0,1,0,0,1,0,0,0,0,0,0,0,0,0,0,1,0,0,0,0,1,0,0,0,0,0,0,0,0,0,0,1,0,0,0,0,0,0,0,0,0,0,0,0,0,0,0,1,0,0,1,1,0,0,0,1,0,0,0,0,0,0,0,1,0,0,0,0,0,0,0,1,0,0,0,0,0,0,1,1,0,0,1,0,0,0,1,0,0,0,0,0,0,0,0,1,0,0,0,1,0,0,0,0,0,0,0,1,1,0,0,0,0,0,1,0,0,1,0,0,0,0,0,1,0,1,0,0,0,0,1,1,0,0,1,0,0,0,0,0,0,0,0,0,0,0,0,0,1,0,0,0,0,0,0,1,0,0,1,1,0,0,0,0,0,0,0,1,0,0,0,0,1,0,0,0,0,0,0,0,1,0,0,0,1,1,0,0,0,0,1,0,0,0,0,0,0,1,0,1,0,0,0,0,0,0,0,0,0,0,0,1,0,0,0,0,0,0,0,0,0,0,0,0,0,0,0,1,0,0,0,0,0,0,1,1,0,0,0,1,0,0,0,0,0,1,1,1,0,0,0,0,1,0,0,0,0,0,0,0,0,0,0,0,1,0,0,0,1,0,0,1,1,1,0,0,0,0,0,0,0,0,0,0,0,1,0,0,0,0,0,0,0,0,0,0,0,0,0,0,0,0,0,0,0,1,0,0,0,0,0,0,0,0,0,0,1,0,0,0,0,0,1,0,0,0,0,0,0,0,0,1,0,1,0,0,0,0,0,0,0,0,0,0,1,0,0,0,1,0,1,0,1,0,0,1,0,0,0,0,0,0,0,0,0,1,0,0,0,0,0,0,0,0,0,0,0,0,1,0,0,1,0,0,0,0,0,1,0,1,0,0,0,0,0,0,0,0,0,0,0,0,0,0,0,0,0,1,0,0,0,0,0,0,0,1,0,0,0,1,0,0,0,0,0,0,0,1,0,0,1,0,0,0,0,0,0,0,0,0,0,0,1,1,1,1,0,0,0,0,0,0,0,0,1,0,0,0,0,0,0,0,0,0,0,0,0,0,0,0,0,0,1,0,1,1,0,0,0,0,1,0,0,0,0,0,0,1,0,0,0,0,0,0,1,0,1,0,0,0,0,1,0,0,0,1,0,0,0,0,0,0,0,0,0,0,0,0,0,1,0,0,0,0,0,0,0,0,1,1,0,0,0,0,0,0,1,1,0,0,1,1,0,0,0,0,1,0,1,0,0,0,0,1,0,0,1,0,0,0,0,0,0,0,1,0,0,0,0,0,0,0,0,0,0,0,0,0,1,0,0,0,0,0,0,0,0,0,1,0,0,0,0,0,0,0,0,1,0,0,0,0,0,0,0,1,0,0,0,0,0,0,0,0,0,0,1,0,0,0,0,0,0,0,0,0,0,0,0,0,0,0,0,1,0,1,0,0,0,0,0,0,0,0,0,0,0,0,0,1,0,1,1,0,0,0,1,0,0,1,1,1,0,1,0,0,1,0,0,0,0,0,0,0,0,0,0,0,0,0,0,0,0,0,0,0,0,0,0,0,0,0,0,0,1,0,0,0,0,0,0,0,0,0,0,0,0,0,0,0,0,0,0,1,0,0,0,0,0,0,1,1,0,0,0,1,0,0,0,0,0,0,1,0,1,0,0,0,0,0,0,0,0,0,0,0,0,1,0,1,0,0,0,0,0,0,0,0,0,0,0,0,0,0,0,0,0,0,0,0,0,0,0,0,0,0,1,1,0,0,0,0,0,0,0,1,0,0,0,0,1,0,0,0,0,1,0,0,0,0,0,0,0,0,0,0,0,0,0,0,0,0,0,1,0,0,0,0,0,1,1,0,0,1,0,0,0,1,0,0,0,0,0,0,0,0,0,0,0,0,0,0,0,0,0,0,0,0,0,0,0,0,0,0,0,1,0,1,0,0,0,0,0,0,0,0,0,0,0,0,0,1,0,0,0,0,0,0,0,0,0,0,0,0,0,0,0,0,0,0,0,0,0,0,0,0,0,0,0,0,0,1,0,0,0,1,0,0,0,0,0,0,0,1,1,0,0,0,0,0,0,0,0,0,0,0,0,1,0,1,0,0,1,0,0,0,0,0,0,0,0,0,0,1,0,0,0,0,0,0,0,0,0,0,0,0,0,1,0,0,0,1,0,0,0,0,0,0,0,0,0,0,0,0,0,1,0,0,0,0,1,0,0,0,0,0,0,0,1,0,1,1,0,0,0,0,0,0,0,0,1,0,0,0,0,0,0,0,0,0,0,0,0,0,0,0,0,0,0,0,0,0,0,0,0,0,0,0,0,0,0,0,0,0,0,0,0,0,0,0,0,0,0,0,1,0,1,0,1,0,0,0,0,0,0,0,0,0,0,0,0,0,0,0,0,0,0,0,0,0,1,0,0,0,0,0,0,0,0,0,0,0,0,0,1,0,0,0,0,0,0,1,0,0,0,0,0,0,1,1,0,0,0,0,0,0,0,0,0,0,0,1,0,0,0,0,0,0,0,0,0,0,0,0,0,0,1,0,0,0,0,0,0,0,0,0,0,1,1,0,0,0,0,0,0,0,1,0,0,0,0,0,0,0,0,0,0,0,0,0,0,0,0,0,0,0,0,0,0,0,0,0,0,0,0,0,0,0,0,0,0,0,1,0,0,0,0,0,0,0,1,0,0,0,0,0,1,1,0,0,0,1,0,0,0,0,0,0,0,0,0,1,0,0,0,0,0,0,0,0,0,0,0,0,0,0,0,1,0,1,1,0,1,0,0,0,0,0,0,0,0,0,0,0,0,0,1,0,0,0,0,0,0,0,0,1,1,0,0,0,0,0,1,0,0,0,1,1,0,0,0,0,0,0,0,0,1,0,1,0,0,0,0,0,0,0,0,0,0,0,0,0,0,0,0,0,0,0,0,1,0,1,0,0,1,1,0,0,1,0,0,0,0,1,0,0,0,0,0,1,0,1,1,1,0,0,0,1,0,0,0,0,0,0,0,0,0,0,0,0,0,1,0,0,0,0,0,0,0,0,0,1,0,0,0,0,0,0,0,0,0,0,1,0,0,0,0,0,0,1,0,0,0,0,0,1,0,0,0,0,0,0,1,0,0,0,0,0,0,1,0,0,0,0,0,1,0,0,0,0,1,0,0,1,0,0,0,1,0,1,0,1,0,0,0,0,0,0,0,0,0,0,0,1,0,0,0,0,1,0,0,0,1,0,0,1,0,0,1,0,0,0,0,0,0,0,0,0,0,0,0,0,0,0,0,1,1,0,0,0,0,0,0,0,0,1,0,0,0,0,1,0,0,0,0,0,0,0,0,0,0,0,0,0,0,0,0,0,0,0,0,0,1,0,1,0,0,0,0,1,0,0,1,0,0,0,1,0,0,0,0,0,0,0,0,0,0,0,0,1,0,0,0,0,0,0,0,0,0,0,0,0,0,0,0,0,0,0,0,0,0,0,0,0,0,1,0,0,0,1,0,0,0,0,0,0,0,0,0,0,0,0,0,0,0,0,0,0,0,0,0,0,0,0,0,0,1,0,0,0,0,0,0,0,0,0,0,0,0,0,0,0,0,0,0,0,0,0,0,0,0,0,1,0,0,1,1,0,0,0,0,0,0,0,0,1,0,0,0,0,0,0,0,0,0,0,0,0,0,0,0,0,0,0,0,0,0,0,0,0,0,0,0,0,0,0,0,0,0,0,0,0,1,0,0,0,0,0,0,0,0,0,0,0,1,0,0,1,0,0,0,0,0,0,0,0,0,0,0,1,0,1,0,1,1,0,0,1,0,0,0,0,0,0,0,0,0,0,0,1,0,0,0,0,1,0,1,0,0,0,0,0,0,0,0,0,0,0,0,0,0,0,0,0,0,0,0,0,0,0,0,0,0,0,0,0,0,0,0,1,0,0,0,0,1,1,0,0,1,1,0,0,1,0,0,0,0,0,0,0,0,0,0,0,0,0,1,0,0,0,0,0,1,0,1,0,1,0,0,0,0,0,0,0,0,0,0,0,0,0,0,0,0,1,0,0,0,0,0,1,0,1,0,0,1,0,0,0,0,1,0,0,0,0,0,0,0,0,0,0,0,0,0,1,0,0,0,0,0,0,0,0,0,0,0,0,0,0,0,0,0,0,1,1,0,0,0,0,1,0,1,0,0,0,1,0,0,0,0,0,0,0,0,0,0,0,0,0,0,0,0,0,0,0,0,1,0,1,1,0,0,0,0,0,0,0,1,0,1,0,1,0,0,0,0,1,0,0,0,0,0,0,0,1,0,0,0,1,0,0,0,0,0,0,1,0,0,0,0,0,1,0,0,1,0,0,0,0,0,0,0,0,0,0,0,0,0,1,0,0,0,0,1,1,0,0,0,0,0,0,0,0,0,0,0,0,0,0,1,0,0,0,0,1,0,0,0,0,0,0,0,0,0,0,0,0,0,1,0,0,0,0,0,0,0,0,0,0,1,0,0,0,0,0,0,0,0,0,0,0,0,0,0,0,0,1,0,1,0,0,0,0,0,0,0,0,0,0,0,0,1,0,0,0,0,0,0,0,0,0,0,0,0,1,0,0,0,0,1,0,0,0,1,0,0,0,0,0,0,0,1,0,0,0,0,0,0,0,0,0,0,1,0,0,0,0,0,0,0,0,1,0,1,0,0,0,0,0,0,1,1,0,0,0,0,1,0,0,1,0,1,0,0,1,0,0,0,0,0,0,0,0,1,0,0,0,0,0,0,0,0,0,0,0,1,0,1,0,1,0,0,0,0,0,0,0,0,1,0,1,0,0,0,0,0,0,0,0,0,0,0,0,1,0,0,0,0,0,0,0,1,0,0,1,0,0,0,0,0,0,0,0,0,0,0,0,0,0,0,0,0,0,0,0,0,0,0,0,0,0,0,0,0,0,0,0,0,0,0,0,1,0,0,1,0,0,0,0,0,1,0,0,1,0,0,0,0,0,0,0,0,0,0,0,1,0,0,0,1,0,0,0,0,0,0,0,0,0,0,0,0,1,0,0,0,0,0,0,0,1,0,0,0,0,0,0,0,0,0,0,0,0,0,0,0,0,0,0,0,0,0,0,0,0,0,0,0,0,0,0,0,0,0,0,0,1,0,0,0,0,0,0,0,0,0,0,1,0,1,0,0,0,0,0,0,0,1,1,0,1,0,0,0,0,0,0,0,0,0,0,1,0,0,0,0,0,0,0,0,0,0,0,1,1,0,0,0,0,1,1,0,0,0,0,0,0,0,0,0,0,0,1,0,0,0,0,0,0,0,0,0,0,0,0,0,0,0,0,0,0,0,0,0,0,0,0,0,0,0,0,0,0,0,1,0,0,0,0,1,0,0,0,0,0,0,0,0,0,0,0,0,0,0,0,0,0,0,0,0,0,0,0,0,0,0,0,0,0,0,0,0,0,0,1,0,0,0,0,0,0,0,1,0,0,1,0,0,0,0,0,0,0,0,0,0,0,0,1,0,0,0,0,0,0,0,0,0,0,0,0,0,0,0,0,0,0,0,0,0,0,0,0,1,0,0,1,0,0,0,1,0,0,1,0,0,0,1,0,0,1,0,0,0,0,0,0,0,0,0,0,0,0,0,0,0,0,0,0,0,1,0,0,0,0,0,0,0,0,1,0,0,0,0,0,0,0,1,0,0,0,1,0,0,0,0,0,0,0,0,0,0,0,0,0,0,0,0,0,0,0,0,0,0,0,0,1,0,1,1,1,0,0,0,0,1,0,0,0,0,0,0,0,0,0,0,0,0,0,0,1,0,0,1,0,0,0,0,0,0,0,0,1,0,0,0,0,0,0,0,0,0,0,0,0,0,0,0,0,1,1,0,0,0,0,0,0,0,0,0,0,1,0,0,0,0,0,1,0,0,0,0,0,0,0,0,1,0,0,0,0,0,0,0,0,0,0,0,0,0,0,0,0,0,0,0,1,0,0,0,0,1,0,0,0,0,1,0,1,0,0,0,0,0,0,0,0,0,0,0,0,0,0,0,0,0,0,0,1,0,0,0,0,0,0,0,0,0,1,1,0,0,0,0,0,0,0,0,1,0,0,0,1,0,0,0,0,1,0,0,0,0,0,1,0,0,0,0,0,0,0,0,0,0,0,0,0,0,0,0,0,0,0,0,0,0,0,0,0,1,0,0,0,0,0,0,0,0,0,0,0,1,0,0,0,0,0,0,0,0,0,0,0,0,0,0,0,0,0,0,0,0,0,0,0,0,0,0,1,0,0,0,0,0,0,0,1,0,0,0,0,0,0,0,0,0,0,0,0,0,0,0,0,0,0,0,0,0,0,0,0,0,0,0,0,0,0,0,0,0,0,0,0,0,0,0,1,0,0,0,0,0,0,0,0,0,1,0,0,0,0,0,0,0,0,0,0,0,0,0,0,0,0,0,0,0,0,0,0,0,0,0,0,0,0,0,0,0,0,0,0,0,0,0,0,0,0,0,0,0,0,0,0,0,0,0,0,0,0,1,0,0,0,1,0,0,0,0,0,0,0,0,0,1,0,0,0,0,0,0,0,0,0,0,1,0,0,1,0,0,0,0,0,0,0,0,0,0,0,0,0,0,1,0,0,0,1,0,0,0,0,0,0,0,0,0,0,0,0,0,0,0,0,1,0,0,0,0,0,0,0,0,0,0,0,0,0,0,0,0,1,0,0,0,0,0,1,0,0,0,0,0,0,0,0,1,0,0,1,0,0,0,0,0,0,0,0,0,0,0,0,1,1,0,0,0,0,0,0,0,0,0,0,0,1,0,0,1,0,0,0,0,0,0,0,0,0,0,0,0,0,0,0,0,1,0,0,0,0,0,0,1,0,0,0,0,0,0,0,0,0,0,0,0,0,0,0,1,0,0,0,0,0,1,0,0,0,1,0,0,0,1,0,0,0,0,1,0,0,0,1,0,0,0,0,1,0,1,0,0,0,1,0,0,0,1,0,0,0,1,1,0,0,0,0,0,0,0,0,1,0,0,0,0,0,0,0,0,0,0,0,0,1,0,0,0,0,0,0,0,0,0,0,0,1,1,0,0,0,0,1,0,0,0,1,0,0,0,0,0,0,0,1,0,0,0,0,0,0,0,0,0,0,0,0,0,1,0,0,0,0,0,0,0,0,0,0,0,0,0,0,0,0,0,0,1,0,0,0,0,0,0,0,0,0,0,0,0,0,0,0,0,1,0,0,0,1,0,1,0,1,0,0,0,0,0,0,0,0,0,0,0,0,0,1,0,0,0,1,0,0,0,1,0,0,1,0,0,0,0,0,0,0,1,0,0,0,0,0,0,0,1,0,0,0,0,0,0,0,1,1,0,0,0,0,0,1,1,0,0,0,0,0,0,0,0,0,0,0,0,0,0,0,0,0,0,0,0,0,1,0,0,0,0,0,0,0,0,0,0,0,0,0,0,0,0,1,0,0,1,0,1,0,0,0,0,0,0,1,0,1,0,1,0,0,0,1,0,1,1,0,0,0,0,0,0,0,0,0,1,0,0,1,0,1,0,0,0,0,0,0,0,0,0,0,0,0,0,0,0,0,0,0,0,0,0,0,0,0,0,0,0,1,0,0,0,0,0,0,0,0,0,0,0,0,0,0,0,0,0,0,0,1,0,0,0,0,1,0,0,0,1,1,0,0,0,0,0,0,0,0,0,0,0,1,0,0,0,0,0,1,1,0,0,0,0,0,0,0,0,0,1,1,1,0,0,1,0,1,0,0,1,1,0,0,0,0,0,0,0,0,0,1,0,0,0,0,0,0,1,0,0,0,0,0,0,0,0,0,0,0,0,0,0,0,0,0,0,0,0,0,0,0,0,0,0,0,0,0,1,0,0,1,0,0,0,0,0,0,0,0,0,0,1,0,0,1,1,0,0,0,0,0,0,0,0,1,0,0,0,0,0,0,0,1,0,0,0,0,0,0,0,0,0,0,1,0,0,0,0,0,0,0,0,0,0,0,1,0,0,0,0,0,0,0,0,0,0,0,0,0,0,0,0,0,0,0,0,0,0,0,0,0,0,0,0,1,0,0,0,0,0,0,0,0,0,0,0,0,0,0,0,1,0,0,0,0,0,0,0,0,0,0,1,0,0,0,1,0,0,0,0,0,0,0,0,0,0,0,0,0,0,0,0,0,0,0,0,0,0,0,0,0,0,0,0,0,0,0,0,0,0,1,0,0,0,0,0,0,0,0,0,0,0,0,0,0,0,0,0,0,0,0,0,0,0,0,0,0,0,0,0,0,0,0,0,0,0,0,0,0,0,0,0,0,0,0,0,0,0,0,0,0,0,0,0,0,0,0,0,0,0,0,1,0,0,0,0,0,0,0,0,0,0,0,0,0,0,0,0,0,1,0,0,0,0,0,1,0,0,0,0,1,0,0,0,0,0,0,0,0,0,0,0,0,0,0,0,0,0,0,1,0,0,0,1,0,0,0,0,0,0,0,0,1,0,0,0,0,0,0,0,0,0,1,0,0,0,0,0,0,0,0,0,0,0,0,0,0,0,0,0,0,0,0,0,0,0,0,0,0,0,0,0,0,0,0,1,0,0,0,0,0,0,0,0,0,0,0,0,0,1,0,0,0,0,0,0,0,0,0,0,0,0,0,0,0,0,1,0,0,0,0,1,0,0,0,0,0,0,0,0,0,0,0,0,0,0,0,0,0,1,0,0,0,0,0,0,0,0,0,0,0,0,0,0,0,0,0,0,0,0,0,0,0,0,1,0,1,0,0,0,0,0,0,0,0,0,0,0,0,1,1,0,0,0,0,1,0,0,0,1,0,0,0,0,0,0,0,0,0,0,0,0,0,0,0,0,0,0,0,0,0,0,0,0,0,1,0,0,0,0,1,0,0,0,0,0,0,0,0,1,0,0,1,0,0,0,0,0,0,0,0,0,0,0,0,0,0,0,0,0,0,0,0,0,0,0,0,0,0,0,0,0,0,0,0,0,0,1,0,0,0,0,0,0,0,0,0,0,0,0,0,0,0,0,0,1,0,0,0,0,1,0,0,0,0,0,0,0,0,1,0,0,0,0,0,0,0,0,0,0,1,1,0,0,0,0,0,0,0,0,0,0,0,0,0,0,0,0,0,0,0,0,0,0,0,0,1,0,0,0,0,0,0,0,0,0,0,0,0,0,0,0,0,1,0,0,0,0,1,0,0,0,0,0,1,0,0,0,0,0,0,0,0,0,0,0,0,0,0,0,0,0,0,0,0,0,0,0,1,0,0,0,0,0,0,0,0,0,0,0,0,0,0,0,0,0,0,0,0,0,0,0,0,0,0,0,0,0,0,0,0,0,0,0,0,0,0,0,0,0,0,0,0,0,0,1,0,1,0,0,1,0,0,0,0,0,0,0,0,0,0,0,0,0,0,0,0,0,0,0,0,0,0,0,0,0,1,0,0,0,0,0,0,0,0,0,0,0,0,0,0,0,0,0,0,0,0,0,0,1,0,0,0,0,1,0,0,1,0,0,0,0,0,0,0,0,0,0,0,1,1,0,0,0,0,0,0,0,0,0,0,1,0,0,0,0,1,0,0,1,0,0,0,0,0,0,0,0,0,1,0,0,1,0,0,0,0,1,0,0,0,0,0,0,0,0,0,0,0,0,0,0,0,0,0,0,0,0,0,0,0,0,0,0,0,0,0,0,1,0,0,0,0,0,0,0,0,0,0,1,0,0,0,0,0,0,1,1,0,0,0,0,0,0,0,0,0,1,0,0,0,0,0,0,0,1,0,0,0,0,0,0,0,0,0,0,0,0,0,0,0,1,0,0,1,0,1,0,0,0,0,0,0,0,0,1,1,0,1,0,0,0,1,0,0,0,0,0,0,0,1,0,0,0,0,0,0,0,1,0,0,0,0,0,0,0,1,0,0,0,0,0,0,0,0,0,0,0,0,0,0,0,0,0,0,0,0,0,0,1,0,1,0,0,0,0,0,0,0,0,0,0,0,0,0,0,0,0,0,0,0,0,0,0,0,0,1,0,0,0,0,0,0,0,0,0,0,0,0,0,0,0,0,0,0,1,0,0,0,0,0,0,0,0,0,0,0,0,0,0,0,0,0,0,0,0,0,0,0,0,0,0,0,0,0,0,0,0,0,0,0,0,0,0,0,0,0,0,1,0,0,0,0,0,0,0,0,0,0,0,0,0,0,1,0,0,0,0,0,0,0,0,0,0,0,0,0,0,0,0,0,0,0,1,0,0,0,0,0,0,0,0,0,0,0,0,0,0,0,0,1,0,0,0,1,0,1,0,0,0,0,0,0,0,0,0,0,0,0,0,0,1,0,0,1,0,0,0,0,0,1,0,0,0,0,0,1,1,0,0,0,0,0,0,0,0,1,0,0,0,0,0,0,0,0,0,0,0,0,0,0,0,0,0,0,0,0,0,0,0,0,1,0,0,0,1,0,0,0,0,0,0,0,0,0,0,0,0,0,0,0,0,0,0,0,0,0,0,1,0,0,0,0,0,0,0,0,0,0,0,0,0,0,0,0,0,0,1,0,0,0,0,0,0,0,0,0,0,0,0,0,0,1,0,0,0,0,0,0,0,0,0,0,0,0,0,0,0,0,0,0,0,0,0,0,0,0,1,0,0,0,0,0,0,0,0,0,1,0,0,0,0,0,0,0,0,0,0,0,1,1,0,0,0,0,0,1,0,0,0,0,0,0,0,0,0,0,0,0,0,0,1,0,0,0,0,0,0,0,0,0,1,0,0,0,0,0,0,0,0,0,0,0,1,0,0,0,0,0,1,0,0,0,0,0,0,0,0,0,0,0,0,0,0,0,0,0,1,0,0,0,0,0,0,0,0,0,0,0,0,0,0,0,0,1,0,0,1,0,0,0,0,0,0,0,0,0,0,0,1,0,0,1,0,0,0,0,0,0,0,0,0,0,0,0,0,0,0,1,0,0,0,0,0,0,0,0,0,0,0,0,0,0,1,1,0,0,0,0,0,0,0,0,0,0,1,0,0,0,0,0,0,0,0,0,0,0,0,1,0,0,0,0,0,0,1,0,1,0,0,0,0,0,0,0,0,0,0,0,0,0,0,0,0,0,0,0,0,0,0,0,1,0,1,0,0,0,0,1,0,0,1,1,0,0,0,0,0,0,0,0,0,0,1,0,0,0,0,0,1,0,0,1,0,0,0,0,1,0,0,0,0,0,0,0,0,0,0,0,0,0,0,0,0,0,0,1,0,0,0,0,0,0,0,0,0,0,0,0,0,0,0,0,0,0,0,0,0,0,0,0,0,1,0,0,0,0,0,0,1,0,0,0,0,0,0,0,0,0,0,1,0,0,0,0,0,0,0,0,0,0,1,0,0,0,0,0,0,0,0,0,0,1,0,0,0,0,0,0,0,0,0,0,0,0,0,0,0,0,0,1,0,0,0,0,0,0,0,1,0,0,0,0,0,0,1,0,0,1,0,0,0,0,0,0,0,0,0,0,0,0,1,0,0,0,0,0,0,0,1,0,0,1,0,0,0,1,0,0,0,1,0,0,0,0,1,0,0,0,0,0,1,0,0,0,1,0,0,0,0,1,0,0,0,0,0,0,0,0,0,0,0,0,0,0,0,0,0,0,0,0,0,0,0,0,0,0,0,0,0,0,0,0,0,1,0,1,1,0,0,0,1,0,0,0,0,0,1,0,0,0,0,0,0,0,0,0,0,1,0,0,0,0,0,0,0,0,0,0,0,0,0,1,0,0,0,0,0,0,0,0,0,0,0,0,0,0,0,0,0,1,0,1,0,0,0,0,0,0,1,0,0,0,0,0,0,0,1,0,1,0,0,1,0,0,0,0,0,0,0,1,0,0,0,0,0,0,0,0,0,1,0,0,1,0,0,0,1,0,0,0,0,1,0,0,0,1,0,0,0,0,0,0,0,0,0,0,0,0,0,0,0,0,0,0,0,0,0,0,0,0,0,1,1,0,1,0,0,0,0,1,0,0,0,0,0,0,0,0,0,1,0,0,0,0,0,0,0,0,0,0,0,0,0,0,0,0,0,1,0,1,0,0,0,0,0,0,0,0,0,0,0,0,0,0,0,0,0,0,0,0,0,0,0,0,0,0,0,0,1,1,0,0,0,1,0,0,0,0,0,0,0,0,0,0,0,0,0,0,1,0,0,1,1,0,0,0,0,1,0,0,0,0,0,1,0,1,0,0,1,0,1,0,0,0,0,0,1,0,0,0,0,0,0,0,0,0,0,0,0,0,0,0,0,0,0,0,0,1,0,0,0,0,0,0,0,0,0,0,0,0,1,0,0,0,0,0,0,0,0,0,0,0,0,0,1,0,0,0,1,0,0,0,0,0,1,0,0,0,0,0,0,0,0,0,0,0,1,0,0,0,0,0,0,0,0,0,0,0,0,0,0,1,0,0,0,0,0,0,0,1,0,0,1,0,0,0,0,0,0,0,0,0,0,0,1,0,0,0,0,0,0,0,0,0,0,0,0,0,0,0,0,0,0,0,0,0,0,0,0,0,0,0,0,0,0,0,0,0,0,0,0,0,0,0,0,0,0,0,1,0,0,0,0,0,0,0,1,0,0,0,0,0,0,0,0,0,0,0,0,0,0,0,0,0,0,0,0,0,1,0,1,0,0,0,0,0,0,1,1,1,0,0,0,0,0,0,0,1,0,0,0,0,1,0,0,0,0,0,0,0,0,0,0,0,0,1,0,0,0,0,0,0,0,0,0,0,0,0,0,0,0,0,0,0,0,0,0,0,0,0,0,0,0,0,0,0,0,0,0,0,0,0,0,1,0,0,0,0,0,1,1,0,1,0,0,0,0,0,0,0,0,0,0,0,0,0,0,0,0,0,0,0,0,1,0,0,0,0,0,0,0,0,0,1,0,0,0,0,0,0,0,0,0,0,0,0,0,0,0,0,1,0,0,0,0,0,0,0,1,0,0,0,0,0,0,0,0,0,0,0,0,0,0,0,0,0,1,0,0,0,0,1,0,0,0,0,0,0,0,0,0,0,0,0,0,0,0,0,1,0,0,0,0,1,1,0,0,0,0,0,0,0,0,0,0,0,0,0,0,0,0,0,0,0,1,0,0,0,0,0,0,0,0,0,0,1,0,0,0,0,0,0,0,0,0,0,0,0,0,1,0,0,1,0,0,0,0,0,0,1,0,0,0,0,0,1,0,0,0,0,0,1,0,0,0,0,0,0,0,0,0,0,0,0,0,0,0,0,0,0,0,0,0,0,0,0,0,0,1,0,0,0,1,0,0,0,0,0,0,0,1,0,0,1,0,0,1,0,0,0,0,0,0,1,0,0,0,0,0,0,0,0,0,0,0,0,0,0,0,0,0,0,0,0,0,0,0,0,0,0,1,0,1,0,0,1,0,0,1,0,0,1,0,0,0,1,0,0,0,0,0,0,0,0,0,0,0,1,0,0,0,0,0,0,0,0,0,0,0,1,0,1,0,0,0,0,0,0,0,0,0,0,0,1,0,0,0,0,0,0,0,0,0,0,1,0,0,0,0,0,1,0,0,1,0,0,1,0,0,0,0,0,0,0,0,0,0,0,0,0,0,1,0,0,0,0,1,0,0,0,0,0,1,1,0,0,0,0,0,0,0,0,0,1,0,0,1,0,0,0,0,0,0,1,0,0,1,0,0,0,1,1,0,0,0,0,0,1,0,1,0,0,0,0,0,0,0,0,0,0,0,0,0,0,0,0,0,0,1,0,0,0,1,0,0,0,0,0,0,0,0,0,0,0,0,0,0,0,0,1,0,0,0,0,0,0,0,0,1,1,0,0,1,0,0,0,0,0,0,0,0,0,0,0,0,0,0,0,0,1,1,0,0,0,0,0,0,1,0,0,1,0,0,0,0,0,1,0,0,0,0,0,0,0,0,0,0,0,0,0,1,0,0,0,0,0,1,0,0,1,0,1,0,1,0,0,1,0,0,1,0,0,0,1,0,0,0,0,1,1,0,0,0,1,1,1,0,0,0,0,0,0,0,1,1,1,0,0,0,0,0,0,0,0,0,1,0,0,0,0,0,0,1,0,0,0,0,0,1,0,0,0,0,0,0,0,0,0,1,0,0,0,0,0,0,0,0,1,0,0,0,0,0,0,0,0,1,0,0,0,0,0,0,0,0,0,0,1,0,0,0,1,0,0,0,1,0,0,0,1,0,0,0,0,0,0,1,0,0,0,0,0,0,0,0,1,0,0,0,0,1,0,0,0,0,0,0,0,0,0,0,0,0,0,0,0,0,0,0,0,0,1,0,0,1,0,0,0,0,0,0,0,0,0,0,0,0,0,0,0,0,0,0,0,0,0,1,0,0,0,0,0,0,0,0,0,0,0,0,1,0,0,0,0,0,0,0,0,0,0,0,1,0,0,0,0,0,0,0,0,1,0,0,0,0,0,0,1,0,0,0,0,0,1,0,0,0,0,0,0,0,0,0,0,1,1,0,0,0,0,0,1,0,0,0,0,0,0,0,0,0,1,0,0,0,0,0,0,0,0,0,1,0,0,0,0,0,1,0,0,0,0,0,0,0,0,0,0,1,0,0,1,0,0,0,0,0,0,0,0,1,0,0,0,0,0,0,1,1,0,0,0,0,0,0,0,0,0,0,0,0,0,0,0,0,0,0,0,0,0,1,0,0,0,1,0,0,0,0,1,0,0,0,0,0,0,0,0,0,0,0,0,0,0,0,0,1,0,0,0,0,1,0,0,0,0,0,0,0,0,0,1,1,0,0,0,0,0,0,0,1,1,0,1,0,0,0,0,0,0,0,0,0,0,0,1,0,0,1,0,1,0,0,0,0,0,1,0,0,0,0,0,1,0,0,0,0,0,0,0,0,0,0,0,1,0,1,0,0,0,0,0,0,0,0,0,0,1,0,0,0,0,1,1,0,0,0,1,0,1,0,0,0,0,0,0,0,0,0,0,0,0,0,0,0,0,0,0,0,0,0,0,0,0,0,0,1,0,0,0,0,0,0,0,0,0,0,0,0,0,0,0,0,0,0,0,0,0,0,0,0,0,0,0,0,0,0,0,0,1,0,0,0,0,0,0,0,0,0,0,0,0,0,1,0,0,0,0,0,0,1,0,1,0,0,0,0,0,0,0,0,0,0,0,0,0,1,0,0,0,0,1,0,0,0,0,1,0,0,0,0,0,0,0,0,0,0,0,0,0,0,0,0,0,0,1,0,0,0,0,0,1,0,0,0,0,0,0,0,0,0,0,0,0,1,1,1,0,0,0,0,1,0,0,0,0,0,0,0,0,0,1,0,1,0,0,0,0,0,0,0,0,0,0,0,0,0,1,0,0,1,0,0,0,0,1,0,0,1,0,0,0,0,0,0,0,0,0,0,0,0,0,0,0,0,0,0,0,0,0,0,0,1,0,0,0,0,0,0,0,0,0,0,0,0,0,0,0,1,0,0,0,0,0,0,0,0,0,0,0,0,0,0,0,0,0,0,1,0,0,0,0,0,1,1,1,0,0,0,0,0,0,0,0,0,0,0,1,0,0,0,0,0,0,0,0,0,1,0,0,0,0,0,0,0,0,0,1,0,0,0,1,0,0,0,0,0,0,0,0,0,0,0,0,0,0,0,0,0,1,0,0,0,0,1,0,0,0,0,0,0,0,0,0,0,0,1,1,0,0,0,0,0,0,0,0,0,0,0,0,0,1,0,0,0,0,0,0,0,0,0,0,0,0,0,0,1,0,0,0,1,0,1,0,0,1,0,0,0,0,0,0,0,0,1,0,0,0,0,0,0,1,0,0,0,0,0,0,0,1,0,1,0,0,0,0,1,0,1,0,0,1,0,0,0,0,0,1,0,0,0,0,0,0,0,1,0,0,0,0,1,0,0,0,0,0,0,0,0,0,0,0,0,0,0,0,0,1,0,0,0,0,0,0,0,0,0,0,0,0,0,0,0,0,1,0,0,0,0,0,0,0,0,0,0,0,0,0,0,0,0,0,0,0,0,0,0,0,0,0,0,0,0,0,0,0,0,1,0,0,0,0,0,0,0,0,0,0,0,0,0,1,0,0,0,0,0,0,0,0,0,0,0,0,0,0,0,0,1,0,0,0,0,0,0,0,0,0,0,0,0,0,1,0,0,1,0,0,0,0,1,0,0,0,0,0,0,0,0,1,0,0,0,0,0,0,0,0,0,0,1,0,1,0,1,0,0,1,0,1,0,0,0,0,0,0,0,0,0,0,0,0,0,0,0,0,0,0,0,0,0,0,0,0,0,1,0,0,0,0,0,0,0,1,0,0,0,0,0,0,0,0,1,0,0,0,0,0,0,0,0,0,0,0,0,0,0,0,0,0,1,0,0,0,0,0,0,0,0,0,0,1,0,0,0,0,0,0,0,0,0,0,0,1,0,0,0,0,0,0,1,0,0,0,0,0,0,0,0,0,0,0,0,0,0,0,0,0,0,0,0,0,0,0,0,0,1,1,0,0,0,1,0,0,0,0,0,0,0,0,1,0,1,0,0,0,0,0,0,0,0,0,1,0,0,0,0,0,0,0,0,1,0,0,0,0,0,0,0,0,0,0,0,0,0,0,0,1,0,0,1,0,0,0,1,0,0,0,0,0,0,0,1,0,0,0,0,0,0,0,1,0,0,0,0,0,0,0,0,0,0,0,0,0,0,0,0,0,0,0,0,0,0,0,0,0,0,0,1,0,0,0,0,1,0,0,0,0,0,0,0,0,0,0,0,1,0,0,0,0,1,0,0,0,0,0,0,1,0,0,0,0,0,0,0,0,0,0,0,0,0,0,0,0,0,1,0,0,0,0,0,1,0,1,0,0,1,0,0,0,0,0,1,0,1,0,0,0,1,1,0,0,0,0,1,0,0,1,1,0,0,0,0,1,1,0,0,0,0,1,1,0,0,0,0,0,0,0,0,0,0,0,0,0,1,0,0,1,0,0,1,0,0,0,0,1,0,0,0,0,0,0,0,0,0,0,0,0,0,0,0,0,0,0,0,0,0,0,0,0,0,0,1,0,0,0,1,0,1,0,0,0,1,0,0,0,0,0,0,0,0,0,0,0,0,0,1,0,0,0,0,0,0,0,0,0,0,0,0,0,0,0,0,0,0,0,0,0,0,0,0,0,0,0,1,0,0,0,0,1,1,0,1,0,0,0,1,0,0,0,0,0,0,1,0,0,1,0,0,0,0,0,1,0,0,0,0,0,0,0,0,0,0,0,0,0,0,0,0,0,0,0,0,0,0,1,0,0,0,0,0,0,0,1,1,0,0,1,0,0,0,0,0,0,0,0,0,0,0,0,0,0,0,0,0,1,0,1,0,0,0,0,0,0,0,0,0,0,0,0,0,0,0,1,0,1,1,0,0,0,1,0,0,0,0,0,0,0,0,1,0,0,0,0,0,0,0,0,1,0,0,0,1,0,0,1,1,0,0,1,0,0,0,0,0,0,1,0,0,0,0,0,0,0,0,0,0,1,0,0,0,0,0,0,0,0,0,1,0,0,0,0,0,0,0,0,0,0,0,0,0,1,0,0,0,0,0,0,0,0,0,0,0,0,0,0,0,0,0,0,1,0,0,1,0,0,1,0,0,0,0,1,0,0,0,0,0,0,0,0,0,0,0,0,1,0,0,1,0,0,0,0,1,0,0,0,0,0,0,0,0,0,0,0,0,0,1,0,0,0,1,0,0,0,0,0,0,0,0,0,0,0,0,1,0,1,0,0,0,0,0,0,0,0,0,0,0,0,0,0,0,0,0,0,0,0,0,0,0,0,0,1,0,0,0,1,0,0,0,0,1,0,0,0,0,0,1,0,0,0,1,0,0,0,0,1,0,0,0,0,0,0,0,0,0,0,1,0,0,0,0,0,0,0,1,0,0,0,0,0,0,0,0,0,0,0,0,0,1,0,0,0,0,1,0,1,0,1,0,0,0,0,0,0,1,0,0,0,0,0,0,0,0,0,0,0,0,0,0,0,1,0,0,0,0,0,0,0,0,0,1,0,0,0,0,0,0,0,0,0,0,0,0,0,1,0,0,0,0,0,0,0,0,1,0,0,0,0,1,0,0,0,0,0,0,0,1,0,1,0,0,0,1,0,1,0,0,0,0,0,0,0,0,0,1,0,0,0,0,0,0,0,0,0,0,0,0,0,0,0,0,0,0,0,0,0,1,0,0,0,0,0,0,0,1,0,0,0,0,0,0,0,0,0,0,0,0,0,0,1,0,1,0,0,0,1,0,0,0,1,1,0,0,0,0,0,0,0,0,0,0,0,0,0,0,1,0,1,0,0,0,0,0,1,0,0,1,0,0,0,0,0,0,0,0,0,0,0,1,0,0,0,0,0,0,0,0,0,0,1,0,0,1,0,0,0,0,1,1,0,0,0,0,0,0,0,0,0,0,0,0,0,1,0,0,0,1,0,1,0,0,0,0,0,0,0,0,0,0,0,0,0,1,0,0,0,0,0,0,0,0,0,0,0,0,1,0,0,0,0,0,0,0,1,0,0,0,0,0,0,0,0,0,0,0,0,0,0,0,0,0,0,0,0,0,0,0,0,0,0,0,0,0,0,0,1,0,0,0,0,1,0,0,0,0,0,0,0,0,0,0,1,0,0,0,0,0,0,0,1,1,1,0,0,0,0,0,0,0,0,0,1,1,0,0,0,0,0,0,0,0,0,0,0,0,0,0,0,1,0,1,0,0,0,0,1,0,0,0,0,0,0,0,0,0,0,0,0,1,0,0,0,0,0,1,0,0,0,0,0,0,0,0,0,0,0,0,0,1,0,0,0,1,0,0,0,0,1,0,0,0,0,0,1,0,0,0,0,0,0,0,1,0,0,0,0,0,0,1,0,0,0,0,1,0,0,1,0,0,0,0,0,0,0,0,0,0,0,0,0,1,0,0,0,1,0,0,0,0,0,0,1,0,0,0,0,0,0,0,0,0,0,0,0,0,0,0,0,0,0,0,0,0,0,0,0,0,0,0,0,1,0,0,1,0,0,0,0,0,0,0,0,0,0,0,0,0,0,0,0,0,0,0,0,0,0,0,0,0,0,0,0,0,0,0,0,0,0,0,0,0,1,0,0,0,0,0,0,0,0,1,0,0,0,1,0,0,0,0,0,0,0,0,0,0,0,0,0,0,0,0,0,0,0,0,0,1,0,0,0,0,0,0,0,0,0,0,0,0,0,0,0,0,0,0,0,0,0,0,0,0,0,0,0,0,0,0,0,0,0,0,0,0,0,0,0,0,0,0,0,0,0,0,0,0,0,0,0,0,0,0,0,0,0,0,0,1,0,1,0,0,0,0,0,1,0,0,0,0,1,0,0,0,0,0,0,0,0,0,0,1,0,0,0,0,0,0,0,0,0,0,0,0,0,0,0,1,0,0,0,0,0,0,1,0,0,0,0,0,0,0,0,1,0,0,0,0,1,0,0,0,1,1,0,0,0,0,0,0,0,0,0,1,0,0,0,0,0,1,0,0,0,0,1,0,0,0,0,1,0,0,0,0,0,0,0,0,0,0,0,0,0,0,0,0,0,0,0,0,0,1,0,0,0,0,1,0,0,1,0,0,0,0,1,0,0,0,0,0,0,1,0,0,0,0,0,1,1,1,0,0,0,0,0,1,1,0,0,0,0,0,0,0,0,0,0,0,0,0,0,0,0,0,1,0,1,0,0,0,0,0,1,0,1,0,0,0,0,0,0,0,0,0,0,0,0,0,0,0,1,0,0,1,0,1,0,1,0,0,0,0,0,0,0,0,0,1,0,1,0,0,0,0,0,0,0,0,0,0,0,0,0,0,1,0,0,0,0,0,0,0,0,0,0,0,0,1,1,0,0,0,1,1,0,0,0,0,1,0,0,0,0,0,0,0,0,0,0,0,0,0,1,0,0,0,0,0,0,0,0,1,0,1,0,0,0,0,0,0,0,0,0,0,0,0,0,0,0,0,0,0,0,0,0,0,0,0,0,1,0,0,0,0,0,0,0,1,0,0,0,0,1,0,0,0,0,0,0,1,1,0,0,1,1,1,0,0,1,0,0,1,0,0,1,0,0,0,0,0,0,0,0,0,0,0,0,0,0,0,0,0,1,0,0,1,0,0,1,0,0,0,0,0,0,0,1,1,0,1,1,0,0,0,0,0,1,0,0,0,0,0,0,1,0,0,0,0,0,0,0,0,1,0,0,0,0,0,0,1,0,0,0,0,0,0,0,1,1,0,0,0,1,0,1,0,0,0,1,0,0,0,0,0,0,0,0,0,0,0,0,0,0,0,0,0,1,0,0,0,0,0,0,0,0,0,0,0,0,0,0,0,0,0,0,0,0,0,1,0,0,1,0,0,1,0,0,0,0,0,0,0,0,0,1,0,0,0,0,0,0,0,1,0,0,0,0,0,0,0,0,0,0,0,0,0,0,0,0,0,0,0,0,0,1,0,0,0,0,0,0,0,1,0,0,0,0,0,0,0,0,0,0,0,0,0,0,0,0,0,0,0,0,0,0,0,0,0,0,1,0,0,0,1,0,0,0,0,0,0,0,0,0,0,0,0,0,1,0,1,0,0,0,1,0,0,0,0,0,0,0,0,0,0,0,0,1,0,0,0,0,0,1,0,1,0,0,0,0,0,0,0,0,0,0,0,0,1,0,1,0,0,0,0,0,0,0,0,0,0,0,1,0,0,0,0,1,0,0,0,0,0,0,0,0,0,0,0,1,0,0,0,0,0,0,0,0,0,0,0,0,1,1,0,0,0,1,0,0,0,0,0,0,0,0,0,0,0,0,0,0,1,0,1,0,0,0,0,0,0,0,0,0,0,0,1,0,0,0,0,1,0,1,0,0,0,0,0,1,0,0,0,1,0,0,0,0,0,0,0,0,1,0,1,0,0,0,0,0,1,0,0,1,0,1,0,0,0,0,0,0,0,0,0,0,0,0,0,0,0,0,0,0,0,0,0,1,0,0,1,1,0,1,0,0,0,0,0,0,0,0,0,0,1,0,0,0,0,0,0,0,0,0,0,1,0,1,0,0,0,0,0,0,0,0,0,0,0,0,0,0,0,1,0,1,0,0,0,0,1,0,0,0,0,0,0,0,0,1,0,0,1,1,0,0,0,0,0,0,0,0,0,1,0,0,0,0,0,0,0,0,0,0,0,0,0,0,0,0,0,0,0,0,0,0,0,0,0,0,1,0,0,0,0,0,0,0,0,1,0,0,0,0,0,0,0,0,0,0,0,1,0,0,0,0,0,0,0,0,0,0,0,0,0,0,0,0,0,0,0,0,0,1,0,1,0,0,1,0,0,0,0,0,0,0,0,0,1,0,0,0,0,0,0,0,0,0,0,0,0,0,0,0,0,0,0,0,0,0,0,0,0,0,0,0,0,0,1,0,0,0,0,0,0,0,0,0,0,0,0,0,0,0,0,0,0,0,0,0,1,0,0,0,0,0,0,1,0,0,0,0,0,1,0,0,0,0,0,0,0,0,0,0,1,0,0,0,1,0,0,0,0,0,1,1,1,0,0,0,0,0,0,1,0,0,0,0,0,0,0,0,0,0,0,0,0,0,0,1,0,0,1,0,0,0,0,0,0,0,0,0,0,1,0,0,0,0,0,0,1,0,0,0,0,0,0,0,0,0,0,0,1,1,0,0,0,0,0,0,0,0,0,0,0,0,0,0,1,0,0,1,0,1,0,0,0,0,1,0,1,0,0,1,0,0,0,0,0,0,0,0,1,0,0,0,0,0,0,0,0,0,0,1,0,0,0,0,0,0,0,0,0,0,0,0,0,0,0,0,0,0,1,0,0,0,0,0,0,0,0,0,0,0,0,0,0,0,0,0,0,0,0,0,1,0,0,0,0,0,0,1,0,0,0,0,0,0,0,1,1,0,0,0,0,0,0,0,0,0,0,0,0,0,0,0,1,0,0,0,0,0,0,0,0,0,0,0,0,0,0,0,0,0,0,0,0,0,0,0,0,0,0,1,0,0,0,0,0,0,0,0,0,0,0,0,1,0,0,0,0,0,0,0,0,0,0,0,0,0,0,0,0,0,0,0,0,0,0,0,0,0,0,0,0,0,0,0,0,0,0,0,0,0,1,0,1,0,0,0,0,0,0,0,0,0,0,1,0,0,0,0,0,0,0,0,0,0,0,1,0,0,0,0,0,0,0,1,0,0,0,0,0,0,0,0,0,0,0,1,0,0,0,0,0,0,0,0,1,0,0,1,0,0,0,0,0,0,0,0,0,0,0,0,0,0,0,0,0,1,0,0,0,0,0,1,0,0,0,0,0,0,0,1,0,0,0,0,0,0,0,1,0,0,0,0,0,0,0,0,0,0,0,0,0,0,0,0,0,0,0,0,0,0,0,1,1,0,0,0,0,0,0,0,0,0,0,1,0,0,0,0,0,0,0,1,0,0,0,1,0,0,1,0,0,0,0,0,0,0,0],\"legendgroup\":\"\",\"name\":\"\",\"showlegend\":true,\"type\":\"pie\"}],                        {\"template\":{\"data\":{\"histogram2dcontour\":[{\"type\":\"histogram2dcontour\",\"colorbar\":{\"outlinewidth\":0,\"ticks\":\"\"},\"colorscale\":[[0.0,\"#0d0887\"],[0.1111111111111111,\"#46039f\"],[0.2222222222222222,\"#7201a8\"],[0.3333333333333333,\"#9c179e\"],[0.4444444444444444,\"#bd3786\"],[0.5555555555555556,\"#d8576b\"],[0.6666666666666666,\"#ed7953\"],[0.7777777777777778,\"#fb9f3a\"],[0.8888888888888888,\"#fdca26\"],[1.0,\"#f0f921\"]]}],\"choropleth\":[{\"type\":\"choropleth\",\"colorbar\":{\"outlinewidth\":0,\"ticks\":\"\"}}],\"histogram2d\":[{\"type\":\"histogram2d\",\"colorbar\":{\"outlinewidth\":0,\"ticks\":\"\"},\"colorscale\":[[0.0,\"#0d0887\"],[0.1111111111111111,\"#46039f\"],[0.2222222222222222,\"#7201a8\"],[0.3333333333333333,\"#9c179e\"],[0.4444444444444444,\"#bd3786\"],[0.5555555555555556,\"#d8576b\"],[0.6666666666666666,\"#ed7953\"],[0.7777777777777778,\"#fb9f3a\"],[0.8888888888888888,\"#fdca26\"],[1.0,\"#f0f921\"]]}],\"heatmap\":[{\"type\":\"heatmap\",\"colorbar\":{\"outlinewidth\":0,\"ticks\":\"\"},\"colorscale\":[[0.0,\"#0d0887\"],[0.1111111111111111,\"#46039f\"],[0.2222222222222222,\"#7201a8\"],[0.3333333333333333,\"#9c179e\"],[0.4444444444444444,\"#bd3786\"],[0.5555555555555556,\"#d8576b\"],[0.6666666666666666,\"#ed7953\"],[0.7777777777777778,\"#fb9f3a\"],[0.8888888888888888,\"#fdca26\"],[1.0,\"#f0f921\"]]}],\"heatmapgl\":[{\"type\":\"heatmapgl\",\"colorbar\":{\"outlinewidth\":0,\"ticks\":\"\"},\"colorscale\":[[0.0,\"#0d0887\"],[0.1111111111111111,\"#46039f\"],[0.2222222222222222,\"#7201a8\"],[0.3333333333333333,\"#9c179e\"],[0.4444444444444444,\"#bd3786\"],[0.5555555555555556,\"#d8576b\"],[0.6666666666666666,\"#ed7953\"],[0.7777777777777778,\"#fb9f3a\"],[0.8888888888888888,\"#fdca26\"],[1.0,\"#f0f921\"]]}],\"contourcarpet\":[{\"type\":\"contourcarpet\",\"colorbar\":{\"outlinewidth\":0,\"ticks\":\"\"}}],\"contour\":[{\"type\":\"contour\",\"colorbar\":{\"outlinewidth\":0,\"ticks\":\"\"},\"colorscale\":[[0.0,\"#0d0887\"],[0.1111111111111111,\"#46039f\"],[0.2222222222222222,\"#7201a8\"],[0.3333333333333333,\"#9c179e\"],[0.4444444444444444,\"#bd3786\"],[0.5555555555555556,\"#d8576b\"],[0.6666666666666666,\"#ed7953\"],[0.7777777777777778,\"#fb9f3a\"],[0.8888888888888888,\"#fdca26\"],[1.0,\"#f0f921\"]]}],\"surface\":[{\"type\":\"surface\",\"colorbar\":{\"outlinewidth\":0,\"ticks\":\"\"},\"colorscale\":[[0.0,\"#0d0887\"],[0.1111111111111111,\"#46039f\"],[0.2222222222222222,\"#7201a8\"],[0.3333333333333333,\"#9c179e\"],[0.4444444444444444,\"#bd3786\"],[0.5555555555555556,\"#d8576b\"],[0.6666666666666666,\"#ed7953\"],[0.7777777777777778,\"#fb9f3a\"],[0.8888888888888888,\"#fdca26\"],[1.0,\"#f0f921\"]]}],\"mesh3d\":[{\"type\":\"mesh3d\",\"colorbar\":{\"outlinewidth\":0,\"ticks\":\"\"}}],\"scatter\":[{\"fillpattern\":{\"fillmode\":\"overlay\",\"size\":10,\"solidity\":0.2},\"type\":\"scatter\"}],\"parcoords\":[{\"type\":\"parcoords\",\"line\":{\"colorbar\":{\"outlinewidth\":0,\"ticks\":\"\"}}}],\"scatterpolargl\":[{\"type\":\"scatterpolargl\",\"marker\":{\"colorbar\":{\"outlinewidth\":0,\"ticks\":\"\"}}}],\"bar\":[{\"error_x\":{\"color\":\"#2a3f5f\"},\"error_y\":{\"color\":\"#2a3f5f\"},\"marker\":{\"line\":{\"color\":\"#E5ECF6\",\"width\":0.5},\"pattern\":{\"fillmode\":\"overlay\",\"size\":10,\"solidity\":0.2}},\"type\":\"bar\"}],\"scattergeo\":[{\"type\":\"scattergeo\",\"marker\":{\"colorbar\":{\"outlinewidth\":0,\"ticks\":\"\"}}}],\"scatterpolar\":[{\"type\":\"scatterpolar\",\"marker\":{\"colorbar\":{\"outlinewidth\":0,\"ticks\":\"\"}}}],\"histogram\":[{\"marker\":{\"pattern\":{\"fillmode\":\"overlay\",\"size\":10,\"solidity\":0.2}},\"type\":\"histogram\"}],\"scattergl\":[{\"type\":\"scattergl\",\"marker\":{\"colorbar\":{\"outlinewidth\":0,\"ticks\":\"\"}}}],\"scatter3d\":[{\"type\":\"scatter3d\",\"line\":{\"colorbar\":{\"outlinewidth\":0,\"ticks\":\"\"}},\"marker\":{\"colorbar\":{\"outlinewidth\":0,\"ticks\":\"\"}}}],\"scattermapbox\":[{\"type\":\"scattermapbox\",\"marker\":{\"colorbar\":{\"outlinewidth\":0,\"ticks\":\"\"}}}],\"scatterternary\":[{\"type\":\"scatterternary\",\"marker\":{\"colorbar\":{\"outlinewidth\":0,\"ticks\":\"\"}}}],\"scattercarpet\":[{\"type\":\"scattercarpet\",\"marker\":{\"colorbar\":{\"outlinewidth\":0,\"ticks\":\"\"}}}],\"carpet\":[{\"aaxis\":{\"endlinecolor\":\"#2a3f5f\",\"gridcolor\":\"white\",\"linecolor\":\"white\",\"minorgridcolor\":\"white\",\"startlinecolor\":\"#2a3f5f\"},\"baxis\":{\"endlinecolor\":\"#2a3f5f\",\"gridcolor\":\"white\",\"linecolor\":\"white\",\"minorgridcolor\":\"white\",\"startlinecolor\":\"#2a3f5f\"},\"type\":\"carpet\"}],\"table\":[{\"cells\":{\"fill\":{\"color\":\"#EBF0F8\"},\"line\":{\"color\":\"white\"}},\"header\":{\"fill\":{\"color\":\"#C8D4E3\"},\"line\":{\"color\":\"white\"}},\"type\":\"table\"}],\"barpolar\":[{\"marker\":{\"line\":{\"color\":\"#E5ECF6\",\"width\":0.5},\"pattern\":{\"fillmode\":\"overlay\",\"size\":10,\"solidity\":0.2}},\"type\":\"barpolar\"}],\"pie\":[{\"automargin\":true,\"type\":\"pie\"}]},\"layout\":{\"autotypenumbers\":\"strict\",\"colorway\":[\"#636efa\",\"#EF553B\",\"#00cc96\",\"#ab63fa\",\"#FFA15A\",\"#19d3f3\",\"#FF6692\",\"#B6E880\",\"#FF97FF\",\"#FECB52\"],\"font\":{\"color\":\"#2a3f5f\"},\"hovermode\":\"closest\",\"hoverlabel\":{\"align\":\"left\"},\"paper_bgcolor\":\"white\",\"plot_bgcolor\":\"#E5ECF6\",\"polar\":{\"bgcolor\":\"#E5ECF6\",\"angularaxis\":{\"gridcolor\":\"white\",\"linecolor\":\"white\",\"ticks\":\"\"},\"radialaxis\":{\"gridcolor\":\"white\",\"linecolor\":\"white\",\"ticks\":\"\"}},\"ternary\":{\"bgcolor\":\"#E5ECF6\",\"aaxis\":{\"gridcolor\":\"white\",\"linecolor\":\"white\",\"ticks\":\"\"},\"baxis\":{\"gridcolor\":\"white\",\"linecolor\":\"white\",\"ticks\":\"\"},\"caxis\":{\"gridcolor\":\"white\",\"linecolor\":\"white\",\"ticks\":\"\"}},\"coloraxis\":{\"colorbar\":{\"outlinewidth\":0,\"ticks\":\"\"}},\"colorscale\":{\"sequential\":[[0.0,\"#0d0887\"],[0.1111111111111111,\"#46039f\"],[0.2222222222222222,\"#7201a8\"],[0.3333333333333333,\"#9c179e\"],[0.4444444444444444,\"#bd3786\"],[0.5555555555555556,\"#d8576b\"],[0.6666666666666666,\"#ed7953\"],[0.7777777777777778,\"#fb9f3a\"],[0.8888888888888888,\"#fdca26\"],[1.0,\"#f0f921\"]],\"sequentialminus\":[[0.0,\"#0d0887\"],[0.1111111111111111,\"#46039f\"],[0.2222222222222222,\"#7201a8\"],[0.3333333333333333,\"#9c179e\"],[0.4444444444444444,\"#bd3786\"],[0.5555555555555556,\"#d8576b\"],[0.6666666666666666,\"#ed7953\"],[0.7777777777777778,\"#fb9f3a\"],[0.8888888888888888,\"#fdca26\"],[1.0,\"#f0f921\"]],\"diverging\":[[0,\"#8e0152\"],[0.1,\"#c51b7d\"],[0.2,\"#de77ae\"],[0.3,\"#f1b6da\"],[0.4,\"#fde0ef\"],[0.5,\"#f7f7f7\"],[0.6,\"#e6f5d0\"],[0.7,\"#b8e186\"],[0.8,\"#7fbc41\"],[0.9,\"#4d9221\"],[1,\"#276419\"]]},\"xaxis\":{\"gridcolor\":\"white\",\"linecolor\":\"white\",\"ticks\":\"\",\"title\":{\"standoff\":15},\"zerolinecolor\":\"white\",\"automargin\":true,\"zerolinewidth\":2},\"yaxis\":{\"gridcolor\":\"white\",\"linecolor\":\"white\",\"ticks\":\"\",\"title\":{\"standoff\":15},\"zerolinecolor\":\"white\",\"automargin\":true,\"zerolinewidth\":2},\"scene\":{\"xaxis\":{\"backgroundcolor\":\"#E5ECF6\",\"gridcolor\":\"white\",\"linecolor\":\"white\",\"showbackground\":true,\"ticks\":\"\",\"zerolinecolor\":\"white\",\"gridwidth\":2},\"yaxis\":{\"backgroundcolor\":\"#E5ECF6\",\"gridcolor\":\"white\",\"linecolor\":\"white\",\"showbackground\":true,\"ticks\":\"\",\"zerolinecolor\":\"white\",\"gridwidth\":2},\"zaxis\":{\"backgroundcolor\":\"#E5ECF6\",\"gridcolor\":\"white\",\"linecolor\":\"white\",\"showbackground\":true,\"ticks\":\"\",\"zerolinecolor\":\"white\",\"gridwidth\":2}},\"shapedefaults\":{\"line\":{\"color\":\"#2a3f5f\"}},\"annotationdefaults\":{\"arrowcolor\":\"#2a3f5f\",\"arrowhead\":0,\"arrowwidth\":1},\"geo\":{\"bgcolor\":\"white\",\"landcolor\":\"#E5ECF6\",\"subunitcolor\":\"white\",\"showland\":true,\"showlakes\":true,\"lakecolor\":\"white\"},\"title\":{\"x\":0.05},\"mapbox\":{\"style\":\"light\"}}},\"legend\":{\"tracegroupgap\":0},\"title\":{\"text\":\"Distribution of Transmission Types\"}},                        {\"responsive\": true}                    ).then(function(){\n",
              "                            \n",
              "var gd = document.getElementById('d5c42b71-521a-4cb4-ad64-38ca5fb7c380');\n",
              "var x = new MutationObserver(function (mutations, observer) {{\n",
              "        var display = window.getComputedStyle(gd).display;\n",
              "        if (!display || display === 'none') {{\n",
              "            console.log([gd, 'removed!']);\n",
              "            Plotly.purge(gd);\n",
              "            observer.disconnect();\n",
              "        }}\n",
              "}});\n",
              "\n",
              "// Listen for the removal of the full notebook cells\n",
              "var notebookContainer = gd.closest('#notebook-container');\n",
              "if (notebookContainer) {{\n",
              "    x.observe(notebookContainer, {childList: true});\n",
              "}}\n",
              "\n",
              "// Listen for the clearing of the current output cell\n",
              "var outputEl = gd.closest('.output');\n",
              "if (outputEl) {{\n",
              "    x.observe(outputEl, {childList: true});\n",
              "}}\n",
              "\n",
              "                        })                };                            </script>        </div>\n",
              "</body>\n",
              "</html>"
            ]
          },
          "metadata": {}
        }
      ]
    },
    {
      "cell_type": "code",
      "source": [
        "df.groupby('Seats').mean(numeric_only=True)"
      ],
      "metadata": {
        "colab": {
          "base_uri": "https://localhost:8080/",
          "height": 457
        },
        "id": "tE4UacdR4Moi",
        "outputId": "d33e1dc8-72d9-4a27-f20f-72639d9d9159"
      },
      "execution_count": null,
      "outputs": [
        {
          "output_type": "execute_result",
          "data": {
            "text/plain": [
              "       UsedOrNew  Transmission  FuelConsumption  Kilometres  \\\n",
              "Seats                                                         \n",
              "0       1.000000      1.000000         0.000000    0.460846   \n",
              "1       1.000000      0.000000        98.000000    0.110123   \n",
              "2       1.000000      0.090909        63.363636    0.421966   \n",
              "3       1.005758      0.393474        90.191939    0.248715   \n",
              "4       1.000000      0.000000         0.000000    0.007300   \n",
              "5       1.012931      0.568966        85.956897    0.337191   \n",
              "6       1.001650      0.239274       107.321782    0.173849   \n",
              "7       1.001811      0.103974       114.583246    0.181548   \n",
              "8       0.952381      0.476190        94.428571    0.415404   \n",
              "9       1.008808      0.021726       110.562537    0.201502   \n",
              "10      0.988281      0.042969        70.695312    0.289256   \n",
              "11      1.000000      0.000000        96.000000    0.289396   \n",
              "\n",
              "       CylindersinEngine     Doors     Price       age  \n",
              "Seats                                                   \n",
              "0               6.000000  0.000000  0.055753  0.496296  \n",
              "1               4.000000  1.000000  0.113198  0.081481  \n",
              "2               4.000000  1.000000  0.050181  0.280808  \n",
              "3               4.692898  0.447217  0.064751  0.181489  \n",
              "4               4.000000  1.000000  0.239923  0.022222  \n",
              "5               4.422414  0.905172  0.043913  0.221743  \n",
              "6               4.646865  0.627063  0.069976  0.174771  \n",
              "7               4.317259  2.206233  0.050052  0.148232  \n",
              "8               4.761905  1.809524  0.039538  0.286772  \n",
              "9               4.624193  2.015854  0.062544  0.141332  \n",
              "10              5.214844  2.000000  0.057930  0.202083  \n",
              "11              4.000000  2.000000  0.053194  0.162963  "
            ],
            "text/html": [
              "\n",
              "  <div id=\"df-b66c3a0e-69b9-466b-9e6f-6d86c7fcbdcf\" class=\"colab-df-container\">\n",
              "    <div>\n",
              "<style scoped>\n",
              "    .dataframe tbody tr th:only-of-type {\n",
              "        vertical-align: middle;\n",
              "    }\n",
              "\n",
              "    .dataframe tbody tr th {\n",
              "        vertical-align: top;\n",
              "    }\n",
              "\n",
              "    .dataframe thead th {\n",
              "        text-align: right;\n",
              "    }\n",
              "</style>\n",
              "<table border=\"1\" class=\"dataframe\">\n",
              "  <thead>\n",
              "    <tr style=\"text-align: right;\">\n",
              "      <th></th>\n",
              "      <th>UsedOrNew</th>\n",
              "      <th>Transmission</th>\n",
              "      <th>FuelConsumption</th>\n",
              "      <th>Kilometres</th>\n",
              "      <th>CylindersinEngine</th>\n",
              "      <th>Doors</th>\n",
              "      <th>Price</th>\n",
              "      <th>age</th>\n",
              "    </tr>\n",
              "    <tr>\n",
              "      <th>Seats</th>\n",
              "      <th></th>\n",
              "      <th></th>\n",
              "      <th></th>\n",
              "      <th></th>\n",
              "      <th></th>\n",
              "      <th></th>\n",
              "      <th></th>\n",
              "      <th></th>\n",
              "    </tr>\n",
              "  </thead>\n",
              "  <tbody>\n",
              "    <tr>\n",
              "      <th>0</th>\n",
              "      <td>1.000000</td>\n",
              "      <td>1.000000</td>\n",
              "      <td>0.000000</td>\n",
              "      <td>0.460846</td>\n",
              "      <td>6.000000</td>\n",
              "      <td>0.000000</td>\n",
              "      <td>0.055753</td>\n",
              "      <td>0.496296</td>\n",
              "    </tr>\n",
              "    <tr>\n",
              "      <th>1</th>\n",
              "      <td>1.000000</td>\n",
              "      <td>0.000000</td>\n",
              "      <td>98.000000</td>\n",
              "      <td>0.110123</td>\n",
              "      <td>4.000000</td>\n",
              "      <td>1.000000</td>\n",
              "      <td>0.113198</td>\n",
              "      <td>0.081481</td>\n",
              "    </tr>\n",
              "    <tr>\n",
              "      <th>2</th>\n",
              "      <td>1.000000</td>\n",
              "      <td>0.090909</td>\n",
              "      <td>63.363636</td>\n",
              "      <td>0.421966</td>\n",
              "      <td>4.000000</td>\n",
              "      <td>1.000000</td>\n",
              "      <td>0.050181</td>\n",
              "      <td>0.280808</td>\n",
              "    </tr>\n",
              "    <tr>\n",
              "      <th>3</th>\n",
              "      <td>1.005758</td>\n",
              "      <td>0.393474</td>\n",
              "      <td>90.191939</td>\n",
              "      <td>0.248715</td>\n",
              "      <td>4.692898</td>\n",
              "      <td>0.447217</td>\n",
              "      <td>0.064751</td>\n",
              "      <td>0.181489</td>\n",
              "    </tr>\n",
              "    <tr>\n",
              "      <th>4</th>\n",
              "      <td>1.000000</td>\n",
              "      <td>0.000000</td>\n",
              "      <td>0.000000</td>\n",
              "      <td>0.007300</td>\n",
              "      <td>4.000000</td>\n",
              "      <td>1.000000</td>\n",
              "      <td>0.239923</td>\n",
              "      <td>0.022222</td>\n",
              "    </tr>\n",
              "    <tr>\n",
              "      <th>5</th>\n",
              "      <td>1.012931</td>\n",
              "      <td>0.568966</td>\n",
              "      <td>85.956897</td>\n",
              "      <td>0.337191</td>\n",
              "      <td>4.422414</td>\n",
              "      <td>0.905172</td>\n",
              "      <td>0.043913</td>\n",
              "      <td>0.221743</td>\n",
              "    </tr>\n",
              "    <tr>\n",
              "      <th>6</th>\n",
              "      <td>1.001650</td>\n",
              "      <td>0.239274</td>\n",
              "      <td>107.321782</td>\n",
              "      <td>0.173849</td>\n",
              "      <td>4.646865</td>\n",
              "      <td>0.627063</td>\n",
              "      <td>0.069976</td>\n",
              "      <td>0.174771</td>\n",
              "    </tr>\n",
              "    <tr>\n",
              "      <th>7</th>\n",
              "      <td>1.001811</td>\n",
              "      <td>0.103974</td>\n",
              "      <td>114.583246</td>\n",
              "      <td>0.181548</td>\n",
              "      <td>4.317259</td>\n",
              "      <td>2.206233</td>\n",
              "      <td>0.050052</td>\n",
              "      <td>0.148232</td>\n",
              "    </tr>\n",
              "    <tr>\n",
              "      <th>8</th>\n",
              "      <td>0.952381</td>\n",
              "      <td>0.476190</td>\n",
              "      <td>94.428571</td>\n",
              "      <td>0.415404</td>\n",
              "      <td>4.761905</td>\n",
              "      <td>1.809524</td>\n",
              "      <td>0.039538</td>\n",
              "      <td>0.286772</td>\n",
              "    </tr>\n",
              "    <tr>\n",
              "      <th>9</th>\n",
              "      <td>1.008808</td>\n",
              "      <td>0.021726</td>\n",
              "      <td>110.562537</td>\n",
              "      <td>0.201502</td>\n",
              "      <td>4.624193</td>\n",
              "      <td>2.015854</td>\n",
              "      <td>0.062544</td>\n",
              "      <td>0.141332</td>\n",
              "    </tr>\n",
              "    <tr>\n",
              "      <th>10</th>\n",
              "      <td>0.988281</td>\n",
              "      <td>0.042969</td>\n",
              "      <td>70.695312</td>\n",
              "      <td>0.289256</td>\n",
              "      <td>5.214844</td>\n",
              "      <td>2.000000</td>\n",
              "      <td>0.057930</td>\n",
              "      <td>0.202083</td>\n",
              "    </tr>\n",
              "    <tr>\n",
              "      <th>11</th>\n",
              "      <td>1.000000</td>\n",
              "      <td>0.000000</td>\n",
              "      <td>96.000000</td>\n",
              "      <td>0.289396</td>\n",
              "      <td>4.000000</td>\n",
              "      <td>2.000000</td>\n",
              "      <td>0.053194</td>\n",
              "      <td>0.162963</td>\n",
              "    </tr>\n",
              "  </tbody>\n",
              "</table>\n",
              "</div>\n",
              "    <div class=\"colab-df-buttons\">\n",
              "\n",
              "  <div class=\"colab-df-container\">\n",
              "    <button class=\"colab-df-convert\" onclick=\"convertToInteractive('df-b66c3a0e-69b9-466b-9e6f-6d86c7fcbdcf')\"\n",
              "            title=\"Convert this dataframe to an interactive table.\"\n",
              "            style=\"display:none;\">\n",
              "\n",
              "  <svg xmlns=\"http://www.w3.org/2000/svg\" height=\"24px\" viewBox=\"0 -960 960 960\">\n",
              "    <path d=\"M120-120v-720h720v720H120Zm60-500h600v-160H180v160Zm220 220h160v-160H400v160Zm0 220h160v-160H400v160ZM180-400h160v-160H180v160Zm440 0h160v-160H620v160ZM180-180h160v-160H180v160Zm440 0h160v-160H620v160Z\"/>\n",
              "  </svg>\n",
              "    </button>\n",
              "\n",
              "  <style>\n",
              "    .colab-df-container {\n",
              "      display:flex;\n",
              "      gap: 12px;\n",
              "    }\n",
              "\n",
              "    .colab-df-convert {\n",
              "      background-color: #E8F0FE;\n",
              "      border: none;\n",
              "      border-radius: 50%;\n",
              "      cursor: pointer;\n",
              "      display: none;\n",
              "      fill: #1967D2;\n",
              "      height: 32px;\n",
              "      padding: 0 0 0 0;\n",
              "      width: 32px;\n",
              "    }\n",
              "\n",
              "    .colab-df-convert:hover {\n",
              "      background-color: #E2EBFA;\n",
              "      box-shadow: 0px 1px 2px rgba(60, 64, 67, 0.3), 0px 1px 3px 1px rgba(60, 64, 67, 0.15);\n",
              "      fill: #174EA6;\n",
              "    }\n",
              "\n",
              "    .colab-df-buttons div {\n",
              "      margin-bottom: 4px;\n",
              "    }\n",
              "\n",
              "    [theme=dark] .colab-df-convert {\n",
              "      background-color: #3B4455;\n",
              "      fill: #D2E3FC;\n",
              "    }\n",
              "\n",
              "    [theme=dark] .colab-df-convert:hover {\n",
              "      background-color: #434B5C;\n",
              "      box-shadow: 0px 1px 3px 1px rgba(0, 0, 0, 0.15);\n",
              "      filter: drop-shadow(0px 1px 2px rgba(0, 0, 0, 0.3));\n",
              "      fill: #FFFFFF;\n",
              "    }\n",
              "  </style>\n",
              "\n",
              "    <script>\n",
              "      const buttonEl =\n",
              "        document.querySelector('#df-b66c3a0e-69b9-466b-9e6f-6d86c7fcbdcf button.colab-df-convert');\n",
              "      buttonEl.style.display =\n",
              "        google.colab.kernel.accessAllowed ? 'block' : 'none';\n",
              "\n",
              "      async function convertToInteractive(key) {\n",
              "        const element = document.querySelector('#df-b66c3a0e-69b9-466b-9e6f-6d86c7fcbdcf');\n",
              "        const dataTable =\n",
              "          await google.colab.kernel.invokeFunction('convertToInteractive',\n",
              "                                                    [key], {});\n",
              "        if (!dataTable) return;\n",
              "\n",
              "        const docLinkHtml = 'Like what you see? Visit the ' +\n",
              "          '<a target=\"_blank\" href=https://colab.research.google.com/notebooks/data_table.ipynb>data table notebook</a>'\n",
              "          + ' to learn more about interactive tables.';\n",
              "        element.innerHTML = '';\n",
              "        dataTable['output_type'] = 'display_data';\n",
              "        await google.colab.output.renderOutput(dataTable, element);\n",
              "        const docLink = document.createElement('div');\n",
              "        docLink.innerHTML = docLinkHtml;\n",
              "        element.appendChild(docLink);\n",
              "      }\n",
              "    </script>\n",
              "  </div>\n",
              "\n",
              "\n",
              "<div id=\"df-83493e1a-8b1a-4cf0-a744-1ffb6c87bfa2\">\n",
              "  <button class=\"colab-df-quickchart\" onclick=\"quickchart('df-83493e1a-8b1a-4cf0-a744-1ffb6c87bfa2')\"\n",
              "            title=\"Suggest charts\"\n",
              "            style=\"display:none;\">\n",
              "\n",
              "<svg xmlns=\"http://www.w3.org/2000/svg\" height=\"24px\"viewBox=\"0 0 24 24\"\n",
              "     width=\"24px\">\n",
              "    <g>\n",
              "        <path d=\"M19 3H5c-1.1 0-2 .9-2 2v14c0 1.1.9 2 2 2h14c1.1 0 2-.9 2-2V5c0-1.1-.9-2-2-2zM9 17H7v-7h2v7zm4 0h-2V7h2v10zm4 0h-2v-4h2v4z\"/>\n",
              "    </g>\n",
              "</svg>\n",
              "  </button>\n",
              "\n",
              "<style>\n",
              "  .colab-df-quickchart {\n",
              "      --bg-color: #E8F0FE;\n",
              "      --fill-color: #1967D2;\n",
              "      --hover-bg-color: #E2EBFA;\n",
              "      --hover-fill-color: #174EA6;\n",
              "      --disabled-fill-color: #AAA;\n",
              "      --disabled-bg-color: #DDD;\n",
              "  }\n",
              "\n",
              "  [theme=dark] .colab-df-quickchart {\n",
              "      --bg-color: #3B4455;\n",
              "      --fill-color: #D2E3FC;\n",
              "      --hover-bg-color: #434B5C;\n",
              "      --hover-fill-color: #FFFFFF;\n",
              "      --disabled-bg-color: #3B4455;\n",
              "      --disabled-fill-color: #666;\n",
              "  }\n",
              "\n",
              "  .colab-df-quickchart {\n",
              "    background-color: var(--bg-color);\n",
              "    border: none;\n",
              "    border-radius: 50%;\n",
              "    cursor: pointer;\n",
              "    display: none;\n",
              "    fill: var(--fill-color);\n",
              "    height: 32px;\n",
              "    padding: 0;\n",
              "    width: 32px;\n",
              "  }\n",
              "\n",
              "  .colab-df-quickchart:hover {\n",
              "    background-color: var(--hover-bg-color);\n",
              "    box-shadow: 0 1px 2px rgba(60, 64, 67, 0.3), 0 1px 3px 1px rgba(60, 64, 67, 0.15);\n",
              "    fill: var(--button-hover-fill-color);\n",
              "  }\n",
              "\n",
              "  .colab-df-quickchart-complete:disabled,\n",
              "  .colab-df-quickchart-complete:disabled:hover {\n",
              "    background-color: var(--disabled-bg-color);\n",
              "    fill: var(--disabled-fill-color);\n",
              "    box-shadow: none;\n",
              "  }\n",
              "\n",
              "  .colab-df-spinner {\n",
              "    border: 2px solid var(--fill-color);\n",
              "    border-color: transparent;\n",
              "    border-bottom-color: var(--fill-color);\n",
              "    animation:\n",
              "      spin 1s steps(1) infinite;\n",
              "  }\n",
              "\n",
              "  @keyframes spin {\n",
              "    0% {\n",
              "      border-color: transparent;\n",
              "      border-bottom-color: var(--fill-color);\n",
              "      border-left-color: var(--fill-color);\n",
              "    }\n",
              "    20% {\n",
              "      border-color: transparent;\n",
              "      border-left-color: var(--fill-color);\n",
              "      border-top-color: var(--fill-color);\n",
              "    }\n",
              "    30% {\n",
              "      border-color: transparent;\n",
              "      border-left-color: var(--fill-color);\n",
              "      border-top-color: var(--fill-color);\n",
              "      border-right-color: var(--fill-color);\n",
              "    }\n",
              "    40% {\n",
              "      border-color: transparent;\n",
              "      border-right-color: var(--fill-color);\n",
              "      border-top-color: var(--fill-color);\n",
              "    }\n",
              "    60% {\n",
              "      border-color: transparent;\n",
              "      border-right-color: var(--fill-color);\n",
              "    }\n",
              "    80% {\n",
              "      border-color: transparent;\n",
              "      border-right-color: var(--fill-color);\n",
              "      border-bottom-color: var(--fill-color);\n",
              "    }\n",
              "    90% {\n",
              "      border-color: transparent;\n",
              "      border-bottom-color: var(--fill-color);\n",
              "    }\n",
              "  }\n",
              "</style>\n",
              "\n",
              "  <script>\n",
              "    async function quickchart(key) {\n",
              "      const quickchartButtonEl =\n",
              "        document.querySelector('#' + key + ' button');\n",
              "      quickchartButtonEl.disabled = true;  // To prevent multiple clicks.\n",
              "      quickchartButtonEl.classList.add('colab-df-spinner');\n",
              "      try {\n",
              "        const charts = await google.colab.kernel.invokeFunction(\n",
              "            'suggestCharts', [key], {});\n",
              "      } catch (error) {\n",
              "        console.error('Error during call to suggestCharts:', error);\n",
              "      }\n",
              "      quickchartButtonEl.classList.remove('colab-df-spinner');\n",
              "      quickchartButtonEl.classList.add('colab-df-quickchart-complete');\n",
              "    }\n",
              "    (() => {\n",
              "      let quickchartButtonEl =\n",
              "        document.querySelector('#df-83493e1a-8b1a-4cf0-a744-1ffb6c87bfa2 button');\n",
              "      quickchartButtonEl.style.display =\n",
              "        google.colab.kernel.accessAllowed ? 'block' : 'none';\n",
              "    })();\n",
              "  </script>\n",
              "</div>\n",
              "    </div>\n",
              "  </div>\n"
            ],
            "application/vnd.google.colaboratory.intrinsic+json": {
              "type": "dataframe",
              "summary": "{\n  \"name\": \"df\",\n  \"rows\": 12,\n  \"fields\": [\n    {\n      \"column\": \"Seats\",\n      \"properties\": {\n        \"dtype\": \"number\",\n        \"std\": 3,\n        \"min\": 0,\n        \"max\": 11,\n        \"num_unique_values\": 12,\n        \"samples\": [\n          10,\n          9,\n          0\n        ],\n        \"semantic_type\": \"\",\n        \"description\": \"\"\n      }\n    },\n    {\n      \"column\": \"UsedOrNew\",\n      \"properties\": {\n        \"dtype\": \"number\",\n        \"std\": 0.015438251903249243,\n        \"min\": 0.9523809523809523,\n        \"max\": 1.0129310344827587,\n        \"num_unique_values\": 8,\n        \"samples\": [\n          1.0057581573896353,\n          0.9523809523809523,\n          1.0\n        ],\n        \"semantic_type\": \"\",\n        \"description\": \"\"\n      }\n    },\n    {\n      \"column\": \"Transmission\",\n      \"properties\": {\n        \"dtype\": \"number\",\n        \"std\": 0.3111386081236045,\n        \"min\": 0.0,\n        \"max\": 1.0,\n        \"num_unique_values\": 10,\n        \"samples\": [\n          0.02172636523781562,\n          0.0,\n          0.23927392739273928\n        ],\n        \"semantic_type\": \"\",\n        \"description\": \"\"\n      }\n    },\n    {\n      \"column\": \"FuelConsumption\",\n      \"properties\": {\n        \"dtype\": \"number\",\n        \"std\": 39.193989668594845,\n        \"min\": 0.0,\n        \"max\": 114.58324597350615,\n        \"num_unique_values\": 11,\n        \"samples\": [\n          107.32178217821782,\n          0.0,\n          70.6953125\n        ],\n        \"semantic_type\": \"\",\n        \"description\": \"\"\n      }\n    },\n    {\n      \"column\": \"Kilometres\",\n      \"properties\": {\n        \"dtype\": \"number\",\n        \"std\": 0.1354531326923161,\n        \"min\": 0.007300046943806172,\n        \"max\": 0.4608456347011656,\n        \"num_unique_values\": 12,\n        \"samples\": [\n          0.2892563941336397,\n          0.20150243191807501,\n          0.4608456347011656\n        ],\n        \"semantic_type\": \"\",\n        \"description\": \"\"\n      }\n    },\n    {\n      \"column\": \"CylindersinEngine\",\n      \"properties\": {\n        \"dtype\": \"number\",\n        \"std\": 0.5957910134824199,\n        \"min\": 4.0,\n        \"max\": 6.0,\n        \"num_unique_values\": 9,\n        \"samples\": [\n          4.6241926012918375,\n          4.0,\n          4.31725912513104\n        ],\n        \"semantic_type\": \"\",\n        \"description\": \"\"\n      }\n    },\n    {\n      \"column\": \"Doors\",\n      \"properties\": {\n        \"dtype\": \"number\",\n        \"std\": 0.7286593107023454,\n        \"min\": 0.0,\n        \"max\": 2.2062327265796244,\n        \"num_unique_values\": 9,\n        \"samples\": [\n          2.0158543746330007,\n          1.0,\n          2.2062327265796244\n        ],\n        \"semantic_type\": \"\",\n        \"description\": \"\"\n      }\n    },\n    {\n      \"column\": \"Price\",\n      \"properties\": {\n        \"dtype\": \"float32\",\n        \"num_unique_values\": 12,\n        \"samples\": [\n          0.05793013051152229,\n          0.06254379451274872,\n          0.055753227323293686\n        ],\n        \"semantic_type\": \"\",\n        \"description\": \"\"\n      }\n    },\n    {\n      \"column\": \"age\",\n      \"properties\": {\n        \"dtype\": \"number\",\n        \"std\": 0.11925996340255965,\n        \"min\": 0.022222222222222223,\n        \"max\": 0.4962962962962963,\n        \"num_unique_values\": 12,\n        \"samples\": [\n          0.20208333333333334,\n          0.14133228942389248,\n          0.4962962962962963\n        ],\n        \"semantic_type\": \"\",\n        \"description\": \"\"\n      }\n    }\n  ]\n}"
            }
          },
          "metadata": {},
          "execution_count": 67
        }
      ]
    },
    {
      "cell_type": "markdown",
      "source": [
        "Maintenant qu’on a éliminé les colonnes inutiles pour la classification, passons à la modification des colonnes catégorique au numériques en utilisant les Dummy variables."
      ],
      "metadata": {
        "id": "FL4lj2OGWYov"
      }
    },
    {
      "cell_type": "code",
      "source": [
        "df.boxplot(column='Price',by='Doors')"
      ],
      "metadata": {
        "colab": {
          "base_uri": "https://localhost:8080/",
          "height": 505
        },
        "id": "pZKmoH_A9EpG",
        "outputId": "e5707fbd-d1ab-4ec2-d59e-7fe0fa2d23fd"
      },
      "execution_count": null,
      "outputs": [
        {
          "output_type": "execute_result",
          "data": {
            "text/plain": [
              "<Axes: title={'center': 'Price'}, xlabel='Doors'>"
            ]
          },
          "metadata": {},
          "execution_count": 68
        },
        {
          "output_type": "display_data",
          "data": {
            "text/plain": [
              "<Figure size 640x480 with 1 Axes>"
            ],
            "image/png": "[encoded data removed]"
          },
          "metadata": {}
        }
      ]
    },
    {
      "cell_type": "code",
      "source": [
        "df.info()"
      ],
      "metadata": {
        "colab": {
          "base_uri": "https://localhost:8080/"
        },
        "id": "uxDDxlUO-gxZ",
        "outputId": "4eb0cc96-f997-4e99-8c95-ac27a503673c"
      },
      "execution_count": null,
      "outputs": [
        {
          "output_type": "stream",
          "name": "stdout",
          "text": [
            "<class 'pandas.core.frame.DataFrame'>\n",
            "Index: 13853 entries, 0 to 14308\n",
            "Data columns (total 17 columns):\n",
            " #   Column             Non-Null Count  Dtype  \n",
            "---  ------             --------------  -----  \n",
            " 0   Brand              13853 non-null  object \n",
            " 1   Model              13853 non-null  object \n",
            " 2   Car/Suv            13853 non-null  object \n",
            " 3   UsedOrNew          13853 non-null  int64  \n",
            " 4   Transmission       13853 non-null  int64  \n",
            " 5   Engine             13853 non-null  object \n",
            " 6   DriveType          13853 non-null  object \n",
            " 7   FuelType           13853 non-null  object \n",
            " 8   FuelConsumption    13853 non-null  int64  \n",
            " 9   Kilometres         13853 non-null  float64\n",
            " 10  CylindersinEngine  13853 non-null  int64  \n",
            " 11  BodyType           13853 non-null  object \n",
            " 12  Doors              13853 non-null  int64  \n",
            " 13  Seats              13853 non-null  int64  \n",
            " 14  Price              13853 non-null  float32\n",
            " 15  age                13853 non-null  float64\n",
            " 16  Ext_Color          13853 non-null  object \n",
            "dtypes: float32(1), float64(2), int64(6), object(8)\n",
            "memory usage: 1.8+ MB\n"
          ]
        }
      ]
    },
    {
      "cell_type": "code",
      "source": [
        "df.to_csv('/content/CleanData.csv', index=False) # Exporter le jeu de données nettoyé dans un fichier CSVavec collab"
      ],
      "metadata": {
        "id": "NtsMIJZv9PtV"
      },
      "execution_count": null,
      "outputs": []
    },
    {
      "cell_type": "code",
      "source": [
        "object_cols = ['Brand','Model','Car/Suv','Engine','DriveType','FuelType','BodyType','Ext_Color']\n",
        "for col in object_cols:\n",
        "    try:\n",
        "        df[col] = lb.fit_transform(df[col])\n",
        "    except:\n",
        "        print(col)\n",
        "df.head()"
      ],
      "metadata": {
        "colab": {
          "base_uri": "https://localhost:8080/",
          "height": 226
        },
        "id": "wOe2aTw8-UdS",
        "outputId": "eac1f717-fb82-47b5-f510-84652c9199a5"
      },
      "execution_count": null,
      "outputs": [
        {
          "output_type": "execute_result",
          "data": {
            "text/plain": [
              "   Brand  Model  Car/Suv  UsedOrNew  Transmission  Engine  DriveType  \\\n",
              "0     55    495      167          0             0      27          1   \n",
              "1     36    395       71          1             0      20          2   \n",
              "2      4     54       49          1             0      25          4   \n",
              "3     41    223       49          1             0      79          4   \n",
              "4     50    106      153          1             0      18          2   \n",
              "\n",
              "   FuelType  FuelConsumption  Kilometres  CylindersinEngine  BodyType  Doors  \\\n",
              "0         0              139    0.010632                  4         6      2   \n",
              "1         4              119    0.000029                  4         3      3   \n",
              "2         4              118    0.016100                  4         2      0   \n",
              "3         4               13    0.259457                  7         2      0   \n",
              "4         5              112    0.001965                  4         6      2   \n",
              "\n",
              "   Seats     Price       age  Ext_Color  \n",
              "0      9  0.079875  0.022222         17  \n",
              "1      7  0.030628  0.022222          1  \n",
              "2      6  0.167592  0.022222          9  \n",
              "3      6  0.050635  0.266667         17  \n",
              "4      7  0.053713  0.022222          9  "
            ],
            "text/html": [
              "\n",
              "  <div id=\"df-c5436419-f5a2-498a-87f3-146d1ccac616\" class=\"colab-df-container\">\n",
              "    <div>\n",
              "<style scoped>\n",
              "    .dataframe tbody tr th:only-of-type {\n",
              "        vertical-align: middle;\n",
              "    }\n",
              "\n",
              "    .dataframe tbody tr th {\n",
              "        vertical-align: top;\n",
              "    }\n",
              "\n",
              "    .dataframe thead th {\n",
              "        text-align: right;\n",
              "    }\n",
              "</style>\n",
              "<table border=\"1\" class=\"dataframe\">\n",
              "  <thead>\n",
              "    <tr style=\"text-align: right;\">\n",
              "      <th></th>\n",
              "      <th>Brand</th>\n",
              "      <th>Model</th>\n",
              "      <th>Car/Suv</th>\n",
              "      <th>UsedOrNew</th>\n",
              "      <th>Transmission</th>\n",
              "      <th>Engine</th>\n",
              "      <th>DriveType</th>\n",
              "      <th>FuelType</th>\n",
              "      <th>FuelConsumption</th>\n",
              "      <th>Kilometres</th>\n",
              "      <th>CylindersinEngine</th>\n",
              "      <th>BodyType</th>\n",
              "      <th>Doors</th>\n",
              "      <th>Seats</th>\n",
              "      <th>Price</th>\n",
              "      <th>age</th>\n",
              "      <th>Ext_Color</th>\n",
              "    </tr>\n",
              "  </thead>\n",
              "  <tbody>\n",
              "    <tr>\n",
              "      <th>0</th>\n",
              "      <td>55</td>\n",
              "      <td>495</td>\n",
              "      <td>167</td>\n",
              "      <td>0</td>\n",
              "      <td>0</td>\n",
              "      <td>27</td>\n",
              "      <td>1</td>\n",
              "      <td>0</td>\n",
              "      <td>139</td>\n",
              "      <td>0.010632</td>\n",
              "      <td>4</td>\n",
              "      <td>6</td>\n",
              "      <td>2</td>\n",
              "      <td>9</td>\n",
              "      <td>0.079875</td>\n",
              "      <td>0.022222</td>\n",
              "      <td>17</td>\n",
              "    </tr>\n",
              "    <tr>\n",
              "      <th>1</th>\n",
              "      <td>36</td>\n",
              "      <td>395</td>\n",
              "      <td>71</td>\n",
              "      <td>1</td>\n",
              "      <td>0</td>\n",
              "      <td>20</td>\n",
              "      <td>2</td>\n",
              "      <td>4</td>\n",
              "      <td>119</td>\n",
              "      <td>0.000029</td>\n",
              "      <td>4</td>\n",
              "      <td>3</td>\n",
              "      <td>3</td>\n",
              "      <td>7</td>\n",
              "      <td>0.030628</td>\n",
              "      <td>0.022222</td>\n",
              "      <td>1</td>\n",
              "    </tr>\n",
              "    <tr>\n",
              "      <th>2</th>\n",
              "      <td>4</td>\n",
              "      <td>54</td>\n",
              "      <td>49</td>\n",
              "      <td>1</td>\n",
              "      <td>0</td>\n",
              "      <td>25</td>\n",
              "      <td>4</td>\n",
              "      <td>4</td>\n",
              "      <td>118</td>\n",
              "      <td>0.016100</td>\n",
              "      <td>4</td>\n",
              "      <td>2</td>\n",
              "      <td>0</td>\n",
              "      <td>6</td>\n",
              "      <td>0.167592</td>\n",
              "      <td>0.022222</td>\n",
              "      <td>9</td>\n",
              "    </tr>\n",
              "    <tr>\n",
              "      <th>3</th>\n",
              "      <td>41</td>\n",
              "      <td>223</td>\n",
              "      <td>49</td>\n",
              "      <td>1</td>\n",
              "      <td>0</td>\n",
              "      <td>79</td>\n",
              "      <td>4</td>\n",
              "      <td>4</td>\n",
              "      <td>13</td>\n",
              "      <td>0.259457</td>\n",
              "      <td>7</td>\n",
              "      <td>2</td>\n",
              "      <td>0</td>\n",
              "      <td>6</td>\n",
              "      <td>0.050635</td>\n",
              "      <td>0.266667</td>\n",
              "      <td>17</td>\n",
              "    </tr>\n",
              "    <tr>\n",
              "      <th>4</th>\n",
              "      <td>50</td>\n",
              "      <td>106</td>\n",
              "      <td>153</td>\n",
              "      <td>1</td>\n",
              "      <td>0</td>\n",
              "      <td>18</td>\n",
              "      <td>2</td>\n",
              "      <td>5</td>\n",
              "      <td>112</td>\n",
              "      <td>0.001965</td>\n",
              "      <td>4</td>\n",
              "      <td>6</td>\n",
              "      <td>2</td>\n",
              "      <td>7</td>\n",
              "      <td>0.053713</td>\n",
              "      <td>0.022222</td>\n",
              "      <td>9</td>\n",
              "    </tr>\n",
              "  </tbody>\n",
              "</table>\n",
              "</div>\n",
              "    <div class=\"colab-df-buttons\">\n",
              "\n",
              "  <div class=\"colab-df-container\">\n",
              "    <button class=\"colab-df-convert\" onclick=\"convertToInteractive('df-c5436419-f5a2-498a-87f3-146d1ccac616')\"\n",
              "            title=\"Convert this dataframe to an interactive table.\"\n",
              "            style=\"display:none;\">\n",
              "\n",
              "  <svg xmlns=\"http://www.w3.org/2000/svg\" height=\"24px\" viewBox=\"0 -960 960 960\">\n",
              "    <path d=\"M120-120v-720h720v720H120Zm60-500h600v-160H180v160Zm220 220h160v-160H400v160Zm0 220h160v-160H400v160ZM180-400h160v-160H180v160Zm440 0h160v-160H620v160ZM180-180h160v-160H180v160Zm440 0h160v-160H620v160Z\"/>\n",
              "  </svg>\n",
              "    </button>\n",
              "\n",
              "  <style>\n",
              "    .colab-df-container {\n",
              "      display:flex;\n",
              "      gap: 12px;\n",
              "    }\n",
              "\n",
              "    .colab-df-convert {\n",
              "      background-color: #E8F0FE;\n",
              "      border: none;\n",
              "      border-radius: 50%;\n",
              "      cursor: pointer;\n",
              "      display: none;\n",
              "      fill: #1967D2;\n",
              "      height: 32px;\n",
              "      padding: 0 0 0 0;\n",
              "      width: 32px;\n",
              "    }\n",
              "\n",
              "    .colab-df-convert:hover {\n",
              "      background-color: #E2EBFA;\n",
              "      box-shadow: 0px 1px 2px rgba(60, 64, 67, 0.3), 0px 1px 3px 1px rgba(60, 64, 67, 0.15);\n",
              "      fill: #174EA6;\n",
              "    }\n",
              "\n",
              "    .colab-df-buttons div {\n",
              "      margin-bottom: 4px;\n",
              "    }\n",
              "\n",
              "    [theme=dark] .colab-df-convert {\n",
              "      background-color: #3B4455;\n",
              "      fill: #D2E3FC;\n",
              "    }\n",
              "\n",
              "    [theme=dark] .colab-df-convert:hover {\n",
              "      background-color: #434B5C;\n",
              "      box-shadow: 0px 1px 3px 1px rgba(0, 0, 0, 0.15);\n",
              "      filter: drop-shadow(0px 1px 2px rgba(0, 0, 0, 0.3));\n",
              "      fill: #FFFFFF;\n",
              "    }\n",
              "  </style>\n",
              "\n",
              "    <script>\n",
              "      const buttonEl =\n",
              "        document.querySelector('#df-c5436419-f5a2-498a-87f3-146d1ccac616 button.colab-df-convert');\n",
              "      buttonEl.style.display =\n",
              "        google.colab.kernel.accessAllowed ? 'block' : 'none';\n",
              "\n",
              "      async function convertToInteractive(key) {\n",
              "        const element = document.querySelector('#df-c5436419-f5a2-498a-87f3-146d1ccac616');\n",
              "        const dataTable =\n",
              "          await google.colab.kernel.invokeFunction('convertToInteractive',\n",
              "                                                    [key], {});\n",
              "        if (!dataTable) return;\n",
              "\n",
              "        const docLinkHtml = 'Like what you see? Visit the ' +\n",
              "          '<a target=\"_blank\" href=https://colab.research.google.com/notebooks/data_table.ipynb>data table notebook</a>'\n",
              "          + ' to learn more about interactive tables.';\n",
              "        element.innerHTML = '';\n",
              "        dataTable['output_type'] = 'display_data';\n",
              "        await google.colab.output.renderOutput(dataTable, element);\n",
              "        const docLink = document.createElement('div');\n",
              "        docLink.innerHTML = docLinkHtml;\n",
              "        element.appendChild(docLink);\n",
              "      }\n",
              "    </script>\n",
              "  </div>\n",
              "\n",
              "\n",
              "<div id=\"df-e372a829-286e-4b1f-9f9e-9c062db2bbcc\">\n",
              "  <button class=\"colab-df-quickchart\" onclick=\"quickchart('df-e372a829-286e-4b1f-9f9e-9c062db2bbcc')\"\n",
              "            title=\"Suggest charts\"\n",
              "            style=\"display:none;\">\n",
              "\n",
              "<svg xmlns=\"http://www.w3.org/2000/svg\" height=\"24px\"viewBox=\"0 0 24 24\"\n",
              "     width=\"24px\">\n",
              "    <g>\n",
              "        <path d=\"M19 3H5c-1.1 0-2 .9-2 2v14c0 1.1.9 2 2 2h14c1.1 0 2-.9 2-2V5c0-1.1-.9-2-2-2zM9 17H7v-7h2v7zm4 0h-2V7h2v10zm4 0h-2v-4h2v4z\"/>\n",
              "    </g>\n",
              "</svg>\n",
              "  </button>\n",
              "\n",
              "<style>\n",
              "  .colab-df-quickchart {\n",
              "      --bg-color: #E8F0FE;\n",
              "      --fill-color: #1967D2;\n",
              "      --hover-bg-color: #E2EBFA;\n",
              "      --hover-fill-color: #174EA6;\n",
              "      --disabled-fill-color: #AAA;\n",
              "      --disabled-bg-color: #DDD;\n",
              "  }\n",
              "\n",
              "  [theme=dark] .colab-df-quickchart {\n",
              "      --bg-color: #3B4455;\n",
              "      --fill-color: #D2E3FC;\n",
              "      --hover-bg-color: #434B5C;\n",
              "      --hover-fill-color: #FFFFFF;\n",
              "      --disabled-bg-color: #3B4455;\n",
              "      --disabled-fill-color: #666;\n",
              "  }\n",
              "\n",
              "  .colab-df-quickchart {\n",
              "    background-color: var(--bg-color);\n",
              "    border: none;\n",
              "    border-radius: 50%;\n",
              "    cursor: pointer;\n",
              "    display: none;\n",
              "    fill: var(--fill-color);\n",
              "    height: 32px;\n",
              "    padding: 0;\n",
              "    width: 32px;\n",
              "  }\n",
              "\n",
              "  .colab-df-quickchart:hover {\n",
              "    background-color: var(--hover-bg-color);\n",
              "    box-shadow: 0 1px 2px rgba(60, 64, 67, 0.3), 0 1px 3px 1px rgba(60, 64, 67, 0.15);\n",
              "    fill: var(--button-hover-fill-color);\n",
              "  }\n",
              "\n",
              "  .colab-df-quickchart-complete:disabled,\n",
              "  .colab-df-quickchart-complete:disabled:hover {\n",
              "    background-color: var(--disabled-bg-color);\n",
              "    fill: var(--disabled-fill-color);\n",
              "    box-shadow: none;\n",
              "  }\n",
              "\n",
              "  .colab-df-spinner {\n",
              "    border: 2px solid var(--fill-color);\n",
              "    border-color: transparent;\n",
              "    border-bottom-color: var(--fill-color);\n",
              "    animation:\n",
              "      spin 1s steps(1) infinite;\n",
              "  }\n",
              "\n",
              "  @keyframes spin {\n",
              "    0% {\n",
              "      border-color: transparent;\n",
              "      border-bottom-color: var(--fill-color);\n",
              "      border-left-color: var(--fill-color);\n",
              "    }\n",
              "    20% {\n",
              "      border-color: transparent;\n",
              "      border-left-color: var(--fill-color);\n",
              "      border-top-color: var(--fill-color);\n",
              "    }\n",
              "    30% {\n",
              "      border-color: transparent;\n",
              "      border-left-color: var(--fill-color);\n",
              "      border-top-color: var(--fill-color);\n",
              "      border-right-color: var(--fill-color);\n",
              "    }\n",
              "    40% {\n",
              "      border-color: transparent;\n",
              "      border-right-color: var(--fill-color);\n",
              "      border-top-color: var(--fill-color);\n",
              "    }\n",
              "    60% {\n",
              "      border-color: transparent;\n",
              "      border-right-color: var(--fill-color);\n",
              "    }\n",
              "    80% {\n",
              "      border-color: transparent;\n",
              "      border-right-color: var(--fill-color);\n",
              "      border-bottom-color: var(--fill-color);\n",
              "    }\n",
              "    90% {\n",
              "      border-color: transparent;\n",
              "      border-bottom-color: var(--fill-color);\n",
              "    }\n",
              "  }\n",
              "</style>\n",
              "\n",
              "  <script>\n",
              "    async function quickchart(key) {\n",
              "      const quickchartButtonEl =\n",
              "        document.querySelector('#' + key + ' button');\n",
              "      quickchartButtonEl.disabled = true;  // To prevent multiple clicks.\n",
              "      quickchartButtonEl.classList.add('colab-df-spinner');\n",
              "      try {\n",
              "        const charts = await google.colab.kernel.invokeFunction(\n",
              "            'suggestCharts', [key], {});\n",
              "      } catch (error) {\n",
              "        console.error('Error during call to suggestCharts:', error);\n",
              "      }\n",
              "      quickchartButtonEl.classList.remove('colab-df-spinner');\n",
              "      quickchartButtonEl.classList.add('colab-df-quickchart-complete');\n",
              "    }\n",
              "    (() => {\n",
              "      let quickchartButtonEl =\n",
              "        document.querySelector('#df-e372a829-286e-4b1f-9f9e-9c062db2bbcc button');\n",
              "      quickchartButtonEl.style.display =\n",
              "        google.colab.kernel.accessAllowed ? 'block' : 'none';\n",
              "    })();\n",
              "  </script>\n",
              "</div>\n",
              "    </div>\n",
              "  </div>\n"
            ],
            "application/vnd.google.colaboratory.intrinsic+json": {
              "type": "dataframe",
              "variable_name": "df",
              "summary": "{\n  \"name\": \"df\",\n  \"rows\": 13853,\n  \"fields\": [\n    {\n      \"column\": \"Brand\",\n      \"properties\": {\n        \"dtype\": \"number\",\n        \"std\": 16,\n        \"min\": 0,\n        \"max\": 61,\n        \"num_unique_values\": 62,\n        \"samples\": [\n          33,\n          11,\n          55\n        ],\n        \"semantic_type\": \"\",\n        \"description\": \"\"\n      }\n    },\n    {\n      \"column\": \"Model\",\n      \"properties\": {\n        \"dtype\": \"number\",\n        \"std\": 168,\n        \"min\": 0,\n        \"max\": 620,\n        \"num_unique_values\": 621,\n        \"samples\": [\n          21,\n          368,\n          177\n        ],\n        \"semantic_type\": \"\",\n        \"description\": \"\"\n      }\n    },\n    {\n      \"column\": \"Car/Suv\",\n      \"properties\": {\n        \"dtype\": \"number\",\n        \"std\": 45,\n        \"min\": 0,\n        \"max\": 199,\n        \"num_unique_values\": 200,\n        \"samples\": [\n          197,\n          179,\n          8\n        ],\n        \"semantic_type\": \"\",\n        \"description\": \"\"\n      }\n    },\n    {\n      \"column\": \"UsedOrNew\",\n      \"properties\": {\n        \"dtype\": \"number\",\n        \"std\": 0,\n        \"min\": 0,\n        \"max\": 2,\n        \"num_unique_values\": 3,\n        \"samples\": [\n          0,\n          1,\n          2\n        ],\n        \"semantic_type\": \"\",\n        \"description\": \"\"\n      }\n    },\n    {\n      \"column\": \"Transmission\",\n      \"properties\": {\n        \"dtype\": \"number\",\n        \"std\": 0,\n        \"min\": 0,\n        \"max\": 1,\n        \"num_unique_values\": 2,\n        \"samples\": [\n          1,\n          0\n        ],\n        \"semantic_type\": \"\",\n        \"description\": \"\"\n      }\n    },\n    {\n      \"column\": \"Engine\",\n      \"properties\": {\n        \"dtype\": \"number\",\n        \"std\": 14,\n        \"min\": 0,\n        \"max\": 87,\n        \"num_unique_values\": 88,\n        \"samples\": [\n          31,\n          27\n        ],\n        \"semantic_type\": \"\",\n        \"description\": \"\"\n      }\n    },\n    {\n      \"column\": \"DriveType\",\n      \"properties\": {\n        \"dtype\": \"number\",\n        \"std\": 1,\n        \"min\": 0,\n        \"max\": 4,\n        \"num_unique_values\": 5,\n        \"samples\": [\n          2,\n          3\n        ],\n        \"semantic_type\": \"\",\n        \"description\": \"\"\n      }\n    },\n    {\n      \"column\": \"FuelType\",\n      \"properties\": {\n        \"dtype\": \"number\",\n        \"std\": 2,\n        \"min\": 0,\n        \"max\": 5,\n        \"num_unique_values\": 6,\n        \"samples\": [\n          0,\n          4\n        ],\n        \"semantic_type\": \"\",\n        \"description\": \"\"\n      }\n    },\n    {\n      \"column\": \"FuelConsumption\",\n      \"properties\": {\n        \"dtype\": \"number\",\n        \"std\": 38,\n        \"min\": 0,\n        \"max\": 151,\n        \"num_unique_values\": 152,\n        \"samples\": [\n          5,\n          50\n        ],\n        \"semantic_type\": \"\",\n        \"description\": \"\"\n      }\n    },\n    {\n      \"column\": \"Kilometres\",\n      \"properties\": {\n        \"dtype\": \"number\",\n        \"std\": 0.14689244873503698,\n        \"min\": 0.0,\n        \"max\": 1.0,\n        \"num_unique_values\": 12586,\n        \"samples\": [\n          0.15354615792504575,\n          0.2245339354304101\n        ],\n        \"semantic_type\": \"\",\n        \"description\": \"\"\n      }\n    },\n    {\n      \"column\": \"CylindersinEngine\",\n      \"properties\": {\n        \"dtype\": \"number\",\n        \"std\": 0,\n        \"min\": 0,\n        \"max\": 7,\n        \"num_unique_values\": 8,\n        \"samples\": [\n          7,\n          1\n        ],\n        \"semantic_type\": \"\",\n        \"description\": \"\"\n      }\n    },\n    {\n      \"column\": \"BodyType\",\n      \"properties\": {\n        \"dtype\": \"number\",\n        \"std\": 1,\n        \"min\": 0,\n        \"max\": 9,\n        \"num_unique_values\": 10,\n        \"samples\": [\n          9,\n          3\n        ],\n        \"semantic_type\": \"\",\n        \"description\": \"\"\n      }\n    },\n    {\n      \"column\": \"Doors\",\n      \"properties\": {\n        \"dtype\": \"number\",\n        \"std\": 0,\n        \"min\": 0,\n        \"max\": 3,\n        \"num_unique_values\": 4,\n        \"samples\": [\n          3,\n          1\n        ],\n        \"semantic_type\": \"\",\n        \"description\": \"\"\n      }\n    },\n    {\n      \"column\": \"Seats\",\n      \"properties\": {\n        \"dtype\": \"number\",\n        \"std\": 1,\n        \"min\": 0,\n        \"max\": 11,\n        \"num_unique_values\": 12,\n        \"samples\": [\n          1,\n          0\n        ],\n        \"semantic_type\": \"\",\n        \"description\": \"\"\n      }\n    },\n    {\n      \"column\": \"Price\",\n      \"properties\": {\n        \"dtype\": \"float32\",\n        \"num_unique_values\": 3060,\n        \"samples\": [\n          0.03520357236266136,\n          0.018316632136702538\n        ],\n        \"semantic_type\": \"\",\n        \"description\": \"\"\n      }\n    },\n    {\n      \"column\": \"age\",\n      \"properties\": {\n        \"dtype\": \"number\",\n        \"std\": 0.10800636783308414,\n        \"min\": 0.0,\n        \"max\": 1.0,\n        \"num_unique_values\": 39,\n        \"samples\": [\n          0.6666666666666667,\n          0.8666666666666667\n        ],\n        \"semantic_type\": \"\",\n        \"description\": \"\"\n      }\n    },\n    {\n      \"column\": \"Ext_Color\",\n      \"properties\": {\n        \"dtype\": \"number\",\n        \"std\": 6,\n        \"min\": 0,\n        \"max\": 18,\n        \"num_unique_values\": 19,\n        \"samples\": [\n          17,\n          15\n        ],\n        \"semantic_type\": \"\",\n        \"description\": \"\"\n      }\n    }\n  ]\n}"
            }
          },
          "metadata": {},
          "execution_count": 71
        }
      ]
    },
    {
      "cell_type": "code",
      "source": [
        "df.info()"
      ],
      "metadata": {
        "colab": {
          "base_uri": "https://localhost:8080/"
        },
        "id": "Ngs2qnK2--Ux",
        "outputId": "223e5df3-8c4e-479a-bd59-ad6c683aedad"
      },
      "execution_count": null,
      "outputs": [
        {
          "output_type": "stream",
          "name": "stdout",
          "text": [
            "<class 'pandas.core.frame.DataFrame'>\n",
            "Index: 13853 entries, 0 to 14308\n",
            "Data columns (total 17 columns):\n",
            " #   Column             Non-Null Count  Dtype  \n",
            "---  ------             --------------  -----  \n",
            " 0   Brand              13853 non-null  int64  \n",
            " 1   Model              13853 non-null  int64  \n",
            " 2   Car/Suv            13853 non-null  int64  \n",
            " 3   UsedOrNew          13853 non-null  int64  \n",
            " 4   Transmission       13853 non-null  int64  \n",
            " 5   Engine             13853 non-null  int64  \n",
            " 6   DriveType          13853 non-null  int64  \n",
            " 7   FuelType           13853 non-null  int64  \n",
            " 8   FuelConsumption    13853 non-null  int64  \n",
            " 9   Kilometres         13853 non-null  float64\n",
            " 10  CylindersinEngine  13853 non-null  int64  \n",
            " 11  BodyType           13853 non-null  int64  \n",
            " 12  Doors              13853 non-null  int64  \n",
            " 13  Seats              13853 non-null  int64  \n",
            " 14  Price              13853 non-null  float32\n",
            " 15  age                13853 non-null  float64\n",
            " 16  Ext_Color          13853 non-null  int64  \n",
            "dtypes: float32(1), float64(2), int64(14)\n",
            "memory usage: 1.8 MB\n"
          ]
        }
      ]
    },
    {
      "cell_type": "code",
      "source": [
        "plt.figure(figsize=(16, 8))\n",
        "sns.heatmap(df.corr(),annot=True, cmap='coolwarm', fmt=\".2f\")\n",
        "plt.title('matrice de correlation')\n",
        "plt.show()"
      ],
      "metadata": {
        "colab": {
          "base_uri": "https://localhost:8080/",
          "height": 826
        },
        "id": "_ucnPghZ_4eQ",
        "outputId": "fc355959-fd56-4a71-ed7b-f7b35e2c741a"
      },
      "execution_count": null,
      "outputs": [
        {
          "output_type": "display_data",
          "data": {
            "text/plain": [
              "<Figure size 1600x800 with 2 Axes>"
            ],
            "image/png": "[encoded data removed]"
          },
          "metadata": {}
        }
      ]
    },
    {
      "cell_type": "code",
      "source": [
        "df.columns"
      ],
      "metadata": {
        "colab": {
          "base_uri": "https://localhost:8080/"
        },
        "id": "EhTARnQnl9Ep",
        "outputId": "f7395e11-08e6-40a5-adfc-85920ff4ea91"
      },
      "execution_count": null,
      "outputs": [
        {
          "output_type": "execute_result",
          "data": {
            "text/plain": [
              "Index(['Brand', 'Model', 'Car/Suv', 'UsedOrNew', 'Transmission', 'Engine',\n",
              "       'DriveType', 'FuelType', 'FuelConsumption', 'Kilometres',\n",
              "       'CylindersinEngine', 'BodyType', 'Doors', 'Seats', 'Price', 'age',\n",
              "       'Ext_Color'],\n",
              "      dtype='object')"
            ]
          },
          "metadata": {},
          "execution_count": 75
        }
      ]
    },
    {
      "cell_type": "markdown",
      "source": [
        "-------Implementation\n",
        "\n",
        "\n"
      ],
      "metadata": {
        "id": "Ix7RIsW_9_um"
      }
    },
    {
      "cell_type": "code",
      "source": [
        "df.shape"
      ],
      "metadata": {
        "colab": {
          "base_uri": "https://localhost:8080/"
        },
        "id": "lxEN1m04oDQ6",
        "outputId": "e4720d56-dbc0-46f8-b192-4d07ad64016c"
      },
      "execution_count": null,
      "outputs": [
        {
          "output_type": "execute_result",
          "data": {
            "text/plain": [
              "(13853, 17)"
            ]
          },
          "metadata": {},
          "execution_count": 76
        }
      ]
    },
    {
      "cell_type": "code",
      "source": [
        "from sklearn.linear_model import LinearRegression\n",
        "from sklearn.tree import DecisionTreeRegressor\n",
        "from sklearn.ensemble import RandomForestRegressor\n",
        "from sklearn.model_selection import train_test_split\n",
        "\n",
        "# Preprocess the data\n",
        "X = df.drop(columns=[\"Price\",\"Brand\",\"Model\",\"UsedOrNew\",\"BodyType\",\"Seats\",\"Ext_Color\",'Car/Suv', 'age','CylindersinEngine'])\n",
        "y = df['Price']\n",
        "\n",
        "# Split the data into training and testing sets\n",
        "X_train, X_test, y_train, y_test = train_test_split(X, y, test_size=0.3, random_state=1)\n",
        "X_train.shape, y_test.shape\n",
        "\n",
        "# Implement regression\n",
        "lr_regressor = LinearRegression()\n",
        "lr_regressor.fit(X_train, y_train)\n",
        "print(\"Linear Regression score:\", lr_regressor.score(X_test, y_test))\n",
        "\n",
        "ylrs=lr_regressor.predict(X_test)\n",
        "# Calculate RMSE for LinearRegression\n",
        "\n",
        "from sklearn.metrics import mean_squared_error\n",
        "rmse=np.sqrt(mean_squared_error(y_test,ylrs))\n",
        "print(\"RMSE for LinearRegression:\", rmse)\n",
        "# Use DecisionTreeRegressor\n",
        "\n",
        "dt_regressor = DecisionTreeRegressor(random_state=42)\n",
        "dt_regressor.fit(X_train, y_train)\n",
        "print(\"Decision Tree Regression score:\", dt_regressor.score(X_test, y_test))\n",
        "\n",
        "\n",
        "# Calculate RMSE for DecisionTreeRegressor\n",
        "y_pred_dt = dt_regressor.predict(X_test)\n",
        "rmse_dt = np.sqrt(mean_squared_error(y_test, y_pred_dt))\n",
        "print(\"RMSE for DecisionTreeRegressor:\", rmse_dt)\n",
        "\n",
        "# Use Random Forest Regression\n",
        "rf_regressor = RandomForestRegressor(n_estimators=100, random_state=1)\n",
        "rf_regressor.fit(X_train, y_train)\n",
        "rf_score = rf_regressor.score(X_test, y_test)\n",
        "print(\"Random Forest Regression score:\", rf_score)\n",
        "\n",
        "# Calculate RMSE for Random Forest\n",
        "y_pred_rf = rf_regressor.predict(X_test)\n",
        "rmse_rf = np.sqrt(mean_squared_error(y_test, y_pred_rf))\n",
        "print(\"RMSE for Random Forest:\", rmse_rf)"
      ],
      "metadata": {
        "colab": {
          "base_uri": "https://localhost:8080/"
        },
        "id": "mu_kzLHK3Gix",
        "outputId": "6abe5ece-564f-4ee5-ab4c-70f49f7572a0"
      },
      "execution_count": null,
      "outputs": [
        {
          "output_type": "stream",
          "name": "stdout",
          "text": [
            "Linear Regression score: 0.4549488187886782\n",
            "RMSE for LinearRegression: 0.031247250502142894\n",
            "Decision Tree Regression score: 0.47300346999974896\n",
            "RMSE for DecisionTreeRegressor: 0.030725364542038367\n",
            "Random Forest Regression score: 0.7823734188767835\n",
            "RMSE for Random Forest: 0.019744636201412487\n"
          ]
        }
      ]
    },
    {
      "cell_type": "markdown",
      "source": [
        "**----------------- Optimisation des hyper paramètres :**"
      ],
      "metadata": {
        "id": "e5fWEFYaNprO"
      }
    },
    {
      "cell_type": "code",
      "source": [
        "from sklearn.preprocessing import PolynomialFeatures\n",
        "\n",
        "# Adding polynomial features\n",
        "poly = PolynomialFeatures(degree=2)\n",
        "xtrain_poly = poly.fit_transform(X_train)\n",
        "xtest_poly=poly.fit_transform(X_test)\n",
        "lr_regressor.fit(xtrain_poly,y_train)\n",
        "\n",
        "ylrs=lr_regressor.predict(xtest_poly)\n",
        "\n",
        "rmse_poly=np.sqrt(mean_squared_error(y_test,ylrs))\n",
        "print(rmse_poly)"
      ],
      "metadata": {
        "id": "AJEF_z36UtVX",
        "colab": {
          "base_uri": "https://localhost:8080/"
        },
        "outputId": "4f01520a-91a0-45b5-f702-4112fbed9849"
      },
      "execution_count": null,
      "outputs": [
        {
          "output_type": "stream",
          "name": "stdout",
          "text": [
            "0.027533650024712173\n"
          ]
        }
      ]
    },
    {
      "cell_type": "code",
      "source": [
        "from sklearn.preprocessing import PolynomialFeatures\n",
        "\n",
        "# Adding polynomial features\n",
        "poly = PolynomialFeatures(degree=3)\n",
        "xtrain_poly = poly.fit_transform(X_train)\n",
        "xtest_poly=poly.fit_transform(X_test)\n",
        "lr_regressor.fit(xtrain_poly,y_train)\n",
        "\n",
        "ylrs=lr_regressor.predict(xtest_poly)\n",
        "\n",
        "rmse_poly=np.sqrt(mean_squared_error(y_test,ylrs))\n",
        "print(rmse_poly)"
      ],
      "metadata": {
        "colab": {
          "base_uri": "https://localhost:8080/"
        },
        "id": "x8Mb2s_AxJEc",
        "outputId": "85d69351-3b6d-4b48-cd66-abffefe17ede"
      },
      "execution_count": null,
      "outputs": [
        {
          "output_type": "stream",
          "name": "stdout",
          "text": [
            "0.0258504110059604\n"
          ]
        }
      ]
    },
    {
      "cell_type": "code",
      "source": [
        "hypr1 = lr_regressor.get_params()\n",
        "\n",
        "print(\"Hyperparamètres du lr_regressor :\")\n",
        "for param, value in hypr1.items():\n",
        "    print(f\"{param}: {value}\")\n"
      ],
      "metadata": {
        "colab": {
          "base_uri": "https://localhost:8080/"
        },
        "id": "CdUfgfVCNtlj",
        "outputId": "6328d4ee-42bf-48f8-8d88-78e0f14bb3f5"
      },
      "execution_count": null,
      "outputs": [
        {
          "output_type": "stream",
          "name": "stdout",
          "text": [
            "Hyperparamètres du lr_regressor :\n",
            "copy_X: True\n",
            "fit_intercept: True\n",
            "n_jobs: None\n",
            "positive: False\n"
          ]
        }
      ]
    },
    {
      "cell_type": "code",
      "source": [
        "hypr2=dt_regressor.get_params()\n",
        "print(\"Hyperparamètres du dt_regressor :\")\n",
        "for param, value in hypr2.items():\n",
        "    print(f\"{param}: {value}\")\n"
      ],
      "metadata": {
        "colab": {
          "base_uri": "https://localhost:8080/"
        },
        "id": "5hAqigvQO_bc",
        "outputId": "55b871d6-653a-4ee4-981d-e3cba1fc5f6b"
      },
      "execution_count": null,
      "outputs": [
        {
          "output_type": "stream",
          "name": "stdout",
          "text": [
            "Hyperparamètres du dt_regressor :\n",
            "ccp_alpha: 0.0\n",
            "criterion: squared_error\n",
            "max_depth: None\n",
            "max_features: None\n",
            "max_leaf_nodes: None\n",
            "min_impurity_decrease: 0.0\n",
            "min_samples_leaf: 1\n",
            "min_samples_split: 2\n",
            "min_weight_fraction_leaf: 0.0\n",
            "random_state: 42\n",
            "splitter: best\n"
          ]
        }
      ]
    },
    {
      "cell_type": "code",
      "source": [
        "hypr3=rf_regressor.get_params()\n",
        "print(\"Hyperparamètres du rf_regressor :\")\n",
        "for param, value in hypr3.items():\n",
        "    print(f\"{param}: {value}\")\n"
      ],
      "metadata": {
        "colab": {
          "base_uri": "https://localhost:8080/"
        },
        "id": "bCvO7CgePbMq",
        "outputId": "bf7cb367-b7a0-4af5-fbe1-bd9f19f9aeac"
      },
      "execution_count": null,
      "outputs": [
        {
          "output_type": "stream",
          "name": "stdout",
          "text": [
            "Hyperparamètres du rf_regressor :\n",
            "bootstrap: True\n",
            "ccp_alpha: 0.0\n",
            "criterion: squared_error\n",
            "max_depth: None\n",
            "max_features: 1.0\n",
            "max_leaf_nodes: None\n",
            "max_samples: None\n",
            "min_impurity_decrease: 0.0\n",
            "min_samples_leaf: 1\n",
            "min_samples_split: 2\n",
            "min_weight_fraction_leaf: 0.0\n",
            "n_estimators: 100\n",
            "n_jobs: None\n",
            "oob_score: False\n",
            "random_state: 1\n",
            "verbose: 0\n",
            "warm_start: False\n"
          ]
        }
      ]
    },
    {
      "cell_type": "code",
      "source": [
        "from sklearn.model_selection import GridSearchCV\n",
        "\n",
        "#  Hyperparameter tuning for Random Forest Regression\n",
        "param_grid = {'n_estimators': [100, 200, 300],\n",
        "              'max_depth': [None, 10, 20]}\n",
        "rf_regressor_grid = GridSearchCV(RandomForestRegressor(random_state=1), param_grid, cv=5)\n",
        "rf_regressor_grid.fit(X_train, y_train)\n",
        "print(\"Best parameters:\", rf_regressor_grid.best_params_)\n",
        "print(\"Random Forest Regression score (after tuning):\", rf_regressor_grid.score(X_test, y_test))\n"
      ],
      "metadata": {
        "colab": {
          "base_uri": "https://localhost:8080/"
        },
        "id": "vSL84WNvPibd",
        "outputId": "6b8c639f-7071-4568-f7b0-665f268c999a"
      },
      "execution_count": null,
      "outputs": [
        {
          "output_type": "stream",
          "name": "stdout",
          "text": [
            "Best parameters: {'max_depth': 20, 'n_estimators': 300}\n",
            "Random Forest Regression score (after tuning): 0.7837476590015878\n"
          ]
        }
      ]
    },
    {
      "cell_type": "code",
      "source": [
        "df.to_csv('/content/CleanData.csv', index=False) # Exporter le jeu de données nettoyé dans un fichier CSVavec collab"
      ],
      "metadata": {
        "id": "mdwR_NRkbjlw"
      },
      "execution_count": null,
      "outputs": []
    }
  ]
}